{
 "cells": [
  {
   "cell_type": "markdown",
   "metadata": {},
   "source": [
    "# <span style=\"color:red\">Car Accident Severity</span>"
   ]
  },
  {
   "cell_type": "markdown",
   "metadata": {},
   "source": [
    "### <span style=\"color:blue\"> Import packages</span>"
   ]
  },
  {
   "cell_type": "code",
   "execution_count": 43,
   "metadata": {},
   "outputs": [],
   "source": [
    "# Import packages\n",
    "\n",
    "import pandas as pd\n",
    "import numpy as np\n",
    "\n",
    "import seaborn as sns\n",
    "sns.set(style=\"white\", color_codes=True)\n",
    "\n",
    "import matplotlib\n",
    "import matplotlib.pyplot as plt\n",
    "from matplotlib.pyplot import figure"
   ]
  },
  {
   "cell_type": "code",
   "execution_count": 2,
   "metadata": {},
   "outputs": [],
   "source": [
    "#!conda install -c conda-forge geopy --yes \n",
    "from geopy.geocoders import Nominatim # module to convert an address into latitude and longitude values\n",
    "\n",
    "# libraries for displaying images\n",
    "from IPython.display import Image \n",
    "from IPython.core.display import HTML \n",
    "    \n",
    "# tranforming json file into a pandas dataframe library\n",
    "from pandas.io.json import json_normalize\n",
    "\n",
    "#!conda install -c conda-forge folium=0.5.0 --yes\n",
    "import folium # plotting library\n",
    "\n",
    "import warnings # current version of seaborn generates a bunch of warnings \n",
    "                # that we'll ignore\n",
    "warnings.filterwarnings(\"ignore\")\n",
    "\n",
    "from collections import Counter\n",
    "import time\n",
    "import random"
   ]
  },
  {
   "cell_type": "code",
   "execution_count": 3,
   "metadata": {},
   "outputs": [],
   "source": [
    "# IMPORT SKLEARN PACKAGES \n",
    "\n",
    "from sklearn import datasets\n",
    "from sklearn import linear_model\n",
    "from sklearn.pipeline import Pipeline\n",
    "\n",
    "# IMPORT PREPROCESSING\n",
    "\n",
    "from sklearn import preprocessing\n",
    "from sklearn.preprocessing import StandardScaler\n",
    "from sklearn.preprocessing import LabelEncoder\n",
    "\n",
    "# IMPORT MODEL AND FEATURE SELECTION\n",
    "\n",
    "from sklearn.model_selection import train_test_split, GridSearchCV, cross_val_score\n",
    "from sklearn.feature_selection import RFE, SelectFromModel\n",
    "\n",
    "# IMPORT CLASSIFIER MODELS\n",
    "\n",
    "from sklearn.linear_model import LogisticRegression\n",
    "from sklearn.neighbors import KNeighborsClassifier\n",
    "from sklearn.svm import SVC, LinearSVC\n",
    "from sklearn.tree import DecisionTreeClassifier\n",
    "from sklearn.ensemble import RandomForestClassifier"
   ]
  },
  {
   "cell_type": "code",
   "execution_count": 4,
   "metadata": {},
   "outputs": [],
   "source": [
    "# IMPORT METRICS\n",
    "from sklearn import metrics\n",
    "from sklearn.metrics import classification_report, confusion_matrix\n",
    "from sklearn.metrics import roc_curve, auc, roc_auc_score\n",
    "from sklearn.metrics import mean_squared_error, r2_score\n",
    "\n",
    "# SAMPLING MODELS\n",
    "from imblearn.over_sampling import RandomOverSampler, SMOTE, ADASYN\n",
    "from imblearn.under_sampling import RandomUnderSampler\n",
    "\n",
    "# IMPORT DECOMPOSITION\n",
    "from sklearn import decomposition\n",
    "from sklearn.decomposition import PCA\n",
    "from sklearn.decomposition import IncrementalPCA"
   ]
  },
  {
   "cell_type": "markdown",
   "metadata": {},
   "source": [
    "### <span style=\"color:blue\"> Load Dataset</span>"
   ]
  },
  {
   "cell_type": "code",
   "execution_count": 5,
   "metadata": {},
   "outputs": [
    {
     "data": {
      "text/html": [
       "<div>\n",
       "<style scoped>\n",
       "    .dataframe tbody tr th:only-of-type {\n",
       "        vertical-align: middle;\n",
       "    }\n",
       "\n",
       "    .dataframe tbody tr th {\n",
       "        vertical-align: top;\n",
       "    }\n",
       "\n",
       "    .dataframe thead th {\n",
       "        text-align: right;\n",
       "    }\n",
       "</style>\n",
       "<table border=\"1\" class=\"dataframe\">\n",
       "  <thead>\n",
       "    <tr style=\"text-align: right;\">\n",
       "      <th></th>\n",
       "      <th>SEVERITYCODE</th>\n",
       "      <th>X</th>\n",
       "      <th>Y</th>\n",
       "      <th>OBJECTID</th>\n",
       "      <th>INCKEY</th>\n",
       "      <th>COLDETKEY</th>\n",
       "      <th>REPORTNO</th>\n",
       "      <th>STATUS</th>\n",
       "      <th>ADDRTYPE</th>\n",
       "      <th>INTKEY</th>\n",
       "      <th>...</th>\n",
       "      <th>ROADCOND</th>\n",
       "      <th>LIGHTCOND</th>\n",
       "      <th>PEDROWNOTGRNT</th>\n",
       "      <th>SDOTCOLNUM</th>\n",
       "      <th>SPEEDING</th>\n",
       "      <th>ST_COLCODE</th>\n",
       "      <th>ST_COLDESC</th>\n",
       "      <th>SEGLANEKEY</th>\n",
       "      <th>CROSSWALKKEY</th>\n",
       "      <th>HITPARKEDCAR</th>\n",
       "    </tr>\n",
       "  </thead>\n",
       "  <tbody>\n",
       "    <tr>\n",
       "      <th>0</th>\n",
       "      <td>2</td>\n",
       "      <td>-122.323148</td>\n",
       "      <td>47.703140</td>\n",
       "      <td>1</td>\n",
       "      <td>1307</td>\n",
       "      <td>1307</td>\n",
       "      <td>3502005</td>\n",
       "      <td>Matched</td>\n",
       "      <td>Intersection</td>\n",
       "      <td>37475.0</td>\n",
       "      <td>...</td>\n",
       "      <td>Wet</td>\n",
       "      <td>Daylight</td>\n",
       "      <td>NaN</td>\n",
       "      <td>NaN</td>\n",
       "      <td>NaN</td>\n",
       "      <td>10</td>\n",
       "      <td>Entering at angle</td>\n",
       "      <td>0</td>\n",
       "      <td>0</td>\n",
       "      <td>N</td>\n",
       "    </tr>\n",
       "    <tr>\n",
       "      <th>1</th>\n",
       "      <td>1</td>\n",
       "      <td>-122.347294</td>\n",
       "      <td>47.647172</td>\n",
       "      <td>2</td>\n",
       "      <td>52200</td>\n",
       "      <td>52200</td>\n",
       "      <td>2607959</td>\n",
       "      <td>Matched</td>\n",
       "      <td>Block</td>\n",
       "      <td>NaN</td>\n",
       "      <td>...</td>\n",
       "      <td>Wet</td>\n",
       "      <td>Dark - Street Lights On</td>\n",
       "      <td>NaN</td>\n",
       "      <td>6354039.0</td>\n",
       "      <td>NaN</td>\n",
       "      <td>11</td>\n",
       "      <td>From same direction - both going straight - bo...</td>\n",
       "      <td>0</td>\n",
       "      <td>0</td>\n",
       "      <td>N</td>\n",
       "    </tr>\n",
       "    <tr>\n",
       "      <th>2</th>\n",
       "      <td>1</td>\n",
       "      <td>-122.334540</td>\n",
       "      <td>47.607871</td>\n",
       "      <td>3</td>\n",
       "      <td>26700</td>\n",
       "      <td>26700</td>\n",
       "      <td>1482393</td>\n",
       "      <td>Matched</td>\n",
       "      <td>Block</td>\n",
       "      <td>NaN</td>\n",
       "      <td>...</td>\n",
       "      <td>Dry</td>\n",
       "      <td>Daylight</td>\n",
       "      <td>NaN</td>\n",
       "      <td>4323031.0</td>\n",
       "      <td>NaN</td>\n",
       "      <td>32</td>\n",
       "      <td>One parked--one moving</td>\n",
       "      <td>0</td>\n",
       "      <td>0</td>\n",
       "      <td>N</td>\n",
       "    </tr>\n",
       "  </tbody>\n",
       "</table>\n",
       "<p>3 rows × 38 columns</p>\n",
       "</div>"
      ],
      "text/plain": [
       "   SEVERITYCODE           X          Y  OBJECTID  INCKEY  COLDETKEY REPORTNO  \\\n",
       "0             2 -122.323148  47.703140         1    1307       1307  3502005   \n",
       "1             1 -122.347294  47.647172         2   52200      52200  2607959   \n",
       "2             1 -122.334540  47.607871         3   26700      26700  1482393   \n",
       "\n",
       "    STATUS      ADDRTYPE   INTKEY  ... ROADCOND                LIGHTCOND  \\\n",
       "0  Matched  Intersection  37475.0  ...      Wet                 Daylight   \n",
       "1  Matched         Block      NaN  ...      Wet  Dark - Street Lights On   \n",
       "2  Matched         Block      NaN  ...      Dry                 Daylight   \n",
       "\n",
       "  PEDROWNOTGRNT  SDOTCOLNUM SPEEDING ST_COLCODE  \\\n",
       "0           NaN         NaN      NaN         10   \n",
       "1           NaN   6354039.0      NaN         11   \n",
       "2           NaN   4323031.0      NaN         32   \n",
       "\n",
       "                                          ST_COLDESC  SEGLANEKEY  \\\n",
       "0                                  Entering at angle           0   \n",
       "1  From same direction - both going straight - bo...           0   \n",
       "2                             One parked--one moving           0   \n",
       "\n",
       "   CROSSWALKKEY  HITPARKEDCAR  \n",
       "0             0             N  \n",
       "1             0             N  \n",
       "2             0             N  \n",
       "\n",
       "[3 rows x 38 columns]"
      ]
     },
     "execution_count": 5,
     "metadata": {},
     "output_type": "execute_result"
    }
   ],
   "source": [
    "# Import csv file to a a dataframe\n",
    "\n",
    "data = pd.read_csv(\"Data-Collisions.csv\")\n",
    "\n",
    "data.head(3)"
   ]
  },
  {
   "cell_type": "code",
   "execution_count": 6,
   "metadata": {},
   "outputs": [
    {
     "data": {
      "text/plain": [
       "Index(['SEVERITYCODE', 'X', 'Y', 'OBJECTID', 'INCKEY', 'COLDETKEY', 'REPORTNO',\n",
       "       'STATUS', 'ADDRTYPE', 'INTKEY', 'LOCATION', 'EXCEPTRSNCODE',\n",
       "       'EXCEPTRSNDESC', 'SEVERITYCODE.1', 'SEVERITYDESC', 'COLLISIONTYPE',\n",
       "       'PERSONCOUNT', 'PEDCOUNT', 'PEDCYLCOUNT', 'VEHCOUNT', 'INCDATE',\n",
       "       'INCDTTM', 'JUNCTIONTYPE', 'SDOT_COLCODE', 'SDOT_COLDESC',\n",
       "       'INATTENTIONIND', 'UNDERINFL', 'WEATHER', 'ROADCOND', 'LIGHTCOND',\n",
       "       'PEDROWNOTGRNT', 'SDOTCOLNUM', 'SPEEDING', 'ST_COLCODE', 'ST_COLDESC',\n",
       "       'SEGLANEKEY', 'CROSSWALKKEY', 'HITPARKEDCAR'],\n",
       "      dtype='object')"
      ]
     },
     "execution_count": 6,
     "metadata": {},
     "output_type": "execute_result"
    }
   ],
   "source": [
    "# print data columns\n",
    "\n",
    "data.columns"
   ]
  },
  {
   "cell_type": "code",
   "execution_count": 7,
   "metadata": {},
   "outputs": [
    {
     "name": "stdout",
     "output_type": "stream",
     "text": [
      "<class 'pandas.core.frame.DataFrame'>\n",
      "RangeIndex: 194673 entries, 0 to 194672\n",
      "Data columns (total 38 columns):\n",
      "SEVERITYCODE      194673 non-null int64\n",
      "X                 189339 non-null float64\n",
      "Y                 189339 non-null float64\n",
      "OBJECTID          194673 non-null int64\n",
      "INCKEY            194673 non-null int64\n",
      "COLDETKEY         194673 non-null int64\n",
      "REPORTNO          194673 non-null object\n",
      "STATUS            194673 non-null object\n",
      "ADDRTYPE          192747 non-null object\n",
      "INTKEY            65070 non-null float64\n",
      "LOCATION          191996 non-null object\n",
      "EXCEPTRSNCODE     84811 non-null object\n",
      "EXCEPTRSNDESC     5638 non-null object\n",
      "SEVERITYCODE.1    194673 non-null int64\n",
      "SEVERITYDESC      194673 non-null object\n",
      "COLLISIONTYPE     189769 non-null object\n",
      "PERSONCOUNT       194673 non-null int64\n",
      "PEDCOUNT          194673 non-null int64\n",
      "PEDCYLCOUNT       194673 non-null int64\n",
      "VEHCOUNT          194673 non-null int64\n",
      "INCDATE           194673 non-null object\n",
      "INCDTTM           194673 non-null object\n",
      "JUNCTIONTYPE      188344 non-null object\n",
      "SDOT_COLCODE      194673 non-null int64\n",
      "SDOT_COLDESC      194673 non-null object\n",
      "INATTENTIONIND    29805 non-null object\n",
      "UNDERINFL         189789 non-null object\n",
      "WEATHER           189592 non-null object\n",
      "ROADCOND          189661 non-null object\n",
      "LIGHTCOND         189503 non-null object\n",
      "PEDROWNOTGRNT     4667 non-null object\n",
      "SDOTCOLNUM        114936 non-null float64\n",
      "SPEEDING          9333 non-null object\n",
      "ST_COLCODE        194655 non-null object\n",
      "ST_COLDESC        189769 non-null object\n",
      "SEGLANEKEY        194673 non-null int64\n",
      "CROSSWALKKEY      194673 non-null int64\n",
      "HITPARKEDCAR      194673 non-null object\n",
      "dtypes: float64(4), int64(12), object(22)\n",
      "memory usage: 56.4+ MB\n"
     ]
    }
   ],
   "source": [
    "# Print Data Info\n",
    "\n",
    "data.info()"
   ]
  },
  {
   "cell_type": "code",
   "execution_count": 8,
   "metadata": {},
   "outputs": [
    {
     "data": {
      "text/html": [
       "<div>\n",
       "<style scoped>\n",
       "    .dataframe tbody tr th:only-of-type {\n",
       "        vertical-align: middle;\n",
       "    }\n",
       "\n",
       "    .dataframe tbody tr th {\n",
       "        vertical-align: top;\n",
       "    }\n",
       "\n",
       "    .dataframe thead th {\n",
       "        text-align: right;\n",
       "    }\n",
       "</style>\n",
       "<table border=\"1\" class=\"dataframe\">\n",
       "  <thead>\n",
       "    <tr style=\"text-align: right;\">\n",
       "      <th></th>\n",
       "      <th>SEVERITYCODE</th>\n",
       "      <th>Percentage</th>\n",
       "    </tr>\n",
       "  </thead>\n",
       "  <tbody>\n",
       "    <tr>\n",
       "      <th>1</th>\n",
       "      <td>136485</td>\n",
       "      <td>70.109877</td>\n",
       "    </tr>\n",
       "    <tr>\n",
       "      <th>2</th>\n",
       "      <td>58188</td>\n",
       "      <td>29.890123</td>\n",
       "    </tr>\n",
       "  </tbody>\n",
       "</table>\n",
       "</div>"
      ],
      "text/plain": [
       "   SEVERITYCODE  Percentage\n",
       "1        136485   70.109877\n",
       "2         58188   29.890123"
      ]
     },
     "execution_count": 8,
     "metadata": {},
     "output_type": "execute_result"
    }
   ],
   "source": [
    "# Check if data set is balanced\n",
    "\n",
    "df_percent = pd.DataFrame(data.SEVERITYCODE.value_counts())\n",
    "\n",
    "df_percent['Percentage'] = 100*df_percent['SEVERITYCODE']/data.shape[0]\n",
    "df_percent"
   ]
  },
  {
   "cell_type": "markdown",
   "metadata": {},
   "source": [
    "### <span style=\"color:blue\">Cleaning Dataset</span>"
   ]
  },
  {
   "cell_type": "code",
   "execution_count": 9,
   "metadata": {},
   "outputs": [
    {
     "data": {
      "text/plain": [
       "SEVERITYCODE           0\n",
       "X                   5334\n",
       "Y                   5334\n",
       "OBJECTID               0\n",
       "INCKEY                 0\n",
       "COLDETKEY              0\n",
       "REPORTNO               0\n",
       "STATUS                 0\n",
       "ADDRTYPE            1926\n",
       "INTKEY            129603\n",
       "LOCATION            2677\n",
       "EXCEPTRSNCODE     109862\n",
       "EXCEPTRSNDESC     189035\n",
       "SEVERITYCODE.1         0\n",
       "SEVERITYDESC           0\n",
       "COLLISIONTYPE       4904\n",
       "PERSONCOUNT            0\n",
       "PEDCOUNT               0\n",
       "PEDCYLCOUNT            0\n",
       "VEHCOUNT               0\n",
       "INCDATE                0\n",
       "INCDTTM                0\n",
       "JUNCTIONTYPE        6329\n",
       "SDOT_COLCODE           0\n",
       "SDOT_COLDESC           0\n",
       "INATTENTIONIND    164868\n",
       "UNDERINFL           4884\n",
       "WEATHER             5081\n",
       "ROADCOND            5012\n",
       "LIGHTCOND           5170\n",
       "PEDROWNOTGRNT     190006\n",
       "SDOTCOLNUM         79737\n",
       "SPEEDING          185340\n",
       "ST_COLCODE            18\n",
       "ST_COLDESC          4904\n",
       "SEGLANEKEY             0\n",
       "CROSSWALKKEY           0\n",
       "HITPARKEDCAR           0\n",
       "dtype: int64"
      ]
     },
     "execution_count": 9,
     "metadata": {},
     "output_type": "execute_result"
    }
   ],
   "source": [
    "# Look at total missing values at each column\n",
    "\n",
    "data.isna().sum()"
   ]
  },
  {
   "cell_type": "markdown",
   "metadata": {},
   "source": [
    "### data.isna().sum() is a panda series so \n",
    "### I will use data.isna().sum()>75000 condition to generate boolean series to use in the data.columns object\n",
    "### I will drop columns with high missing values"
   ]
  },
  {
   "cell_type": "code",
   "execution_count": 10,
   "metadata": {},
   "outputs": [
    {
     "name": "stdout",
     "output_type": "stream",
     "text": [
      "<class 'pandas.core.indexes.base.Index'>\n"
     ]
    },
    {
     "data": {
      "text/plain": [
       "Index(['INTKEY', 'EXCEPTRSNCODE', 'EXCEPTRSNDESC', 'INATTENTIONIND',\n",
       "       'PEDROWNOTGRNT', 'SDOTCOLNUM', 'SPEEDING'],\n",
       "      dtype='object')"
      ]
     },
     "execution_count": 10,
     "metadata": {},
     "output_type": "execute_result"
    }
   ],
   "source": [
    "# Find columns with high number of missing values\n",
    "\n",
    "a = data.columns[data.isna().sum()>75000]\n",
    "print(type(a))\n",
    "a"
   ]
  },
  {
   "cell_type": "code",
   "execution_count": 11,
   "metadata": {},
   "outputs": [
    {
     "data": {
      "text/plain": [
       "SEVERITYCODE         0\n",
       "X                 5334\n",
       "Y                 5334\n",
       "OBJECTID             0\n",
       "INCKEY               0\n",
       "COLDETKEY            0\n",
       "REPORTNO             0\n",
       "STATUS               0\n",
       "ADDRTYPE          1926\n",
       "LOCATION          2677\n",
       "SEVERITYCODE.1       0\n",
       "SEVERITYDESC         0\n",
       "COLLISIONTYPE     4904\n",
       "PERSONCOUNT          0\n",
       "PEDCOUNT             0\n",
       "PEDCYLCOUNT          0\n",
       "VEHCOUNT             0\n",
       "INCDATE              0\n",
       "INCDTTM              0\n",
       "JUNCTIONTYPE      6329\n",
       "SDOT_COLCODE         0\n",
       "SDOT_COLDESC         0\n",
       "UNDERINFL         4884\n",
       "WEATHER           5081\n",
       "ROADCOND          5012\n",
       "LIGHTCOND         5170\n",
       "ST_COLCODE          18\n",
       "ST_COLDESC        4904\n",
       "SEGLANEKEY           0\n",
       "CROSSWALKKEY         0\n",
       "HITPARKEDCAR         0\n",
       "dtype: int64"
      ]
     },
     "execution_count": 11,
     "metadata": {},
     "output_type": "execute_result"
    }
   ],
   "source": [
    "# drop columns with high missing values\n",
    "\n",
    "df = data.drop(columns=a)\n",
    "\n",
    "# ReLook at total missing values at each column\n",
    "\n",
    "df.isna().sum()"
   ]
  },
  {
   "cell_type": "code",
   "execution_count": 12,
   "metadata": {},
   "outputs": [
    {
     "data": {
      "text/plain": [
       "(194673, 31)"
      ]
     },
     "execution_count": 12,
     "metadata": {},
     "output_type": "execute_result"
    }
   ],
   "source": [
    "df.shape"
   ]
  },
  {
   "cell_type": "code",
   "execution_count": 13,
   "metadata": {},
   "outputs": [
    {
     "data": {
      "text/plain": [
       "(180067, 31)"
      ]
     },
     "execution_count": 13,
     "metadata": {},
     "output_type": "execute_result"
    }
   ],
   "source": [
    "# I have almost 200000 raws and some features have around 5000 missing values. 5000/200000 ~ 2.5/100\n",
    "# I will basically drop missing values because they only make 2.5% of the dataset\n",
    "\n",
    "df_1 = df.dropna()\n",
    "df_1.shape"
   ]
  },
  {
   "cell_type": "markdown",
   "metadata": {},
   "source": [
    "### after dropping I lost 14000 raws(14000/194000~ 7% of the data)"
   ]
  },
  {
   "cell_type": "code",
   "execution_count": 14,
   "metadata": {},
   "outputs": [
    {
     "name": "stdout",
     "output_type": "stream",
     "text": [
      "SEVERITYCODE    Column has number of      2 unique values.\n",
      "\n",
      "\n",
      "X               Column has number of  23145 unique values.\n",
      "\n",
      "\n",
      "Y               Column has number of  23409 unique values.\n",
      "\n",
      "\n",
      "OBJECTID        Column has number of 180067 unique values.\n",
      "\n",
      "\n",
      "INCKEY          Column has number of 180067 unique values.\n",
      "\n",
      "\n",
      "COLDETKEY       Column has number of 180067 unique values.\n",
      "\n",
      "\n",
      "REPORTNO        Column has number of 180064 unique values.\n",
      "\n",
      "\n",
      "STATUS          Column has number of      2 unique values.\n",
      "\n",
      "\n",
      "ADDRTYPE        Column has number of      2 unique values.\n",
      "\n",
      "\n",
      "LOCATION        Column has number of  23460 unique values.\n",
      "\n",
      "\n",
      "SEVERITYCODE.1  Column has number of      2 unique values.\n",
      "\n",
      "\n",
      "SEVERITYDESC    Column has number of      2 unique values.\n",
      "\n",
      "\n",
      "COLLISIONTYPE   Column has number of     10 unique values.\n",
      "\n",
      "\n",
      "PERSONCOUNT     Column has number of     47 unique values.\n",
      "\n",
      "\n",
      "PEDCOUNT        Column has number of      7 unique values.\n",
      "\n",
      "\n",
      "PEDCYLCOUNT     Column has number of      3 unique values.\n",
      "\n",
      "\n",
      "VEHCOUNT        Column has number of     13 unique values.\n",
      "\n",
      "\n",
      "INCDATE         Column has number of   5947 unique values.\n",
      "\n",
      "\n",
      "INCDTTM         Column has number of 152324 unique values.\n",
      "\n",
      "\n",
      "JUNCTIONTYPE    Column has number of      7 unique values.\n",
      "\n",
      "\n",
      "SDOT_COLCODE    Column has number of     39 unique values.\n",
      "\n",
      "\n",
      "SDOT_COLDESC    Column has number of     39 unique values.\n",
      "\n",
      "\n",
      "UNDERINFL       Column has number of      4 unique values.\n",
      "\n",
      "\n",
      "WEATHER         Column has number of     11 unique values.\n",
      "\n",
      "\n",
      "ROADCOND        Column has number of      9 unique values.\n",
      "\n",
      "\n",
      "LIGHTCOND       Column has number of      9 unique values.\n",
      "\n",
      "\n",
      "ST_COLCODE      Column has number of    114 unique values.\n",
      "\n",
      "\n",
      "ST_COLDESC      Column has number of     62 unique values.\n",
      "\n",
      "\n",
      "SEGLANEKEY      Column has number of   1919 unique values.\n",
      "\n",
      "\n",
      "CROSSWALKKEY    Column has number of   2169 unique values.\n",
      "\n",
      "\n",
      "HITPARKEDCAR    Column has number of      2 unique values.\n",
      "\n",
      "\n"
     ]
    }
   ],
   "source": [
    "# Find how many unique values in each column\n",
    "\n",
    "# Iterate over the sequence of column names\n",
    "\n",
    "for column in df_1:\n",
    "    \n",
    "    # Select column contents by column \n",
    "    \n",
    "    print('{:<15} Column has number of {:>6} unique values.'.format(column,df_1[column].nunique()))\n",
    "    \n",
    "    print('\\n')"
   ]
  },
  {
   "cell_type": "code",
   "execution_count": 15,
   "metadata": {},
   "outputs": [],
   "source": [
    "# I chack above and see that some columns have at least 180000 unique features. \n",
    "# This is as same as number of entries in the dataframe. This indicates that these columns are kind of id number.\n",
    "# they will not be helpful in the meachine learning process.\n",
    "# these columns also should be dropped"
   ]
  },
  {
   "cell_type": "code",
   "execution_count": 16,
   "metadata": {},
   "outputs": [
    {
     "name": "stdout",
     "output_type": "stream",
     "text": [
      "['OBJECTID', 'INCKEY', 'COLDETKEY', 'REPORTNO']\n"
     ]
    }
   ],
   "source": [
    "columns_to_drop = [ column for column in df_1 if len(df[column].unique())>180000]\n",
    "\n",
    "print(columns_to_drop)\n",
    "\n",
    "# drop columns with high # of unique values\n",
    "\n",
    "df_2 = df_1.drop(columns=columns_to_drop)"
   ]
  },
  {
   "cell_type": "code",
   "execution_count": 17,
   "metadata": {},
   "outputs": [],
   "source": [
    "# I will also drop X, Y and location. This features will not be helpful in ML process.\n",
    "\n",
    "df_3 = df_2.drop(columns=['X','Y','LOCATION'])"
   ]
  },
  {
   "cell_type": "code",
   "execution_count": 18,
   "metadata": {},
   "outputs": [
    {
     "name": "stdout",
     "output_type": "stream",
     "text": [
      "SEVERITYCODE    Column has number of      2 unique values.\n",
      "STATUS          Column has number of      2 unique values.\n",
      "ADDRTYPE        Column has number of      3 unique values.\n",
      "SEVERITYCODE.1  Column has number of      2 unique values.\n",
      "SEVERITYDESC    Column has number of      2 unique values.\n",
      "COLLISIONTYPE   Column has number of     10 unique values.\n",
      "PERSONCOUNT     Column has number of     47 unique values.\n",
      "PEDCOUNT        Column has number of      7 unique values.\n",
      "PEDCYLCOUNT     Column has number of      3 unique values.\n",
      "VEHCOUNT        Column has number of     13 unique values.\n",
      "INCDATE         Column has number of   5985 unique values.\n",
      "INCDTTM         Column has number of 162058 unique values.\n",
      "JUNCTIONTYPE    Column has number of      7 unique values.\n",
      "SDOT_COLCODE    Column has number of     39 unique values.\n",
      "SDOT_COLDESC    Column has number of     39 unique values.\n",
      "UNDERINFL       Column has number of      4 unique values.\n",
      "WEATHER         Column has number of     11 unique values.\n",
      "ROADCOND        Column has number of      9 unique values.\n",
      "LIGHTCOND       Column has number of      9 unique values.\n",
      "ST_COLCODE      Column has number of    115 unique values.\n",
      "ST_COLDESC      Column has number of     62 unique values.\n",
      "SEGLANEKEY      Column has number of   1955 unique values.\n",
      "CROSSWALKKEY    Column has number of   2198 unique values.\n",
      "HITPARKEDCAR    Column has number of      2 unique values.\n"
     ]
    }
   ],
   "source": [
    "for column in df_3:\n",
    "    \n",
    "    print('{:<15} Column has number of {:>6} unique values.'.format(column,df[column].nunique()))"
   ]
  },
  {
   "cell_type": "code",
   "execution_count": 59,
   "metadata": {},
   "outputs": [
    {
     "data": {
      "text/html": [
       "<div>\n",
       "<style scoped>\n",
       "    .dataframe tbody tr th:only-of-type {\n",
       "        vertical-align: middle;\n",
       "    }\n",
       "\n",
       "    .dataframe tbody tr th {\n",
       "        vertical-align: top;\n",
       "    }\n",
       "\n",
       "    .dataframe thead th {\n",
       "        text-align: right;\n",
       "    }\n",
       "</style>\n",
       "<table border=\"1\" class=\"dataframe\">\n",
       "  <thead>\n",
       "    <tr style=\"text-align: right;\">\n",
       "      <th></th>\n",
       "      <th>SEVERITYCODE</th>\n",
       "      <th>Percentage</th>\n",
       "    </tr>\n",
       "  </thead>\n",
       "  <tbody>\n",
       "    <tr>\n",
       "      <th>1</th>\n",
       "      <td>124258</td>\n",
       "      <td>69.006536</td>\n",
       "    </tr>\n",
       "    <tr>\n",
       "      <th>2</th>\n",
       "      <td>55809</td>\n",
       "      <td>30.993464</td>\n",
       "    </tr>\n",
       "  </tbody>\n",
       "</table>\n",
       "</div>"
      ],
      "text/plain": [
       "   SEVERITYCODE  Percentage\n",
       "1        124258   69.006536\n",
       "2         55809   30.993464"
      ]
     },
     "execution_count": 59,
     "metadata": {},
     "output_type": "execute_result"
    }
   ],
   "source": [
    "# Check if data set is balanced\n",
    "\n",
    "df_1_percent = pd.DataFrame(df_3.SEVERITYCODE.value_counts())\n",
    "\n",
    "df_1_percent['Percentage'] = 100*df_1_percent['SEVERITYCODE']/df_3.shape[0]\n",
    "df_1_percent"
   ]
  },
  {
   "cell_type": "code",
   "execution_count": 61,
   "metadata": {},
   "outputs": [
    {
     "name": "stdout",
     "output_type": "stream",
     "text": [
      "2.2264867673672706\n"
     ]
    }
   ],
   "source": [
    "print(df_1_percent['Percentage'][1]/df_1_percent['Percentage'][2])"
   ]
  },
  {
   "cell_type": "markdown",
   "metadata": {},
   "source": [
    "# <span style=\"color:red\">**Exploratory Data Analysis**</span> <a class=\"anchor\" id=\"3\"></a>"
   ]
  },
  {
   "cell_type": "code",
   "execution_count": null,
   "metadata": {},
   "outputs": [],
   "source": []
  },
  {
   "cell_type": "markdown",
   "metadata": {},
   "source": [
    "### I will print crosstab of each feature"
   ]
  },
  {
   "cell_type": "code",
   "execution_count": 24,
   "metadata": {},
   "outputs": [],
   "source": [
    "mkdir plots"
   ]
  },
  {
   "cell_type": "code",
   "execution_count": 19,
   "metadata": {},
   "outputs": [
    {
     "name": "stdout",
     "output_type": "stream",
     "text": [
      "SEVERITYCODE       1      2\n",
      "STATUS                     \n",
      "Matched       124257  55809\n",
      "Unmatched          1      0\n"
     ]
    }
   ],
   "source": [
    "#1. feature\n",
    "\n",
    "feature = df_3.columns.to_list()[1]\n",
    "\n",
    "aa = df_3[[feature,'SEVERITYCODE']]\n",
    "\n",
    "print(pd.crosstab(aa[feature],aa['SEVERITYCODE']))"
   ]
  },
  {
   "cell_type": "code",
   "execution_count": 20,
   "metadata": {},
   "outputs": [],
   "source": [
    "# lets delete STATUS feature\n",
    "\n",
    "df_last = df_3.drop(columns=['STATUS'])"
   ]
  },
  {
   "cell_type": "code",
   "execution_count": 21,
   "metadata": {},
   "outputs": [
    {
     "name": "stdout",
     "output_type": "stream",
     "text": [
      "SEVERITYCODE      1      2\n",
      "ADDRTYPE                  \n",
      "Block         88520  28565\n",
      "Intersection  35738  27244\n"
     ]
    }
   ],
   "source": [
    "# 2. feature\n",
    "feature = df_3.columns.to_list()[2]\n",
    "\n",
    "aa = df_3[[feature,'SEVERITYCODE']]\n",
    "\n",
    "print(pd.crosstab(aa[feature],aa['SEVERITYCODE']))"
   ]
  },
  {
   "cell_type": "code",
   "execution_count": 25,
   "metadata": {},
   "outputs": [
    {
     "data": {
      "image/png": "[encoded data removed]",
      "text/plain": [
       "<Figure size 360x288 with 1 Axes>"
      ]
     },
     "metadata": {
      "needs_background": "light"
     },
     "output_type": "display_data"
    }
   ],
   "source": [
    "#Binary Distribution Histogram\n",
    "\n",
    "plt.figure(figsize=[5,4])\n",
    "\n",
    "plt.hist([df_3[df_3.SEVERITYCODE==1][feature],\n",
    "          df_3[df_3.SEVERITYCODE==2][feature]], \n",
    "          bins=[-.5,.5,.5,1.5], \n",
    "          ec=\"k\",\n",
    "          label=('1','2'))\n",
    "\n",
    "plt.xticks((0,1))\n",
    "plt.grid(axis='y', alpha=0.75)\n",
    "\n",
    "plt.xlabel(feature,fontsize=15)\n",
    "plt.ylabel('count',fontsize=15)\n",
    "\n",
    "plt.title('Binary Distribution Histogram',fontsize=15)\n",
    "plt.legend(loc='upper right')\n",
    "\n",
    "plt.grid(axis='y', alpha=0.75)\n",
    "\n",
    "plt.savefig('plots/ADDRTYPE.png', dpi=100, bbox_inches='tight')\n",
    "\n",
    "plt.show()"
   ]
  },
  {
   "cell_type": "code",
   "execution_count": 22,
   "metadata": {},
   "outputs": [
    {
     "name": "stdout",
     "output_type": "stream",
     "text": [
      "SEVERITYCODE         1      2\n",
      "SEVERITYCODE.1               \n",
      "1               124258      0\n",
      "2                    0  55809\n"
     ]
    }
   ],
   "source": [
    "# 3. feature\n",
    "feature = df_3.columns.to_list()[3]\n",
    "\n",
    "aa = df_3[[feature,'SEVERITYCODE']]\n",
    "\n",
    "print(pd.crosstab(aa[feature],aa['SEVERITYCODE']))"
   ]
  },
  {
   "cell_type": "code",
   "execution_count": 23,
   "metadata": {},
   "outputs": [],
   "source": [
    "# SEVERITYCODE and SEVERITYCODE.1 are totally opposite so delete SEVERITYCODE.1\n",
    "\n",
    "df_last = df_last.drop(columns=['SEVERITYCODE.1'])"
   ]
  },
  {
   "cell_type": "code",
   "execution_count": 24,
   "metadata": {},
   "outputs": [
    {
     "name": "stdout",
     "output_type": "stream",
     "text": [
      "SEVERITYCODE                         1      2\n",
      "SEVERITYDESC                                 \n",
      "Injury Collision                     0  55809\n",
      "Property Damage Only Collision  124258      0\n"
     ]
    }
   ],
   "source": [
    "# 4. feature\n",
    "\n",
    "feature = df_3.columns.to_list()[4]\n",
    "\n",
    "aa = df_3[[feature,'SEVERITYCODE']]\n",
    "\n",
    "print(pd.crosstab(aa[feature],aa['SEVERITYCODE']))"
   ]
  },
  {
   "cell_type": "code",
   "execution_count": 25,
   "metadata": {},
   "outputs": [],
   "source": [
    "# SEVERITYCODE and SEVERITYDESC are same so delete SEVERITYDESC\n",
    "\n",
    "df_last = df_last.drop(columns=['SEVERITYDESC'])"
   ]
  },
  {
   "cell_type": "code",
   "execution_count": 38,
   "metadata": {},
   "outputs": [
    {
     "name": "stdout",
     "output_type": "stream",
     "text": [
      "SEVERITYCODE       1      2\n",
      "COLLISIONTYPE              \n",
      "Angles         20811  13542\n",
      "Cycles           656   4678\n",
      "Head On         1123    856\n",
      "Left Turn       8213   5373\n",
      "Other          16172   5735\n",
      "Parked Car     40262   2624\n",
      "Pedestrian       660   5821\n",
      "Rear Ended     18612  14166\n",
      "Right Turn      2302    599\n",
      "Sideswipe      15447   2415\n"
     ]
    },
    {
     "data": {
      "image/png": "[encoded data removed]",
      "text/plain": [
       "<Figure size 360x288 with 1 Axes>"
      ]
     },
     "metadata": {
      "needs_background": "light"
     },
     "output_type": "display_data"
    }
   ],
   "source": [
    "# 5. feature\n",
    "\n",
    "feature = df_3.columns.to_list()[5]\n",
    "\n",
    "aa = df_3[[feature,'SEVERITYCODE']]\n",
    "\n",
    "print(pd.crosstab(aa[feature],aa['SEVERITYCODE']))\n",
    "\n",
    "#Binary Distribution Histogram\n",
    "\n",
    "plt.figure(figsize=[5,4])\n",
    "\n",
    "plt.hist([df_3[df_3.SEVERITYCODE==1][feature],\n",
    "          df_3[df_3.SEVERITYCODE==2][feature]], \n",
    "          #bins=[-.5,.5,.5,1.5], \n",
    "          ec=\"k\",\n",
    "          label=('1','2'))\n",
    "\n",
    "#plt.xticks((0,1))\n",
    "#plt.xticks(x, labels, rotation='vertical')\n",
    "plt.xticks(rotation='vertical')\n",
    "plt.grid(axis='y', alpha=0.75)\n",
    "\n",
    "plt.xlabel(feature,fontsize=15)\n",
    "\n",
    "plt.ylabel('count',fontsize=15)\n",
    "\n",
    "plt.title('Binary Distribution Histogram',fontsize=15)\n",
    "plt.legend(loc='upper right')\n",
    "\n",
    "plt.grid(axis='y', alpha=0.75)\n",
    "\n",
    "plt.savefig('plots/COLLISIONTYPE.png', dpi=100, bbox_inches='tight')\n",
    "\n",
    "plt.show()"
   ]
  },
  {
   "cell_type": "code",
   "execution_count": 28,
   "metadata": {},
   "outputs": [
    {
     "name": "stdout",
     "output_type": "stream",
     "text": [
      "SEVERITYCODE      1      2\n",
      "PERSONCOUNT               \n",
      "0              3595   1715\n",
      "1              7765   2796\n",
      "2             77721  26687\n",
      "3             21293  13063\n",
      "4              8055   6100\n",
      "5              3544   2906\n",
      "6              1314   1333\n",
      "7               475    621\n",
      "8               242    279\n",
      "9                81    126\n",
      "10               53     74\n",
      "11               21     33\n",
      "12               13     19\n",
      "13                9     12\n",
      "14               11      6\n",
      "15                4      7\n",
      "16                3      4\n",
      "17                3      8\n",
      "18                5      1\n",
      "19                3      2\n",
      "20                4      1\n",
      "21                2      0\n",
      "22                2      2\n",
      "23                1      1\n",
      "24                1      1\n",
      "25                5      0\n",
      "26                4      0\n",
      "27                2      1\n",
      "28                2      1\n",
      "29                2      1\n",
      "30                1      1\n",
      "31                1      0\n",
      "32                2      1\n",
      "34                1      2\n",
      "35                1      0\n",
      "36                2      0\n",
      "37                2      1\n",
      "39                0      1\n",
      "41                1      0\n",
      "43                1      0\n",
      "44                6      0\n",
      "47                3      0\n",
      "48                0      1\n",
      "53                1      0\n",
      "54                0      1\n",
      "57                1      0\n",
      "81                0      1\n"
     ]
    }
   ],
   "source": [
    "# 6. feature\n",
    "\n",
    "feature = df_3.columns.to_list()[6]\n",
    "\n",
    "aa = df_3[[feature,'SEVERITYCODE']]\n",
    "\n",
    "print(pd.crosstab(aa[feature],aa['SEVERITYCODE']))"
   ]
  },
  {
   "cell_type": "code",
   "execution_count": 34,
   "metadata": {},
   "outputs": [
    {
     "data": {
      "image/png": "[encoded data removed]",
      "text/plain": [
       "<Figure size 360x288 with 1 Axes>"
      ]
     },
     "metadata": {
      "needs_background": "light"
     },
     "output_type": "display_data"
    }
   ],
   "source": [
    "#Binary Distribution Histogram\n",
    "\n",
    "plt.figure(figsize=[5,4])\n",
    "\n",
    "plt.hist([df_3[df_3.SEVERITYCODE==1][feature],\n",
    "          df_3[df_3.SEVERITYCODE==2][feature]], \n",
    "          bins=[-.5,.5,.5,1.5,2.5,3.5,4.5,5.5,6.5,7.5,8.5], \n",
    "          ec=\"k\",\n",
    "          label=('0','1','2','3','4','5','6','7','8','9'))\n",
    "\n",
    "plt.xticks((0,1,2,3,4,5,6,7,8,9))\n",
    "plt.grid(axis='y', alpha=0.75)\n",
    "\n",
    "plt.xlabel(feature,fontsize=15)\n",
    "plt.ylabel('count',fontsize=15)\n",
    "\n",
    "plt.title('Binary Distribution Histogram',fontsize=15)\n",
    "plt.legend(loc='upper right')\n",
    "\n",
    "plt.grid(axis='y', alpha=0.75)\n",
    "\n",
    "plt.savefig('plots/PERSONCOUNT.png', dpi=100, bbox_inches='tight')\n",
    "\n",
    "plt.show()"
   ]
  },
  {
   "cell_type": "code",
   "execution_count": 28,
   "metadata": {},
   "outputs": [
    {
     "name": "stdout",
     "output_type": "stream",
     "text": [
      "SEVERITYCODE       1      2\n",
      "PEDCOUNT                   \n",
      "0             123572  49687\n",
      "1                666   5890\n",
      "2                 19    205\n",
      "3                  1     21\n",
      "4                  0      4\n",
      "5                  0      1\n",
      "6                  0      1\n"
     ]
    }
   ],
   "source": [
    "# 7. feature\n",
    "feature = df_3.columns.to_list()[7]\n",
    "\n",
    "aa = df_3[[feature,'SEVERITYCODE']]\n",
    "\n",
    "print(pd.crosstab(aa[feature],aa['SEVERITYCODE']))"
   ]
  },
  {
   "cell_type": "code",
   "execution_count": 39,
   "metadata": {},
   "outputs": [
    {
     "name": "stdout",
     "output_type": "stream",
     "text": [
      "SEVERITYCODE       1      2\n",
      "PEDCYLCOUNT                \n",
      "0             123597  51083\n",
      "1                661   4685\n",
      "2                  0     41\n"
     ]
    },
    {
     "data": {
      "image/png": "[encoded data removed]",
      "text/plain": [
       "<Figure size 360x288 with 1 Axes>"
      ]
     },
     "metadata": {
      "needs_background": "light"
     },
     "output_type": "display_data"
    }
   ],
   "source": [
    "# 8. feature\n",
    "\n",
    "feature = df_3.columns.to_list()[8]\n",
    "\n",
    "aa = df_3[[feature,'SEVERITYCODE']]\n",
    "\n",
    "print(pd.crosstab(aa[feature],aa['SEVERITYCODE']))\n",
    "\n",
    "#Binary Distribution Histogram\n",
    "\n",
    "plt.figure(figsize=[5,4])\n",
    "\n",
    "plt.hist([df_3[df_3.SEVERITYCODE==1][feature],\n",
    "          df_3[df_3.SEVERITYCODE==2][feature]], \n",
    "          #bins=[-.5,.5,.5,1.5], \n",
    "          ec=\"k\",\n",
    "          label=('1','2'))\n",
    "\n",
    "plt.xticks((0,1,2))\n",
    "#plt.xticks(x, labels, rotation='vertical')\n",
    "#plt.xticks(rotation='vertical')\n",
    "plt.grid(axis='y', alpha=0.75)\n",
    "\n",
    "plt.xlabel(feature,fontsize=15)\n",
    "\n",
    "plt.ylabel('count',fontsize=15)\n",
    "\n",
    "plt.title('Binary Distribution Histogram',fontsize=15)\n",
    "plt.legend(loc='upper right')\n",
    "\n",
    "plt.grid(axis='y', alpha=0.75)\n",
    "\n",
    "plt.savefig('plots/PEDCYLCOUNT.png', dpi=100, bbox_inches='tight')\n",
    "\n",
    "plt.show()"
   ]
  },
  {
   "cell_type": "code",
   "execution_count": 40,
   "metadata": {},
   "outputs": [
    {
     "name": "stdout",
     "output_type": "stream",
     "text": [
      "SEVERITYCODE       1      2\n",
      "VEHCOUNT                   \n",
      "0                  3    192\n",
      "1              10496  13630\n",
      "2             104752  35258\n",
      "3               7310   5325\n",
      "4               1311   1056\n",
      "5                263    255\n",
      "6                 85     58\n",
      "7                 21     20\n",
      "8                 10      5\n",
      "9                  3      6\n",
      "10                 0      2\n",
      "11                 3      2\n",
      "12                 1      0\n"
     ]
    },
    {
     "data": {
      "image/png": "[encoded data removed]",
      "text/plain": [
       "<Figure size 432x288 with 1 Axes>"
      ]
     },
     "metadata": {
      "needs_background": "light"
     },
     "output_type": "display_data"
    }
   ],
   "source": [
    "# 9. feature\n",
    "\n",
    "feature = df_3.columns.to_list()[9]\n",
    "\n",
    "aa = df_3[[feature,'SEVERITYCODE']]\n",
    "\n",
    "print(pd.crosstab(aa[feature],aa['SEVERITYCODE']))\n",
    "\n",
    "plt.hist([df_3[df_3.SEVERITYCODE==1][feature],\n",
    "          df_3[df_3.SEVERITYCODE==2][feature]], \n",
    "          bins=[-.5,.5,.5,1.5,2.5,3.5,4.5,5.5,6.5,7.5,8.5], \n",
    "          ec=\"k\",\n",
    "          label=('0','1','2','3','4','5','6','7','8','9'))\n",
    "\n",
    "plt.xticks((0,1,2,3,4,5,6,7,8,9))\n",
    "plt.grid(axis='y', alpha=0.75)\n",
    "\n",
    "plt.xlabel(feature,fontsize=15)\n",
    "plt.ylabel('count',fontsize=15)\n",
    "\n",
    "plt.title('Binary Distribution Histogram',fontsize=15)\n",
    "plt.legend(loc='upper right')\n",
    "\n",
    "plt.grid(axis='y', alpha=0.75)\n",
    "\n",
    "plt.savefig('plots/VEHCOUNT.png', dpi=100, bbox_inches='tight')\n",
    "\n",
    "plt.show()"
   ]
  },
  {
   "cell_type": "code",
   "execution_count": 41,
   "metadata": {},
   "outputs": [
    {
     "name": "stdout",
     "output_type": "stream",
     "text": [
      "SEVERITYCODE                                           1      2\n",
      "JUNCTIONTYPE                                                   \n",
      "At Intersection (but not related to intersection)   1420    610\n",
      "At Intersection (intersection related)             34291  26624\n",
      "Driveway Junction                                   7247   3183\n",
      "Mid-Block (but intersection related)               14941   7094\n",
      "Mid-Block (not related to intersection)            66261  18252\n",
      "Ramp Junction                                         94     45\n",
      "Unknown                                                4      1\n"
     ]
    },
    {
     "data": {
      "image/png": "[encoded data removed]",
      "text/plain": [
       "<Figure size 360x288 with 1 Axes>"
      ]
     },
     "metadata": {
      "needs_background": "light"
     },
     "output_type": "display_data"
    }
   ],
   "source": [
    "# 12. feature\n",
    "\n",
    "feature = df_3.columns.to_list()[12]\n",
    "\n",
    "aa = df_3[[feature,'SEVERITYCODE']]\n",
    "\n",
    "print(pd.crosstab(aa[feature],aa['SEVERITYCODE']))\n",
    "\n",
    "#Binary Distribution Histogram\n",
    "\n",
    "plt.figure(figsize=[5,4])\n",
    "\n",
    "plt.hist([df_3[df_3.SEVERITYCODE==1][feature],\n",
    "          df_3[df_3.SEVERITYCODE==2][feature]], \n",
    "          #bins=[-.5,.5,.5,1.5], \n",
    "          ec=\"k\",\n",
    "          label=('1','2'))\n",
    "\n",
    "#plt.xticks((0,1))\n",
    "#plt.xticks(x, labels, rotation='vertical')\n",
    "plt.xticks(rotation='vertical')\n",
    "plt.grid(axis='y', alpha=0.75)\n",
    "\n",
    "plt.xlabel(feature,fontsize=15)\n",
    "\n",
    "plt.ylabel('count',fontsize=15)\n",
    "\n",
    "plt.title('Binary Distribution Histogram',fontsize=15)\n",
    "plt.legend(loc='upper right')\n",
    "\n",
    "plt.grid(axis='y', alpha=0.75)\n",
    "\n",
    "plt.savefig('plots/JUNCTIONTYPE.png', dpi=100, bbox_inches='tight')\n",
    "\n",
    "plt.show()"
   ]
  },
  {
   "cell_type": "code",
   "execution_count": 44,
   "metadata": {},
   "outputs": [
    {
     "name": "stdout",
     "output_type": "stream",
     "text": [
      "SEVERITYCODE      1      2\n",
      "SDOT_COLCODE              \n",
      "0              2714    272\n",
      "11            58588  23827\n",
      "12             1338     27\n",
      "13             5392    197\n",
      "14            34553  16933\n",
      "15             1487     73\n",
      "16             8970    665\n",
      "18              344   2665\n",
      "21               40    140\n",
      "22                1     14\n",
      "23               31     89\n",
      "24              638   5702\n",
      "25               82     19\n",
      "26             2983    974\n",
      "27              124     35\n",
      "28             6303   2179\n",
      "29              112    345\n",
      "31               94      7\n",
      "32               11      1\n",
      "33               51      2\n",
      "34               81      9\n",
      "35                5      1\n",
      "36                3      1\n",
      "44                0      8\n",
      "46                3      0\n",
      "47                1      0\n",
      "48               94     11\n",
      "51              147   1134\n",
      "52                1      1\n",
      "53                2      7\n",
      "54               30    102\n",
      "55               10     40\n",
      "56               19    156\n",
      "58                0      4\n",
      "61                0      7\n",
      "64                3     71\n",
      "66                1     22\n",
      "68                1      3\n",
      "69                1     66\n"
     ]
    },
    {
     "data": {
      "image/png": "[encoded data removed]",
      "text/plain": [
       "<Figure size 288x288 with 1 Axes>"
      ]
     },
     "metadata": {
      "needs_background": "light"
     },
     "output_type": "display_data"
    }
   ],
   "source": [
    "# 13. feature\n",
    "\n",
    "feature = df_3.columns.to_list()[13]\n",
    "\n",
    "aa = df_3[[feature,'SEVERITYCODE']]\n",
    "\n",
    "print(pd.crosstab(aa[feature],aa['SEVERITYCODE']))\n",
    "\n",
    "%matplotlib inline\n",
    "matplotlib.use('Agg')\n",
    "sns.FacetGrid(df_3, hue=\"SEVERITYCODE\", size=4).map(sns.kdeplot, \"SDOT_COLCODE\")\n",
    "\n",
    "#plt.title('Happy/unhappy customers vs Age',fontsize=15);\n",
    "plt.legend(loc='upper right');\n",
    "plt.grid(axis='y', alpha=0.75)\n",
    "plt.savefig('plots/SDOT_COLCODE.png', dpi=100, bbox_inches='tight')"
   ]
  },
  {
   "cell_type": "code",
   "execution_count": 45,
   "metadata": {},
   "outputs": [
    {
     "name": "stdout",
     "output_type": "stream",
     "text": [
      "SEVERITYCODE                                            1      2\n",
      "SDOT_COLDESC                                                    \n",
      "DRIVERLESS VEHICLE RAN OFF ROAD - HIT FIXED OBJECT     94     11\n",
      "DRIVERLESS VEHICLE RAN OFF ROAD - NO COLLISION          1      0\n",
      "DRIVERLESS VEHICLE STRUCK MOTOR VEHICLE FRONT E...     94      7\n",
      "DRIVERLESS VEHICLE STRUCK MOTOR VEHICLE LEFT SI...     51      2\n",
      "DRIVERLESS VEHICLE STRUCK MOTOR VEHICLE LEFT SI...      3      1\n",
      "DRIVERLESS VEHICLE STRUCK MOTOR VEHICLE REAR END       81      9\n",
      "DRIVERLESS VEHICLE STRUCK MOTOR VEHICLE RIGHT S...     11      1\n",
      "DRIVERLESS VEHICLE STRUCK MOTOR VEHICLE RIGHT S...      5      1\n",
      "DRIVERLESS VEHICLE STRUCK OBJECT IN ROADWAY             3      0\n",
      "DRIVERLESS VEHICLE STRUCK PEDESTRIAN                    0      8\n",
      "MOTOR VEHCILE STRUCK PEDESTRIAN                       638   5702\n",
      "MOTOR VEHICLE OVERTURNED IN ROAD                      112    345\n",
      "MOTOR VEHICLE RAN OFF ROAD - HIT FIXED OBJECT        6303   2179\n",
      "MOTOR VEHICLE RAN OFF ROAD - NO COLLISION             124     35\n",
      "MOTOR VEHICLE STRUCK MOTOR VEHICLE, FRONT END A...  58588  23827\n",
      "MOTOR VEHICLE STRUCK MOTOR VEHICLE, LEFT SIDE A...   5392    197\n",
      "MOTOR VEHICLE STRUCK MOTOR VEHICLE, LEFT SIDE S...   8970    665\n",
      "MOTOR VEHICLE STRUCK MOTOR VEHICLE, REAR END        34553  16933\n",
      "MOTOR VEHICLE STRUCK MOTOR VEHICLE, RIGHT SIDE ...   1338     27\n",
      "MOTOR VEHICLE STRUCK MOTOR VEHICLE, RIGHT SIDE ...   1487     73\n",
      "MOTOR VEHICLE STRUCK OBJECT IN ROAD                  2983    974\n",
      "MOTOR VEHICLE STRUCK PEDALCYCLIST, FRONT END AT...    344   2665\n",
      "MOTOR VEHICLE STRUCK PEDALCYCLIST, LEFT SIDE SI...     31     89\n",
      "MOTOR VEHICLE STRUCK PEDALCYCLIST, REAR END            40    140\n",
      "MOTOR VEHICLE STRUCK PEDALCYCLIST, RIGHT SIDE S...      1     14\n",
      "MOTOR VEHICLE STRUCK TRAIN                             82     19\n",
      "NOT ENOUGH INFORMATION / NOT APPLICABLE              2714    272\n",
      "PEDALCYCLIST OVERTURNED IN ROAD                         1     66\n",
      "PEDALCYCLIST RAN OFF ROAD - HIT FIXED OBJECT            1      3\n",
      "PEDALCYCLIST STRUCK MOTOR VEHICLE FRONT END AT ...    147   1134\n",
      "PEDALCYCLIST STRUCK MOTOR VEHICLE LEFT SIDE AT ...      2      7\n",
      "PEDALCYCLIST STRUCK MOTOR VEHICLE LEFT SIDE SID...     19    156\n",
      "PEDALCYCLIST STRUCK MOTOR VEHICLE REAR END             30    102\n",
      "PEDALCYCLIST STRUCK MOTOR VEHICLE RIGHT SIDE AT...      1      1\n",
      "PEDALCYCLIST STRUCK MOTOR VEHICLE RIGHT SIDE SI...     10     40\n",
      "PEDALCYCLIST STRUCK OBJECT IN ROAD                      1     22\n",
      "PEDALCYCLIST STRUCK PEDALCYCLIST FRONT END AT A...      0      4\n",
      "PEDALCYCLIST STRUCK PEDALCYCLIST REAR END               0      7\n",
      "PEDALCYCLIST STRUCK PEDESTRIAN                          3     71\n"
     ]
    },
    {
     "data": {
      "image/png": "[encoded data removed]",
      "text/plain": [
       "<Figure size 360x288 with 1 Axes>"
      ]
     },
     "metadata": {
      "needs_background": "light"
     },
     "output_type": "display_data"
    }
   ],
   "source": [
    "feature = df_3.columns.to_list()[14]\n",
    "\n",
    "aa = df_3[[feature,'SEVERITYCODE']]\n",
    "\n",
    "print(pd.crosstab(aa[feature],aa['SEVERITYCODE']))\n",
    "\n",
    "#Binary Distribution Histogram\n",
    "\n",
    "plt.figure(figsize=[5,4])\n",
    "\n",
    "plt.hist([df_3[df_3.SEVERITYCODE==1][feature],\n",
    "          df_3[df_3.SEVERITYCODE==2][feature]], \n",
    "          #bins=[-.5,.5,.5,1.5], \n",
    "          ec=\"k\",\n",
    "          label=('1','2'))\n",
    "\n",
    "#plt.xticks((0,1))\n",
    "#plt.xticks(x, labels, rotation='vertical')\n",
    "plt.xticks(rotation='vertical')\n",
    "plt.grid(axis='y', alpha=0.75)\n",
    "\n",
    "plt.xlabel(feature,fontsize=15)\n",
    "\n",
    "plt.ylabel('count',fontsize=15)\n",
    "\n",
    "plt.title('Binary Distribution Histogram',fontsize=15)\n",
    "plt.legend(loc='upper right')\n",
    "\n",
    "plt.grid(axis='y', alpha=0.75)\n",
    "\n",
    "plt.savefig('plots/SDOT_COLDESC.png', dpi=100, bbox_inches='tight')\n",
    "\n",
    "plt.show()"
   ]
  },
  {
   "cell_type": "code",
   "execution_count": 46,
   "metadata": {},
   "outputs": [
    {
     "name": "stdout",
     "output_type": "stream",
     "text": [
      "SEVERITYCODE      1      2\n",
      "UNDERINFL                 \n",
      "0             55314  22200\n",
      "1              2294   1584\n",
      "N             63591  30145\n",
      "Y              3059   1880\n"
     ]
    },
    {
     "data": {
      "image/png": "[encoded data removed]",
      "text/plain": [
       "<Figure size 360x288 with 1 Axes>"
      ]
     },
     "metadata": {
      "needs_background": "light"
     },
     "output_type": "display_data"
    }
   ],
   "source": [
    "# 15. feature\n",
    "\n",
    "feature = df_3.columns.to_list()[15]\n",
    "\n",
    "aa = df_3[[feature,'SEVERITYCODE']]\n",
    "\n",
    "print(pd.crosstab(aa[feature],aa['SEVERITYCODE']))\n",
    "\n",
    "#Binary Distribution Histogram\n",
    "\n",
    "plt.figure(figsize=[5,4])\n",
    "\n",
    "plt.hist([df_3[df_3.SEVERITYCODE==1][feature],\n",
    "          df_3[df_3.SEVERITYCODE==2][feature]], \n",
    "          #bins=[-.5,.5,.5,1.5], \n",
    "          ec=\"k\",\n",
    "          label=('1','2'))\n",
    "\n",
    "#plt.xticks((0,1))\n",
    "#plt.xticks(x, labels, rotation='vertical')\n",
    "plt.xticks(rotation='vertical')\n",
    "plt.grid(axis='y', alpha=0.75)\n",
    "\n",
    "plt.xlabel(feature,fontsize=15)\n",
    "\n",
    "plt.ylabel('count',fontsize=15)\n",
    "\n",
    "plt.title('Binary Distribution Histogram',fontsize=15)\n",
    "plt.legend(loc='upper right')\n",
    "\n",
    "plt.grid(axis='y', alpha=0.75)\n",
    "\n",
    "plt.savefig('plots/UNDERINFL.png', dpi=100, bbox_inches='tight')\n",
    "\n",
    "plt.show()"
   ]
  },
  {
   "cell_type": "code",
   "execution_count": 47,
   "metadata": {
    "scrolled": false
   },
   "outputs": [
    {
     "name": "stdout",
     "output_type": "stream",
     "text": [
      "SEVERITYCODE                  1      2\n",
      "WEATHER                               \n",
      "Blowing Sand/Dirt            36     13\n",
      "Clear                     72527  35165\n",
      "Fog/Smog/Smoke              365    184\n",
      "Other                       618    110\n",
      "Overcast                  18240   8569\n",
      "Partly Cloudy                 2      3\n",
      "Raining                   20910  10809\n",
      "Severe Crosswind             17      7\n",
      "Sleet/Hail/Freezing Rain     85     27\n",
      "Snowing                     709    166\n",
      "Unknown                   10749    756\n"
     ]
    },
    {
     "data": {
      "image/png": "[encoded data removed]",
      "text/plain": [
       "<Figure size 360x288 with 1 Axes>"
      ]
     },
     "metadata": {
      "needs_background": "light"
     },
     "output_type": "display_data"
    }
   ],
   "source": [
    "# 16. feature\n",
    "\n",
    "feature = df_3.columns.to_list()[16]\n",
    "\n",
    "aa = df_3[[feature,'SEVERITYCODE']]\n",
    "\n",
    "print(pd.crosstab(aa[feature],aa['SEVERITYCODE']))\n",
    "\n",
    "#Binary Distribution Histogram\n",
    "\n",
    "plt.figure(figsize=[5,4])\n",
    "\n",
    "plt.hist([df_3[df_3.SEVERITYCODE==1][feature],\n",
    "          df_3[df_3.SEVERITYCODE==2][feature]], \n",
    "          #bins=[-.5,.5,.5,1.5], \n",
    "          ec=\"k\",\n",
    "          label=('1','2'))\n",
    "\n",
    "#plt.xticks((0,1))\n",
    "#plt.xticks(x, labels, rotation='vertical')\n",
    "plt.xticks(rotation='vertical')\n",
    "plt.grid(axis='y', alpha=0.75)\n",
    "\n",
    "plt.xlabel(feature,fontsize=15)\n",
    "\n",
    "plt.ylabel('count',fontsize=15)\n",
    "\n",
    "plt.title('Binary Distribution Histogram',fontsize=15)\n",
    "plt.legend(loc='upper right')\n",
    "\n",
    "plt.grid(axis='y', alpha=0.75)\n",
    "\n",
    "plt.savefig('plots/WEATHER.png', dpi=100, bbox_inches='tight')\n",
    "\n",
    "plt.show()"
   ]
  },
  {
   "cell_type": "code",
   "execution_count": 48,
   "metadata": {},
   "outputs": [
    {
     "name": "stdout",
     "output_type": "stream",
     "text": [
      "SEVERITYCODE        1      2\n",
      "ROADCOND                    \n",
      "Dry             81351  39278\n",
      "Ice               897    264\n",
      "Oil                29     20\n",
      "Other              76     39\n",
      "Sand/Mud/Dirt      40     22\n",
      "Snow/Slush        806    165\n",
      "Standing Water     73     26\n",
      "Unknown         10693    691\n",
      "Wet             30293  15304\n"
     ]
    },
    {
     "data": {
      "image/png": "[encoded data removed]",
      "text/plain": [
       "<Figure size 360x288 with 1 Axes>"
      ]
     },
     "metadata": {
      "needs_background": "light"
     },
     "output_type": "display_data"
    }
   ],
   "source": [
    "# 17. feature\n",
    "\n",
    "feature = df_3.columns.to_list()[17]\n",
    "\n",
    "aa = df_3[[feature,'SEVERITYCODE']]\n",
    "\n",
    "print(pd.crosstab(aa[feature],aa['SEVERITYCODE']))\n",
    "\n",
    "#Binary Distribution Histogram\n",
    "plt.figure(figsize=[5,4])\n",
    "plt.hist([df_3[df_3.SEVERITYCODE==1][feature],\n",
    "          df_3[df_3.SEVERITYCODE==2][feature]], \n",
    "          #bins=[-.5,.5,.5,1.5], \n",
    "          ec=\"k\",\n",
    "          label=('1','2'))\n",
    "\n",
    "#plt.xticks((0,1))\n",
    "#plt.xticks(x, labels, rotation='vertical')\n",
    "plt.xticks(rotation='vertical')\n",
    "plt.grid(axis='y', alpha=0.75)\n",
    "\n",
    "plt.xlabel(feature,fontsize=15)\n",
    "\n",
    "plt.ylabel('count',fontsize=15)\n",
    "\n",
    "plt.title('Binary Distribution Histogram',fontsize=15)\n",
    "plt.legend(loc='upper right')\n",
    "\n",
    "plt.grid(axis='y', alpha=0.75)\n",
    "\n",
    "plt.savefig('plots/ROADCOND.png', dpi=100, bbox_inches='tight')\n",
    "\n",
    "plt.show()"
   ]
  },
  {
   "cell_type": "code",
   "execution_count": 49,
   "metadata": {},
   "outputs": [
    {
     "name": "stdout",
     "output_type": "stream",
     "text": [
      "SEVERITYCODE                  1      2\n",
      "LIGHTCOND                             \n",
      "Dark - No Street Lights    1100    318\n",
      "Dark - Street Lights Off    826    304\n",
      "Dark - Street Lights On   32570  14113\n",
      "Dark - Unknown Lighting       7      4\n",
      "Dawn                       1582    807\n",
      "Daylight                  74466  37750\n",
      "Dusk                       3803   1905\n",
      "Other                       135     37\n",
      "Unknown                    9769    571\n"
     ]
    },
    {
     "data": {
      "image/png": "[encoded data removed]",
      "text/plain": [
       "<Figure size 360x288 with 1 Axes>"
      ]
     },
     "metadata": {
      "needs_background": "light"
     },
     "output_type": "display_data"
    }
   ],
   "source": [
    "# 18. feature\n",
    "\n",
    "feature = df_3.columns.to_list()[18]\n",
    "\n",
    "aa = df_3[[feature,'SEVERITYCODE']]\n",
    "\n",
    "print(pd.crosstab(aa[feature],aa['SEVERITYCODE']))\n",
    "\n",
    "#Binary Distribution Histogram\n",
    "plt.figure(figsize=[5,4])\n",
    "plt.hist([df_3[df_3.SEVERITYCODE==1][feature],\n",
    "          df_3[df_3.SEVERITYCODE==2][feature]], \n",
    "          #bins=[-.5,.5,.5,1.5], \n",
    "          ec=\"k\",\n",
    "          label=('1','2'))\n",
    "\n",
    "#plt.xticks((0,1))\n",
    "#plt.xticks(x, labels, rotation='vertical')\n",
    "plt.xticks(rotation='vertical')\n",
    "plt.grid(axis='y', alpha=0.75)\n",
    "\n",
    "plt.xlabel(feature,fontsize=15)\n",
    "\n",
    "plt.ylabel('count',fontsize=15)\n",
    "\n",
    "plt.title('Binary Distribution Histogram',fontsize=15)\n",
    "plt.legend(loc='upper right')\n",
    "\n",
    "plt.grid(axis='y', alpha=0.75)\n",
    "\n",
    "plt.savefig('plots/LIGHTCOND.png', dpi=100, bbox_inches='tight')\n",
    "\n",
    "plt.show()"
   ]
  },
  {
   "cell_type": "code",
   "execution_count": 38,
   "metadata": {
    "scrolled": true
   },
   "outputs": [
    {
     "name": "stdout",
     "output_type": "stream",
     "text": [
      "SEVERITYCODE      1     2\n",
      "ST_COLCODE               \n",
      "0                78   795\n",
      "1                37   344\n",
      "2                44   590\n",
      "3                 5    77\n",
      "4                 1    19\n",
      "10             6860  4304\n",
      "11             3430   531\n",
      "12              807    84\n",
      "13             1239   902\n",
      "14             4698  3897\n",
      "15              804   242\n",
      "16              774   179\n",
      "19              246    28\n",
      "20              801   134\n",
      "21              588   313\n",
      "22              927   320\n",
      "23             1221   250\n",
      "24               73   124\n",
      "25               21    14\n",
      "26              259    87\n",
      "27               63    15\n",
      "28             1904  1476\n",
      "29               77    13\n",
      "30              243   139\n",
      "31                5     2\n",
      "32            14762   647\n",
      "40               26     7\n",
      "41               10     5\n",
      "42                3     1\n",
      "43                1     0\n",
      "...             ...   ...\n",
      "45              339  2698\n",
      "48               21     1\n",
      "49                0     1\n",
      "5                59   351\n",
      "50             6126  1989\n",
      "51              180    47\n",
      "52              113   364\n",
      "53                3    14\n",
      "54                5     1\n",
      "56               15     7\n",
      "57               46    22\n",
      "6                29   228\n",
      "60                1     0\n",
      "64               13     2\n",
      "65                3     0\n",
      "66                2     3\n",
      "67                4     0\n",
      "7                 1    17\n",
      "71              700    62\n",
      "72               42     3\n",
      "73               72    36\n",
      "74              109    67\n",
      "8                 2    21\n",
      "81              494    51\n",
      "82               18     2\n",
      "83               47    17\n",
      "84               40    20\n",
      "85                1     0\n",
      "87                0     1\n",
      "88                5     3\n",
      "\n",
      "[114 rows x 2 columns]\n"
     ]
    }
   ],
   "source": [
    "# 19. feature\n",
    "\n",
    "feature = df_3.columns.to_list()[19]\n",
    "\n",
    "aa = df_3[[feature,'SEVERITYCODE']]\n",
    "\n",
    "print(pd.crosstab(aa[feature],aa['SEVERITYCODE']))"
   ]
  },
  {
   "cell_type": "code",
   "execution_count": 50,
   "metadata": {
    "scrolled": true
   },
   "outputs": [
    {
     "name": "stdout",
     "output_type": "stream",
     "text": [
      "SEVERITYCODE                                            1      2\n",
      "ST_COLDESC                                                      \n",
      "All Other Multi Vehicle                                 5      3\n",
      "All other non-collision                                70     31\n",
      "Breakage of any part of the vehicle resulting i...     21      9\n",
      "Domestic animal other (cat, dog, etc)                  29      2\n",
      "Entering at angle                                   20811  13542\n",
      "Fire started in vehicle                                 6      1\n",
      "Fixed object                                         9158   2999\n",
      "From opposite direction - all others                  830    442\n",
      "From opposite direction - both going straight -...    172     52\n",
      "From opposite direction - both going straight -...    734    276\n",
      "From opposite direction - both moving - head-on       213    363\n",
      "From opposite direction - one left turn - one r...    234     49\n",
      "From opposite direction - one left turn - one s...   5645   4599\n",
      "From opposite direction - one stopped - head-on        80     51\n",
      "From same direction - all others                     3527    796\n",
      "From same direction - both going straight - bot...   4297   2882\n",
      "From same direction - both going straight - bot...  10495   1683\n",
      "From same direction - both going straight - one...  13884  11041\n",
      "From same direction - both going straight - one...   2124    241\n",
      "From same direction - one left turn - one straight   2334    725\n",
      "From same direction - one right turn - one stra...   2302    599\n",
      "Non-domestic animal (deer, bear, elk, etc)              0      1\n",
      "Not stated                                             27     10\n",
      "One car entering driveway access                     1049    545\n",
      "One car entering parked position                      629     74\n",
      "One car leaving driveway access                      1613    607\n",
      "One car leaving parked position                      2341    434\n",
      "One parked--one moving                              37292   2116\n",
      "Other object                                          266     63\n",
      "Pedalcyclist All Other Involvements ONE UNIT - ...      2     21\n",
      "...                                                   ...    ...\n",
      "Person fell, jumped or was pushed from vehicle          4     20\n",
      "Railway Vehicle Strikes Pedalcyclist                    2      0\n",
      "Railway Vehicle Strikes Pedestrian                      9      2\n",
      "Railway Vehicle Strikes Vehicle                        82     21\n",
      "Same direction -- both turning left -- both mov...     64     21\n",
      "Same direction -- both turning left -- both mov...    749     68\n",
      "Same direction -- both turning left -- one stop...     62     32\n",
      "Same direction -- both turning left -- one stop...     32      2\n",
      "Same direction -- both turning right -- both mo...    107     54\n",
      "Same direction -- both turning right -- both mo...   1078     85\n",
      "Same direction -- both turning right -- one sto...    198    136\n",
      "Same direction -- both turning right -- one sto...     63      8\n",
      "Strikes or Was Struck by Object from the Load o...      7      2\n",
      "Strikes or Was Struck by a Part of Another Vehi...      4      0\n",
      "Vehicle - Pedalcyclist                                565   4061\n",
      "Vehicle Hits City Road or Construction Machinery       40      7\n",
      "Vehicle Hits Other Road or Construction Machinery       6      4\n",
      "Vehicle Hits State Road or Construction Machinery       1      0\n",
      "Vehicle Strikes All Other Non-Domestic Animal           0      2\n",
      "Vehicle Strikes Deer                                    1      0\n",
      "Vehicle Strikes Pedalcyclist                           59    351\n",
      "Vehicle Strikes Railway Vehicle                        42     13\n",
      "Vehicle Struck by City Road or Construction Mac...     11      0\n",
      "Vehicle Struck by Other Road or Construction Ma...      6      2\n",
      "Vehicle backing hits pedestrian                        23    197\n",
      "Vehicle going straight hits pedestrian                303   2498\n",
      "Vehicle hits Pedestrian - All Other Actions            15     91\n",
      "Vehicle overturned                                    186    595\n",
      "Vehicle turning left hits pedestrian                  177   1988\n",
      "Vehicle turning right hits pedestrian                 142   1047\n",
      "\n",
      "[62 rows x 2 columns]\n"
     ]
    },
    {
     "data": {
      "image/png": "[encoded data removed]",
      "text/plain": [
       "<Figure size 360x288 with 1 Axes>"
      ]
     },
     "metadata": {
      "needs_background": "light"
     },
     "output_type": "display_data"
    }
   ],
   "source": [
    "feature = df_3.columns.to_list()[20]\n",
    "\n",
    "aa = df_3[[feature,'SEVERITYCODE']]\n",
    "\n",
    "print(pd.crosstab(aa[feature],aa['SEVERITYCODE']))\n",
    "\n",
    "#Binary Distribution Histogram\n",
    "plt.figure(figsize=[5,4])\n",
    "plt.hist([df_3[df_3.SEVERITYCODE==1][feature],\n",
    "          df_3[df_3.SEVERITYCODE==2][feature]], \n",
    "          #bins=[-.5,.5,.5,1.5], \n",
    "          ec=\"k\",\n",
    "          label=('1','2'))\n",
    "\n",
    "#plt.xticks((0,1))\n",
    "#plt.xticks(x, labels, rotation='vertical')\n",
    "plt.xticks(rotation='vertical')\n",
    "plt.grid(axis='y', alpha=0.75)\n",
    "\n",
    "plt.xlabel(feature,fontsize=15)\n",
    "\n",
    "plt.ylabel('count',fontsize=15)\n",
    "\n",
    "plt.title('Binary Distribution Histogram',fontsize=15)\n",
    "plt.legend(loc='upper right')\n",
    "\n",
    "plt.grid(axis='y', alpha=0.75)\n",
    "\n",
    "plt.savefig('plots/ST_COLDESC.png', dpi=100, bbox_inches='tight')\n",
    "\n",
    "plt.show()"
   ]
  },
  {
   "cell_type": "code",
   "execution_count": 40,
   "metadata": {
    "scrolled": true
   },
   "outputs": [
    {
     "name": "stdout",
     "output_type": "stream",
     "text": [
      "SEVERITYCODE       1      2\n",
      "SEGLANEKEY                 \n",
      "0             123959  53409\n",
      "1189               0      1\n",
      "1200               0      1\n",
      "1248               0      1\n",
      "1257               0      1\n",
      "1271               1      0\n",
      "1309               1      0\n",
      "1350               0      1\n",
      "1371               0      1\n",
      "1408               1      0\n",
      "1414               0      1\n",
      "1499               0      1\n",
      "1506               0      1\n",
      "1550               0      1\n",
      "1627               0      1\n",
      "1793               0      1\n",
      "1824               0      1\n",
      "1873               0      1\n",
      "1876               0      1\n",
      "1884               0      1\n",
      "1893               0      1\n",
      "1961               0      1\n",
      "2052               1      0\n",
      "2105               1      1\n",
      "2112               1      1\n",
      "2115               1      0\n",
      "2126               0      2\n",
      "2167               0      1\n",
      "2174               0      1\n",
      "2181               0      1\n",
      "...              ...    ...\n",
      "43363              0      1\n",
      "43451              1      0\n",
      "43961              0      1\n",
      "44141              0      1\n",
      "44360              0      1\n",
      "44420              0      1\n",
      "44421              0      2\n",
      "44559              0      1\n",
      "44781              0      1\n",
      "44997              1      0\n",
      "45283              0      1\n",
      "45335              0      1\n",
      "45465              1      0\n",
      "45488              0      4\n",
      "45509              0      2\n",
      "45514              0      2\n",
      "45532              0      4\n",
      "45540              2      0\n",
      "45553              0      1\n",
      "45557              0      1\n",
      "45748              0      1\n",
      "45800              0      1\n",
      "45831              0      1\n",
      "45832              0      1\n",
      "46981              0      1\n",
      "54728              0      1\n",
      "59260              0      1\n",
      "521117             0      1\n",
      "525169             0      1\n",
      "525241             0      1\n",
      "\n",
      "[1919 rows x 2 columns]\n"
     ]
    }
   ],
   "source": [
    "# 21. feature\n",
    "\n",
    "feature = df_3.columns.to_list()[21]\n",
    "\n",
    "aa = df_3[[feature,'SEVERITYCODE']]\n",
    "\n",
    "print(pd.crosstab(aa[feature],aa['SEVERITYCODE']))\n",
    "\n"
   ]
  },
  {
   "cell_type": "code",
   "execution_count": 41,
   "metadata": {
    "scrolled": true
   },
   "outputs": [
    {
     "name": "stdout",
     "output_type": "stream",
     "text": [
      "SEVERITYCODE       1      2\n",
      "CROSSWALKKEY               \n",
      "0             123850  52483\n",
      "523                0      1\n",
      "7358               0      1\n",
      "9073               0      1\n",
      "10590              0      1\n",
      "15485              0      1\n",
      "17558              1      0\n",
      "21214              1      0\n",
      "23860              1      0\n",
      "23878              0      1\n",
      "23883              0      1\n",
      "24029              0      1\n",
      "24099              0      1\n",
      "24165              0      1\n",
      "24267              0      1\n",
      "24281              0      1\n",
      "24377              1      0\n",
      "24378              0      1\n",
      "24409              0      1\n",
      "24428              0      1\n",
      "24450              0      1\n",
      "24490              1      0\n",
      "24533              1      0\n",
      "24653              0      1\n",
      "24855              1      0\n",
      "24885              0      1\n",
      "24908              0      1\n",
      "25114              0      1\n",
      "25131              0      1\n",
      "25168              0      1\n",
      "...              ...    ...\n",
      "631355             0      1\n",
      "631431             0      1\n",
      "631432             0      1\n",
      "632225             0      1\n",
      "638921             2      1\n",
      "642048             0      1\n",
      "642408             0      1\n",
      "642420             0      1\n",
      "664365             0      1\n",
      "664366             0      1\n",
      "664953             0      1\n",
      "668165             0      1\n",
      "678782             0      1\n",
      "696052             0      1\n",
      "699680             0      1\n",
      "699687             0      1\n",
      "699720             0      1\n",
      "699723             0      1\n",
      "699736             0      1\n",
      "699738             0      1\n",
      "699876             0      1\n",
      "699879             0      1\n",
      "699889             0      1\n",
      "700388             0      1\n",
      "700526             0      1\n",
      "701110             0      1\n",
      "701280             0      1\n",
      "701306             0      1\n",
      "703480             0      1\n",
      "5239700            0      1\n",
      "\n",
      "[2169 rows x 2 columns]\n"
     ]
    }
   ],
   "source": [
    "# 22. feature\n",
    "\n",
    "feature = df_3.columns.to_list()[22]\n",
    "\n",
    "aa = df_3[[feature,'SEVERITYCODE']]\n",
    "\n",
    "print(pd.crosstab(aa[feature],aa['SEVERITYCODE']))"
   ]
  },
  {
   "cell_type": "code",
   "execution_count": 51,
   "metadata": {},
   "outputs": [
    {
     "name": "stdout",
     "output_type": "stream",
     "text": [
      "SEVERITYCODE       1      2\n",
      "HITPARKEDCAR               \n",
      "N             118981  55405\n",
      "Y               5277    404\n"
     ]
    },
    {
     "data": {
      "image/png": "[encoded data removed]",
      "text/plain": [
       "<Figure size 360x288 with 1 Axes>"
      ]
     },
     "metadata": {
      "needs_background": "light"
     },
     "output_type": "display_data"
    }
   ],
   "source": [
    "# 23. feature\n",
    "\n",
    "feature = df_3.columns.to_list()[23]\n",
    "\n",
    "aa = df_3[[feature,'SEVERITYCODE']]\n",
    "\n",
    "print(pd.crosstab(aa[feature],aa['SEVERITYCODE']))\n",
    "\n",
    "#Binary Distribution Histogram\n",
    "plt.figure(figsize=[5,4])\n",
    "plt.hist([df_3[df_3.SEVERITYCODE==1][feature],\n",
    "          df_3[df_3.SEVERITYCODE==2][feature]], \n",
    "          #bins=[-.5,.5,.5,1.5], \n",
    "          ec=\"k\",\n",
    "          label=('1','2'))\n",
    "\n",
    "#plt.xticks((0,1))\n",
    "#plt.xticks(x, labels, rotation='vertical')\n",
    "plt.xticks(rotation='vertical')\n",
    "plt.grid(axis='y', alpha=0.75)\n",
    "\n",
    "plt.xlabel(feature,fontsize=15)\n",
    "\n",
    "plt.ylabel('count',fontsize=15)\n",
    "\n",
    "plt.title('Binary Distribution Histogram',fontsize=15)\n",
    "plt.legend(loc='upper right')\n",
    "\n",
    "plt.grid(axis='y', alpha=0.75)\n",
    "\n",
    "plt.savefig('plots/HITPARKEDCAR.png', dpi=100, bbox_inches='tight')\n",
    "\n",
    "plt.show()"
   ]
  },
  {
   "cell_type": "markdown",
   "metadata": {},
   "source": [
    "### All these features will be helpful in my machine learning process"
   ]
  },
  {
   "cell_type": "code",
   "execution_count": null,
   "metadata": {},
   "outputs": [],
   "source": []
  },
  {
   "cell_type": "markdown",
   "metadata": {},
   "source": [
    "# <span style=\"color:red\">**Predictive Modelling**</span>"
   ]
  },
  {
   "cell_type": "markdown",
   "metadata": {},
   "source": [
    "### <span style=\"color:blue\"> Define X and Y</span>"
   ]
  },
  {
   "cell_type": "code",
   "execution_count": 43,
   "metadata": {},
   "outputs": [],
   "source": [
    "# Define X and Y\n",
    "\n",
    "X = df_last.iloc[:,1:]\n",
    "\n",
    "### For now I will not use accident time and date for training\n",
    "\n",
    "X = X.drop(columns=['INCDATE','INCDTTM'])\n",
    "\n",
    "Y = df_last.SEVERITYCODE"
   ]
  },
  {
   "cell_type": "markdown",
   "metadata": {},
   "source": [
    "### <span style=\"color:blue\"> Labeling</span>"
   ]
  },
  {
   "cell_type": "markdown",
   "metadata": {},
   "source": [
    "### some features are categorical I will need to label them or transfer them in such a way that machine can understand"
   ]
  },
  {
   "cell_type": "code",
   "execution_count": 44,
   "metadata": {},
   "outputs": [],
   "source": [
    "# creating instance of labelencoder\n",
    "labelencoder = LabelEncoder()"
   ]
  },
  {
   "cell_type": "code",
   "execution_count": 45,
   "metadata": {},
   "outputs": [
    {
     "data": {
      "text/plain": [
       "ADDRTYPE         object\n",
       "COLLISIONTYPE    object\n",
       "JUNCTIONTYPE     object\n",
       "SDOT_COLDESC     object\n",
       "UNDERINFL        object\n",
       "WEATHER          object\n",
       "ROADCOND         object\n",
       "LIGHTCOND        object\n",
       "ST_COLCODE       object\n",
       "ST_COLDESC       object\n",
       "HITPARKEDCAR     object\n",
       "dtype: object"
      ]
     },
     "execution_count": 45,
     "metadata": {},
     "output_type": "execute_result"
    }
   ],
   "source": [
    "X.dtypes[X.dtypes==object]"
   ]
  },
  {
   "cell_type": "code",
   "execution_count": 46,
   "metadata": {},
   "outputs": [
    {
     "data": {
      "text/plain": [
       "Index(['ADDRTYPE', 'COLLISIONTYPE', 'JUNCTIONTYPE', 'SDOT_COLDESC',\n",
       "       'UNDERINFL', 'WEATHER', 'ROADCOND', 'LIGHTCOND', 'ST_COLCODE',\n",
       "       'ST_COLDESC', 'HITPARKEDCAR'],\n",
       "      dtype='object')"
      ]
     },
     "execution_count": 46,
     "metadata": {},
     "output_type": "execute_result"
    }
   ],
   "source": [
    "X.columns[X.dtypes==object]"
   ]
  },
  {
   "cell_type": "markdown",
   "metadata": {},
   "source": [
    "### I coulnd not label ST_COLCODE because it is mixture of str and numerical value, \n",
    "### I convert it to numeric to make it only one data type"
   ]
  },
  {
   "cell_type": "code",
   "execution_count": 47,
   "metadata": {},
   "outputs": [],
   "source": [
    "X['ST_COLCODE'] = pd.to_numeric(X['ST_COLCODE'])"
   ]
  },
  {
   "cell_type": "code",
   "execution_count": 48,
   "metadata": {},
   "outputs": [
    {
     "name": "stdout",
     "output_type": "stream",
     "text": [
      "ADDRTYPE_new       labeling is completed\n",
      "COLLISIONTYPE_new  labeling is completed\n",
      "JUNCTIONTYPE_new   labeling is completed\n",
      "SDOT_COLDESC_new   labeling is completed\n",
      "UNDERINFL_new      labeling is completed\n",
      "WEATHER_new        labeling is completed\n",
      "ROADCOND_new       labeling is completed\n",
      "LIGHTCOND_new      labeling is completed\n",
      "ST_COLDESC_new     labeling is completed\n",
      "HITPARKEDCAR_new   labeling is completed\n"
     ]
    }
   ],
   "source": [
    "for column in X:\n",
    "    \n",
    "    s=column+\"_new\"\n",
    "    \n",
    "    if X[column].dtypes==object:\n",
    "        \n",
    "        X[s] = labelencoder.fit_transform(X[column])\n",
    "        \n",
    "        print('{:<18}'.format(s),\"labeling is completed\")"
   ]
  },
  {
   "cell_type": "code",
   "execution_count": 49,
   "metadata": {},
   "outputs": [
    {
     "name": "stdout",
     "output_type": "stream",
     "text": [
      "<class 'pandas.core.frame.DataFrame'>\n",
      "Int64Index: 180067 entries, 0 to 194672\n",
      "Data columns (total 28 columns):\n",
      "ADDRTYPE             180067 non-null object\n",
      "COLLISIONTYPE        180067 non-null object\n",
      "PERSONCOUNT          180067 non-null int64\n",
      "PEDCOUNT             180067 non-null int64\n",
      "PEDCYLCOUNT          180067 non-null int64\n",
      "VEHCOUNT             180067 non-null int64\n",
      "JUNCTIONTYPE         180067 non-null object\n",
      "SDOT_COLCODE         180067 non-null int64\n",
      "SDOT_COLDESC         180067 non-null object\n",
      "UNDERINFL            180067 non-null object\n",
      "WEATHER              180067 non-null object\n",
      "ROADCOND             180067 non-null object\n",
      "LIGHTCOND            180067 non-null object\n",
      "ST_COLCODE           180067 non-null int64\n",
      "ST_COLDESC           180067 non-null object\n",
      "SEGLANEKEY           180067 non-null int64\n",
      "CROSSWALKKEY         180067 non-null int64\n",
      "HITPARKEDCAR         180067 non-null object\n",
      "ADDRTYPE_new         180067 non-null int64\n",
      "COLLISIONTYPE_new    180067 non-null int64\n",
      "JUNCTIONTYPE_new     180067 non-null int64\n",
      "SDOT_COLDESC_new     180067 non-null int64\n",
      "UNDERINFL_new        180067 non-null int64\n",
      "WEATHER_new          180067 non-null int64\n",
      "ROADCOND_new         180067 non-null int64\n",
      "LIGHTCOND_new        180067 non-null int64\n",
      "ST_COLDESC_new       180067 non-null int64\n",
      "HITPARKEDCAR_new     180067 non-null int64\n",
      "dtypes: int64(18), object(10)\n",
      "memory usage: 39.8+ MB\n"
     ]
    }
   ],
   "source": [
    "X.info()"
   ]
  },
  {
   "cell_type": "markdown",
   "metadata": {},
   "source": [
    "### Drop object features in the Dataframe"
   ]
  },
  {
   "cell_type": "code",
   "execution_count": 50,
   "metadata": {},
   "outputs": [],
   "source": [
    "XXX = X.drop(columns=X.columns[X.dtypes==object])"
   ]
  },
  {
   "cell_type": "code",
   "execution_count": 51,
   "metadata": {},
   "outputs": [
    {
     "data": {
      "text/html": [
       "<div>\n",
       "<style scoped>\n",
       "    .dataframe tbody tr th:only-of-type {\n",
       "        vertical-align: middle;\n",
       "    }\n",
       "\n",
       "    .dataframe tbody tr th {\n",
       "        vertical-align: top;\n",
       "    }\n",
       "\n",
       "    .dataframe thead th {\n",
       "        text-align: right;\n",
       "    }\n",
       "</style>\n",
       "<table border=\"1\" class=\"dataframe\">\n",
       "  <thead>\n",
       "    <tr style=\"text-align: right;\">\n",
       "      <th></th>\n",
       "      <th>PERSONCOUNT</th>\n",
       "      <th>PEDCOUNT</th>\n",
       "      <th>PEDCYLCOUNT</th>\n",
       "      <th>VEHCOUNT</th>\n",
       "      <th>SDOT_COLCODE</th>\n",
       "      <th>ST_COLCODE</th>\n",
       "      <th>SEGLANEKEY</th>\n",
       "      <th>CROSSWALKKEY</th>\n",
       "      <th>ADDRTYPE_new</th>\n",
       "      <th>COLLISIONTYPE_new</th>\n",
       "      <th>JUNCTIONTYPE_new</th>\n",
       "      <th>SDOT_COLDESC_new</th>\n",
       "      <th>UNDERINFL_new</th>\n",
       "      <th>WEATHER_new</th>\n",
       "      <th>ROADCOND_new</th>\n",
       "      <th>LIGHTCOND_new</th>\n",
       "      <th>ST_COLDESC_new</th>\n",
       "      <th>HITPARKEDCAR_new</th>\n",
       "    </tr>\n",
       "  </thead>\n",
       "  <tbody>\n",
       "    <tr>\n",
       "      <th>0</th>\n",
       "      <td>2</td>\n",
       "      <td>0</td>\n",
       "      <td>0</td>\n",
       "      <td>2</td>\n",
       "      <td>11</td>\n",
       "      <td>10</td>\n",
       "      <td>0</td>\n",
       "      <td>0</td>\n",
       "      <td>1</td>\n",
       "      <td>0</td>\n",
       "      <td>1</td>\n",
       "      <td>14</td>\n",
       "      <td>2</td>\n",
       "      <td>4</td>\n",
       "      <td>8</td>\n",
       "      <td>5</td>\n",
       "      <td>4</td>\n",
       "      <td>0</td>\n",
       "    </tr>\n",
       "    <tr>\n",
       "      <th>1</th>\n",
       "      <td>2</td>\n",
       "      <td>0</td>\n",
       "      <td>0</td>\n",
       "      <td>2</td>\n",
       "      <td>16</td>\n",
       "      <td>11</td>\n",
       "      <td>0</td>\n",
       "      <td>0</td>\n",
       "      <td>0</td>\n",
       "      <td>9</td>\n",
       "      <td>4</td>\n",
       "      <td>16</td>\n",
       "      <td>0</td>\n",
       "      <td>6</td>\n",
       "      <td>8</td>\n",
       "      <td>2</td>\n",
       "      <td>16</td>\n",
       "      <td>0</td>\n",
       "    </tr>\n",
       "    <tr>\n",
       "      <th>2</th>\n",
       "      <td>4</td>\n",
       "      <td>0</td>\n",
       "      <td>0</td>\n",
       "      <td>3</td>\n",
       "      <td>14</td>\n",
       "      <td>32</td>\n",
       "      <td>0</td>\n",
       "      <td>0</td>\n",
       "      <td>0</td>\n",
       "      <td>5</td>\n",
       "      <td>4</td>\n",
       "      <td>17</td>\n",
       "      <td>0</td>\n",
       "      <td>4</td>\n",
       "      <td>0</td>\n",
       "      <td>5</td>\n",
       "      <td>27</td>\n",
       "      <td>0</td>\n",
       "    </tr>\n",
       "    <tr>\n",
       "      <th>3</th>\n",
       "      <td>3</td>\n",
       "      <td>0</td>\n",
       "      <td>0</td>\n",
       "      <td>3</td>\n",
       "      <td>11</td>\n",
       "      <td>23</td>\n",
       "      <td>0</td>\n",
       "      <td>0</td>\n",
       "      <td>0</td>\n",
       "      <td>4</td>\n",
       "      <td>4</td>\n",
       "      <td>14</td>\n",
       "      <td>2</td>\n",
       "      <td>1</td>\n",
       "      <td>0</td>\n",
       "      <td>5</td>\n",
       "      <td>14</td>\n",
       "      <td>0</td>\n",
       "    </tr>\n",
       "    <tr>\n",
       "      <th>4</th>\n",
       "      <td>2</td>\n",
       "      <td>0</td>\n",
       "      <td>0</td>\n",
       "      <td>2</td>\n",
       "      <td>11</td>\n",
       "      <td>10</td>\n",
       "      <td>0</td>\n",
       "      <td>0</td>\n",
       "      <td>1</td>\n",
       "      <td>0</td>\n",
       "      <td>1</td>\n",
       "      <td>14</td>\n",
       "      <td>0</td>\n",
       "      <td>6</td>\n",
       "      <td>8</td>\n",
       "      <td>5</td>\n",
       "      <td>4</td>\n",
       "      <td>0</td>\n",
       "    </tr>\n",
       "  </tbody>\n",
       "</table>\n",
       "</div>"
      ],
      "text/plain": [
       "   PERSONCOUNT  PEDCOUNT  PEDCYLCOUNT  VEHCOUNT  SDOT_COLCODE  ST_COLCODE  \\\n",
       "0            2         0            0         2            11          10   \n",
       "1            2         0            0         2            16          11   \n",
       "2            4         0            0         3            14          32   \n",
       "3            3         0            0         3            11          23   \n",
       "4            2         0            0         2            11          10   \n",
       "\n",
       "   SEGLANEKEY  CROSSWALKKEY  ADDRTYPE_new  COLLISIONTYPE_new  \\\n",
       "0           0             0             1                  0   \n",
       "1           0             0             0                  9   \n",
       "2           0             0             0                  5   \n",
       "3           0             0             0                  4   \n",
       "4           0             0             1                  0   \n",
       "\n",
       "   JUNCTIONTYPE_new  SDOT_COLDESC_new  UNDERINFL_new  WEATHER_new  \\\n",
       "0                 1                14              2            4   \n",
       "1                 4                16              0            6   \n",
       "2                 4                17              0            4   \n",
       "3                 4                14              2            1   \n",
       "4                 1                14              0            6   \n",
       "\n",
       "   ROADCOND_new  LIGHTCOND_new  ST_COLDESC_new  HITPARKEDCAR_new  \n",
       "0             8              5               4                 0  \n",
       "1             8              2              16                 0  \n",
       "2             0              5              27                 0  \n",
       "3             0              5              14                 0  \n",
       "4             8              5               4                 0  "
      ]
     },
     "execution_count": 51,
     "metadata": {},
     "output_type": "execute_result"
    }
   ],
   "source": [
    "XXX.head()"
   ]
  },
  {
   "cell_type": "code",
   "execution_count": 52,
   "metadata": {},
   "outputs": [
    {
     "name": "stdout",
     "output_type": "stream",
     "text": [
      "<class 'pandas.core.frame.DataFrame'>\n",
      "Int64Index: 180067 entries, 0 to 194672\n",
      "Data columns (total 18 columns):\n",
      "PERSONCOUNT          180067 non-null int64\n",
      "PEDCOUNT             180067 non-null int64\n",
      "PEDCYLCOUNT          180067 non-null int64\n",
      "VEHCOUNT             180067 non-null int64\n",
      "SDOT_COLCODE         180067 non-null int64\n",
      "ST_COLCODE           180067 non-null int64\n",
      "SEGLANEKEY           180067 non-null int64\n",
      "CROSSWALKKEY         180067 non-null int64\n",
      "ADDRTYPE_new         180067 non-null int64\n",
      "COLLISIONTYPE_new    180067 non-null int64\n",
      "JUNCTIONTYPE_new     180067 non-null int64\n",
      "SDOT_COLDESC_new     180067 non-null int64\n",
      "UNDERINFL_new        180067 non-null int64\n",
      "WEATHER_new          180067 non-null int64\n",
      "ROADCOND_new         180067 non-null int64\n",
      "LIGHTCOND_new        180067 non-null int64\n",
      "ST_COLDESC_new       180067 non-null int64\n",
      "HITPARKEDCAR_new     180067 non-null int64\n",
      "dtypes: int64(18)\n",
      "memory usage: 26.1 MB\n"
     ]
    }
   ],
   "source": [
    "XXX.info()"
   ]
  },
  {
   "cell_type": "code",
   "execution_count": 53,
   "metadata": {},
   "outputs": [],
   "source": [
    "# split test and train data\n",
    "\n",
    "X_train, X_test, y_train, y_test = train_test_split(XXX, Y, test_size=0.2, random_state=42)"
   ]
  },
  {
   "cell_type": "markdown",
   "metadata": {},
   "source": [
    "### <span style=\"color:blue\"> Define Functions</span>"
   ]
  },
  {
   "cell_type": "code",
   "execution_count": 54,
   "metadata": {},
   "outputs": [],
   "source": [
    "\"\"\" A function to plot Confusion Matrix \"\"\"\n",
    "\n",
    "def plot_confusion_matrix(y, predictions, model_name, cmap='Purples', cbar=False):\n",
    "    \n",
    "    cm    = confusion_matrix(y, predictions)\n",
    "    \n",
    "    cm_df = pd.DataFrame(cm)\n",
    "    \n",
    "    labels = ['True Neg','False Pos','False Neg','True Pos']\n",
    "              \n",
    "    categories = ['Zero', 'One']\n",
    "\n",
    "    fig, ax = plt.subplots(figsize=(7, 7))\n",
    "    \n",
    "    group_names = ['True Neg','False Pos','False Neg','True Pos']\n",
    "    \n",
    "    group_counts = [\"{0:0.0f}\".format(value) for value in cm.flatten()]\n",
    "    \n",
    "    group_percentages = [\"{0:.2%}\".format(value) for value in cm.flatten()/np.sum(cm)]\n",
    "    \n",
    "    labels = [f\"{v1}\\n{v2}\\n{v3}\" for v1, v2, v3 in zip(group_names,group_counts,group_percentages)]\n",
    "    \n",
    "    labels = np.asarray(labels).reshape(2,2)\n",
    "\n",
    "    sns.heatmap(cm, annot=labels, fmt='', cmap='Blues')\n",
    "\n",
    "    bottom, top = ax.get_ylim()\n",
    "    _ = ax.set_ylim(bottom + 0.5, top - 0.5)\n",
    "\n",
    "    plt.ylabel(\"Actual\", fontweight='bold', fontsize=15)\n",
    "    plt.xlabel(\"Predicted\", fontweight='bold', fontsize=15)\n",
    "    \n",
    "    ax.set_xticklabels([\"SEVERITYCODE(1)\", \"SEVERITYCODE(2)\"], fontsize=13)\n",
    "    ax.set_yticklabels([\"SEVERITYCODE(1)\", \"SEVERITYCODE(2)\"], fontsize=13)\n",
    "    \n",
    "    plt.title(\"Confusion Matrix for {} - Counts\".format(model_name),fontweight='bold', fontsize=15,pad=20)\n",
    "    plt.show()"
   ]
  },
  {
   "cell_type": "code",
   "execution_count": 55,
   "metadata": {},
   "outputs": [],
   "source": [
    "\"\"\" A function to plot ROC curve and calculate AUC\"\"\"\n",
    "\n",
    "def AUC_and_plot_ROC(model, X_test, y_test):\n",
    "    \n",
    "    probs = model.predict_proba(X_test)\n",
    "\n",
    "    preds = probs[:,1]\n",
    "\n",
    "    false_positive_rate, true_positive_rate, thresholds = roc_curve(y_test, preds)\n",
    "\n",
    "    AUC = auc(false_positive_rate, true_positive_rate)\n",
    "    \n",
    "\n",
    "    # plot the roc curve for the model\n",
    "\n",
    "    plt.title(\"\")\n",
    "\n",
    "    plt.plot(false_positive_rate, true_positive_rate, 'b', linestyle='--', label='AUC = %0.2f'% AUC)\n",
    "    \n",
    "    plt.plot([0,1],[0,1],'r--')\n",
    "\n",
    "    plt.legend(loc='upper left')\n",
    "\n",
    "    plt.xlim([0, 1])\n",
    "    plt.ylim([0, 1])\n",
    "\n",
    "    plt.ylabel('True Positive Rate')\n",
    "    plt.xlabel('False Positive Rate')\n",
    "    plt.show()\n",
    "   \n",
    "    return AUC"
   ]
  },
  {
   "cell_type": "code",
   "execution_count": 56,
   "metadata": {},
   "outputs": [],
   "source": [
    "\"\"\" A function to calculate specificity from confusion matrix \"\"\"\n",
    "\n",
    "def specificity(y_test, y_pred):\n",
    "    \n",
    "    tn, fp, fn, tp = confusion_matrix(y_test, y_pred).ravel()\n",
    "    \n",
    "    return tn/(tn+fp)"
   ]
  },
  {
   "cell_type": "code",
   "execution_count": 57,
   "metadata": {},
   "outputs": [],
   "source": [
    "\"\"\" A function to print confusion matrix and Classification report\"\"\"\n",
    "\n",
    "def con_matrix_and_clas_report(y_test, y_pred):\n",
    "    \n",
    "    print(\"Confusion Matrix: \\n\", confusion_matrix(y_test, y_pred))\n",
    "\n",
    "    tn, fp, fn, tp = confusion_matrix(y_test, y_pred).ravel()\n",
    "\n",
    "    print(\"\\nTrue negative: \",tn, \"False positive: \",fp,\"False negative: \",fn, \"True positive: \",tp)\n",
    "\n",
    "    print(\"\\nSpecificity: \",specificity(y_test, y_pred))\n",
    "\n",
    "    print(\"\\nClassification report: \\n \\n\", classification_report(y_test, y_pred))"
   ]
  },
  {
   "cell_type": "markdown",
   "metadata": {},
   "source": [
    "## <span style=\"color:red\"> 1. ML Model: Logistic Regression</span>"
   ]
  },
  {
   "cell_type": "code",
   "execution_count": 58,
   "metadata": {},
   "outputs": [
    {
     "name": "stdout",
     "output_type": "stream",
     "text": [
      "Time elapsed :  5.95 secs\n"
     ]
    }
   ],
   "source": [
    "# Create LR Object\n",
    "\n",
    "LR = LogisticRegression()\n",
    "\n",
    "# Training \n",
    "\n",
    "start = time.process_time()\n",
    "\n",
    "model_LR = LR.fit(X_train,y_train)\n",
    "\n",
    "print(f'Time elapsed : {time.process_time() - start : 2.2f} secs')\n",
    "\n",
    "# prediction\n",
    "\n",
    "y_pred = model_LR.predict(X_test)"
   ]
  },
  {
   "cell_type": "code",
   "execution_count": 59,
   "metadata": {},
   "outputs": [
    {
     "data": {
      "text/plain": [
       "{'C': 1.0,\n",
       " 'class_weight': None,\n",
       " 'dual': False,\n",
       " 'fit_intercept': True,\n",
       " 'intercept_scaling': 1,\n",
       " 'l1_ratio': None,\n",
       " 'max_iter': 100,\n",
       " 'multi_class': 'auto',\n",
       " 'n_jobs': None,\n",
       " 'penalty': 'l2',\n",
       " 'random_state': None,\n",
       " 'solver': 'lbfgs',\n",
       " 'tol': 0.0001,\n",
       " 'verbose': 0,\n",
       " 'warm_start': False}"
      ]
     },
     "execution_count": 59,
     "metadata": {},
     "output_type": "execute_result"
    }
   ],
   "source": [
    "model_LR.get_params()"
   ]
  },
  {
   "cell_type": "code",
   "execution_count": 60,
   "metadata": {},
   "outputs": [
    {
     "name": "stdout",
     "output_type": "stream",
     "text": [
      "[[    1 33824]\n",
      " [    2  2190]]\n"
     ]
    }
   ],
   "source": [
    "unique, counts = np.unique(y_pred, return_counts=True)\n",
    "\n",
    "print(np.asarray((unique, counts)).T)"
   ]
  },
  {
   "cell_type": "code",
   "execution_count": 61,
   "metadata": {},
   "outputs": [
    {
     "name": "stdout",
     "output_type": "stream",
     "text": [
      "Confusion Matrix: \n",
      " [[24614   359]\n",
      " [ 9210  1831]]\n",
      "\n",
      "True negative:  24614 False positive:  359 False negative:  9210 True positive:  1831\n",
      "\n",
      "Specificity:  0.985624474432387\n",
      "\n",
      "Classification report: \n",
      " \n",
      "               precision    recall  f1-score   support\n",
      "\n",
      "           1       0.73      0.99      0.84     24973\n",
      "           2       0.84      0.17      0.28     11041\n",
      "\n",
      "    accuracy                           0.73     36014\n",
      "   macro avg       0.78      0.58      0.56     36014\n",
      "weighted avg       0.76      0.73      0.67     36014\n",
      "\n"
     ]
    },
    {
     "data": {
      "image/png": "[encoded data removed]",
      "text/plain": [
       "<Figure size 504x504 with 2 Axes>"
      ]
     },
     "metadata": {
      "needs_background": "light"
     },
     "output_type": "display_data"
    },
    {
     "name": "stdout",
     "output_type": "stream",
     "text": [
      "roc_auc_score:  0.5757304511460911\n"
     ]
    }
   ],
   "source": [
    "con_matrix_and_clas_report(y_test, y_pred)\n",
    "\n",
    "plot_confusion_matrix(y_test, y_pred, 'Logistic Regression Base Model', cmap='Purples', cbar=False)\n",
    "\n",
    "#Checking performance our model with ROC Score.\n",
    "\n",
    "print(\"roc_auc_score: \",roc_auc_score(y_test, y_pred))"
   ]
  },
  {
   "cell_type": "code",
   "execution_count": 62,
   "metadata": {},
   "outputs": [
    {
     "data": {
      "text/html": [
       "<div>\n",
       "<style scoped>\n",
       "    .dataframe tbody tr th:only-of-type {\n",
       "        vertical-align: middle;\n",
       "    }\n",
       "\n",
       "    .dataframe tbody tr th {\n",
       "        vertical-align: top;\n",
       "    }\n",
       "\n",
       "    .dataframe thead th {\n",
       "        text-align: right;\n",
       "    }\n",
       "</style>\n",
       "<table border=\"1\" class=\"dataframe\">\n",
       "  <thead>\n",
       "    <tr style=\"text-align: right;\">\n",
       "      <th></th>\n",
       "      <th>SEVERITYCODE</th>\n",
       "      <th>Percentage</th>\n",
       "    </tr>\n",
       "  </thead>\n",
       "  <tbody>\n",
       "    <tr>\n",
       "      <th>2</th>\n",
       "      <td>44768</td>\n",
       "      <td>50.0</td>\n",
       "    </tr>\n",
       "    <tr>\n",
       "      <th>1</th>\n",
       "      <td>44768</td>\n",
       "      <td>50.0</td>\n",
       "    </tr>\n",
       "  </tbody>\n",
       "</table>\n",
       "</div>"
      ],
      "text/plain": [
       "   SEVERITYCODE  Percentage\n",
       "2         44768        50.0\n",
       "1         44768        50.0"
      ]
     },
     "execution_count": 62,
     "metadata": {},
     "output_type": "execute_result"
    }
   ],
   "source": [
    "# RandomUnderSampler\n",
    "\n",
    "X_resampled_rus, y_resampled_rus = RandomUnderSampler(random_state=0).fit_resample(X_train,y_train)\n",
    "\n",
    "df1 = pd.DataFrame(y_resampled_rus)\n",
    "df2 = pd.DataFrame(df1.SEVERITYCODE.value_counts())\n",
    "\n",
    "df2['Percentage'] = 100*df2['SEVERITYCODE']/df1.shape[0]\n",
    "df2"
   ]
  },
  {
   "cell_type": "code",
   "execution_count": 63,
   "metadata": {},
   "outputs": [
    {
     "name": "stdout",
     "output_type": "stream",
     "text": [
      "Time elapsed :  3.57 secs\n"
     ]
    }
   ],
   "source": [
    "start = time.process_time()\n",
    "\n",
    "model = LogisticRegression().fit(X_resampled_rus, y_resampled_rus)\n",
    "\n",
    "print(f'Time elapsed : {time.process_time() - start : 2.2f} secs')\n",
    "\n",
    "y_pred = model.predict(X_test)"
   ]
  },
  {
   "cell_type": "code",
   "execution_count": 64,
   "metadata": {},
   "outputs": [
    {
     "name": "stdout",
     "output_type": "stream",
     "text": [
      "Confusion Matrix: \n",
      " [[14347 10626]\n",
      " [ 3225  7816]]\n",
      "\n",
      "True negative:  14347 False positive:  10626 False negative:  3225 True positive:  7816\n",
      "\n",
      "Specificity:  0.5745004604973372\n",
      "\n",
      "Classification report: \n",
      " \n",
      "               precision    recall  f1-score   support\n",
      "\n",
      "           1       0.82      0.57      0.67     24973\n",
      "           2       0.42      0.71      0.53     11041\n",
      "\n",
      "    accuracy                           0.62     36014\n",
      "   macro avg       0.62      0.64      0.60     36014\n",
      "weighted avg       0.70      0.62      0.63     36014\n",
      "\n"
     ]
    },
    {
     "data": {
      "image/png": "[encoded data removed]",
      "text/plain": [
       "<Figure size 504x504 with 2 Axes>"
      ]
     },
     "metadata": {
      "needs_background": "light"
     },
     "output_type": "display_data"
    },
    {
     "name": "stdout",
     "output_type": "stream",
     "text": [
      "roc_auc_score:  0.6412036764944796\n"
     ]
    }
   ],
   "source": [
    "con_matrix_and_clas_report(y_test, y_pred)\n",
    "plot_confusion_matrix(y_test, y_pred, 'Logistic Regression Random Under Sampling Model', cmap='Purples', cbar=False)\n",
    "\n",
    "#Checking performance our model with ROC Score.\n",
    "\n",
    "print(\"roc_auc_score: \",roc_auc_score(y_test, y_pred))"
   ]
  },
  {
   "cell_type": "markdown",
   "metadata": {},
   "source": [
    "## <span style=\"color:red\"> 2. ML Model: Random Forest Classifier</span>"
   ]
  },
  {
   "cell_type": "code",
   "execution_count": 65,
   "metadata": {},
   "outputs": [
    {
     "name": "stdout",
     "output_type": "stream",
     "text": [
      "Time elapsed :  34.40 secs\n"
     ]
    }
   ],
   "source": [
    "start = time.process_time()\n",
    "\n",
    "model = RandomForestClassifier().fit(X_train,y_train)\n",
    "\n",
    "print(f'Time elapsed : {time.process_time() - start : 2.2f} secs')\n",
    "\n",
    "y_pred = model.predict(X_test)"
   ]
  },
  {
   "cell_type": "code",
   "execution_count": 66,
   "metadata": {},
   "outputs": [
    {
     "name": "stdout",
     "output_type": "stream",
     "text": [
      "Confusion Matrix: \n",
      " [[22650  2323]\n",
      " [ 6819  4222]]\n",
      "\n",
      "True negative:  22650 False positive:  2323 False negative:  6819 True positive:  4222\n",
      "\n",
      "Specificity:  0.906979537900933\n",
      "\n",
      "Classification report: \n",
      " \n",
      "               precision    recall  f1-score   support\n",
      "\n",
      "           1       0.77      0.91      0.83     24973\n",
      "           2       0.65      0.38      0.48     11041\n",
      "\n",
      "    accuracy                           0.75     36014\n",
      "   macro avg       0.71      0.64      0.66     36014\n",
      "weighted avg       0.73      0.75      0.72     36014\n",
      "\n"
     ]
    },
    {
     "data": {
      "image/png": "[encoded data removed]",
      "text/plain": [
       "<Figure size 504x504 with 2 Axes>"
      ]
     },
     "metadata": {
      "needs_background": "light"
     },
     "output_type": "display_data"
    },
    {
     "name": "stdout",
     "output_type": "stream",
     "text": [
      "roc_auc_score:  0.6446862185474233\n"
     ]
    }
   ],
   "source": [
    "con_matrix_and_clas_report(y_test, y_pred)\n",
    "plot_confusion_matrix(y_test, y_pred, 'Random Forest Base Model', cmap='Purples', cbar=False)\n",
    "\n",
    "#Checking performance our model with ROC Score.\n",
    "\n",
    "print(\"roc_auc_score: \",roc_auc_score(y_test, y_pred))"
   ]
  },
  {
   "cell_type": "code",
   "execution_count": 67,
   "metadata": {},
   "outputs": [
    {
     "name": "stdout",
     "output_type": "stream",
     "text": [
      "Time elapsed :  20.40 secs\n"
     ]
    }
   ],
   "source": [
    "# RandomUnderSampler\n",
    "\n",
    "#X_resampled_rus, y_resampled_rus = RandomUnderSampler(random_state=0).fit_resample(X_train,y_train)\n",
    "\n",
    "start = time.process_time()\n",
    "\n",
    "model = RandomForestClassifier().fit(X_resampled_rus, y_resampled_rus)\n",
    "\n",
    "print(f'Time elapsed : {time.process_time() - start : 2.2f} secs')\n",
    "\n",
    "y_pred = model.predict(X_test)"
   ]
  },
  {
   "cell_type": "code",
   "execution_count": 68,
   "metadata": {},
   "outputs": [
    {
     "name": "stdout",
     "output_type": "stream",
     "text": [
      "Confusion Matrix: \n",
      " [[15563  9410]\n",
      " [ 2517  8524]]\n",
      "\n",
      "True negative:  15563 False positive:  9410 False negative:  2517 True positive:  8524\n",
      "\n",
      "Specificity:  0.6231930484923718\n",
      "\n",
      "Classification report: \n",
      " \n",
      "               precision    recall  f1-score   support\n",
      "\n",
      "           1       0.86      0.62      0.72     24973\n",
      "           2       0.48      0.77      0.59     11041\n",
      "\n",
      "    accuracy                           0.67     36014\n",
      "   macro avg       0.67      0.70      0.66     36014\n",
      "weighted avg       0.74      0.67      0.68     36014\n",
      "\n"
     ]
    },
    {
     "data": {
      "image/png": "[encoded data removed]",
      "text/plain": [
       "<Figure size 504x504 with 2 Axes>"
      ]
     },
     "metadata": {
      "needs_background": "light"
     },
     "output_type": "display_data"
    },
    {
     "name": "stdout",
     "output_type": "stream",
     "text": [
      "roc_auc_score:  0.6976122836882654\n"
     ]
    }
   ],
   "source": [
    "con_matrix_and_clas_report(y_test, y_pred)\n",
    "plot_confusion_matrix(y_test, y_pred, 'Random Forest Random Under Sampling Model', cmap='Purples', cbar=False)\n",
    "\n",
    "#Checking performance our model with ROC Score.\n",
    "\n",
    "print(\"roc_auc_score: \",roc_auc_score(y_test, y_pred))"
   ]
  },
  {
   "cell_type": "markdown",
   "metadata": {},
   "source": [
    "## <span style=\"color:red\"> 3. ML Model: K Neighbors Classifier</span>"
   ]
  },
  {
   "cell_type": "code",
   "execution_count": 69,
   "metadata": {},
   "outputs": [],
   "source": [
    "# Create KNN Object\n",
    "\n",
    "knn = KNeighborsClassifier()"
   ]
  },
  {
   "cell_type": "code",
   "execution_count": 70,
   "metadata": {},
   "outputs": [
    {
     "name": "stdout",
     "output_type": "stream",
     "text": [
      "Time elapsed :  202.84 secs \n",
      "\n"
     ]
    }
   ],
   "source": [
    "start = time.process_time()\n",
    "\n",
    "model = knn.fit(X_train,y_train)\n",
    "\n",
    "print(f'Time elapsed : {time.process_time() - start : 2.2f} secs \\n')"
   ]
  },
  {
   "cell_type": "code",
   "execution_count": 71,
   "metadata": {},
   "outputs": [],
   "source": [
    "y_pred = knn.predict(X_test)"
   ]
  },
  {
   "cell_type": "code",
   "execution_count": 72,
   "metadata": {},
   "outputs": [
    {
     "data": {
      "text/plain": [
       "{'algorithm': 'auto',\n",
       " 'leaf_size': 30,\n",
       " 'metric': 'minkowski',\n",
       " 'metric_params': None,\n",
       " 'n_jobs': None,\n",
       " 'n_neighbors': 5,\n",
       " 'p': 2,\n",
       " 'weights': 'uniform'}"
      ]
     },
     "execution_count": 72,
     "metadata": {},
     "output_type": "execute_result"
    }
   ],
   "source": [
    "model.get_params()"
   ]
  },
  {
   "cell_type": "code",
   "execution_count": 73,
   "metadata": {},
   "outputs": [
    {
     "name": "stdout",
     "output_type": "stream",
     "text": [
      "Confusion Matrix: \n",
      " [[21423  3550]\n",
      " [ 6142  4899]]\n",
      "\n",
      "True negative:  21423 False positive:  3550 False negative:  6142 True positive:  4899\n",
      "\n",
      "Specificity:  0.8578464741921275\n",
      "\n",
      "Classification report: \n",
      " \n",
      "               precision    recall  f1-score   support\n",
      "\n",
      "           1       0.78      0.86      0.82     24973\n",
      "           2       0.58      0.44      0.50     11041\n",
      "\n",
      "    accuracy                           0.73     36014\n",
      "   macro avg       0.68      0.65      0.66     36014\n",
      "weighted avg       0.72      0.73      0.72     36014\n",
      "\n"
     ]
    },
    {
     "data": {
      "image/png": "[encoded data removed]",
      "text/plain": [
       "<Figure size 504x504 with 2 Axes>"
      ]
     },
     "metadata": {
      "needs_background": "light"
     },
     "output_type": "display_data"
    },
    {
     "name": "stdout",
     "output_type": "stream",
     "text": [
      "roc_auc_score:  0.6507781415431247\n"
     ]
    }
   ],
   "source": [
    "con_matrix_and_clas_report(y_test, y_pred)\n",
    "plot_confusion_matrix(y_test, y_pred, 'K Neighbors Base Model', cmap='Purples', cbar=False)\n",
    "\n",
    "#Checking performance our model with ROC Score.\n",
    "\n",
    "print(\"roc_auc_score: \",roc_auc_score(y_test, y_pred))"
   ]
  },
  {
   "cell_type": "code",
   "execution_count": 74,
   "metadata": {},
   "outputs": [
    {
     "name": "stdout",
     "output_type": "stream",
     "text": [
      "Time elapsed :  53.59 secs\n"
     ]
    }
   ],
   "source": [
    "# RandomUnderSampler\n",
    "\n",
    "start = time.process_time()\n",
    "\n",
    "model = KNeighborsClassifier().fit(X_resampled_rus, y_resampled_rus)\n",
    "\n",
    "print(f'Time elapsed : {time.process_time() - start : 2.2f} secs')\n",
    "\n",
    "y_pred = model.predict(X_test)"
   ]
  },
  {
   "cell_type": "code",
   "execution_count": 75,
   "metadata": {},
   "outputs": [
    {
     "name": "stdout",
     "output_type": "stream",
     "text": [
      "Confusion Matrix: \n",
      " [[23313  1660]\n",
      " [ 7853  3188]]\n",
      "\n",
      "True negative:  23313 False positive:  1660 False negative:  7853 True positive:  3188\n",
      "\n",
      "Specificity:  0.9335282104673047\n",
      "\n",
      "Classification report: \n",
      " \n",
      "               precision    recall  f1-score   support\n",
      "\n",
      "           1       0.75      0.93      0.83     24973\n",
      "           2       0.66      0.29      0.40     11041\n",
      "\n",
      "    accuracy                           0.74     36014\n",
      "   macro avg       0.70      0.61      0.62     36014\n",
      "weighted avg       0.72      0.74      0.70     36014\n",
      "\n"
     ]
    },
    {
     "data": {
      "image/png": "[encoded data removed]",
      "text/plain": [
       "<Figure size 504x504 with 2 Axes>"
      ]
     },
     "metadata": {
      "needs_background": "light"
     },
     "output_type": "display_data"
    },
    {
     "name": "stdout",
     "output_type": "stream",
     "text": [
      "roc_auc_score:  0.6111350861230647\n"
     ]
    }
   ],
   "source": [
    "con_matrix_and_clas_report(y_test, y_pred)\n",
    "plot_confusion_matrix(y_test, y_pred, 'KK Neighbors Random Under Sampling Model', cmap='Purples', cbar=False)\n",
    "\n",
    "#Checking performance our model with ROC Score.\n",
    "\n",
    "print(\"roc_auc_score: \",roc_auc_score(y_test, y_pred))"
   ]
  },
  {
   "cell_type": "markdown",
   "metadata": {},
   "source": [
    "## <span style=\"color:red\"> ML Model Tuning K Neighbors Classifier Base Model</span>"
   ]
  },
  {
   "cell_type": "code",
   "execution_count": 76,
   "metadata": {},
   "outputs": [],
   "source": [
    "#List Hyperparameters that we want to tune.\n",
    "\n",
    "#leaf_size = list(range(1,40))\n",
    "n_neighbors = list(range(1,10))\n",
    "#p=[1,2]"
   ]
  },
  {
   "cell_type": "code",
   "execution_count": 77,
   "metadata": {},
   "outputs": [],
   "source": [
    "#Convert to dictionary\n",
    "\n",
    "#hyperparameters = dict(leaf_size=leaf_size, n_neighbors=n_neighbors, p=p)\n",
    "\n",
    "hyperparameters = dict(n_neighbors=n_neighbors)"
   ]
  },
  {
   "cell_type": "code",
   "execution_count": 78,
   "metadata": {},
   "outputs": [],
   "source": [
    "#Create new KNN object\n",
    "knn_2 = KNeighborsClassifier()"
   ]
  },
  {
   "cell_type": "code",
   "execution_count": 79,
   "metadata": {},
   "outputs": [],
   "source": [
    "#Use GridSearch\n",
    "clf = GridSearchCV(knn_2, hyperparameters, cv=5)"
   ]
  },
  {
   "cell_type": "code",
   "execution_count": 80,
   "metadata": {},
   "outputs": [],
   "source": [
    "#Fit the model\n",
    "best_model = clf.fit(X_train,y_train)"
   ]
  },
  {
   "cell_type": "code",
   "execution_count": 63,
   "metadata": {},
   "outputs": [],
   "source": [
    "#Print The value of best Hyperparameters\n",
    "#print('Best leaf_size:', best_model.best_estimator_.get_params()['leaf_size'])\n",
    "#print('Best p:', best_model.best_estimator_.get_params()['p'])\n",
    "#print('Best n_neighbors:', best_model.best_estimator_.get_params()['n_neighbors'])"
   ]
  },
  {
   "cell_type": "code",
   "execution_count": 89,
   "metadata": {},
   "outputs": [
    {
     "data": {
      "text/plain": [
       "{'n_neighbors': 8}"
      ]
     },
     "execution_count": 89,
     "metadata": {},
     "output_type": "execute_result"
    }
   ],
   "source": [
    "best_model.best_params_"
   ]
  },
  {
   "cell_type": "code",
   "execution_count": 92,
   "metadata": {},
   "outputs": [],
   "source": [
    "best_knn = KNeighborsClassifier(n_neighbors=8)"
   ]
  },
  {
   "cell_type": "code",
   "execution_count": 93,
   "metadata": {},
   "outputs": [
    {
     "data": {
      "text/plain": [
       "KNeighborsClassifier(n_neighbors=8)"
      ]
     },
     "execution_count": 93,
     "metadata": {},
     "output_type": "execute_result"
    }
   ],
   "source": [
    "best_knn.fit(X_train, y_train)"
   ]
  },
  {
   "cell_type": "code",
   "execution_count": 95,
   "metadata": {},
   "outputs": [],
   "source": [
    "y_pred = best_knn.predict(X_test)"
   ]
  },
  {
   "cell_type": "code",
   "execution_count": 97,
   "metadata": {},
   "outputs": [
    {
     "name": "stdout",
     "output_type": "stream",
     "text": [
      "Confusion Matrix: \n",
      " [[22706  2267]\n",
      " [ 7109  3932]]\n",
      "\n",
      "True negative:  22706 False positive:  2267 False negative:  7109 True positive:  3932\n",
      "\n",
      "Specificity:  0.9092219597164938\n",
      "\n",
      "Classification report: \n",
      " \n",
      "               precision    recall  f1-score   support\n",
      "\n",
      "           1       0.76      0.91      0.83     24973\n",
      "           2       0.63      0.36      0.46     11041\n",
      "\n",
      "    accuracy                           0.74     36014\n",
      "   macro avg       0.70      0.63      0.64     36014\n",
      "weighted avg       0.72      0.74      0.71     36014\n",
      "\n"
     ]
    },
    {
     "data": {
      "image/png": "[encoded data removed]",
      "text/plain": [
       "<Figure size 504x504 with 2 Axes>"
      ]
     },
     "metadata": {
      "needs_background": "light"
     },
     "output_type": "display_data"
    },
    {
     "name": "stdout",
     "output_type": "stream",
     "text": [
      "roc_auc_score:  0.6326745610556023\n"
     ]
    }
   ],
   "source": [
    "con_matrix_and_clas_report(y_test, y_pred)\n",
    "plot_confusion_matrix(y_test, y_pred, 'KK Neighbors Random Under Sampling Model', cmap='Purples', cbar=False)\n",
    "print(\"roc_auc_score: \",roc_auc_score(y_test, y_pred))"
   ]
  },
  {
   "cell_type": "code",
   "execution_count": null,
   "metadata": {},
   "outputs": [],
   "source": []
  },
  {
   "cell_type": "code",
   "execution_count": null,
   "metadata": {},
   "outputs": [],
   "source": []
  },
  {
   "cell_type": "code",
   "execution_count": null,
   "metadata": {},
   "outputs": [],
   "source": []
  },
  {
   "cell_type": "code",
   "execution_count": null,
   "metadata": {},
   "outputs": [],
   "source": []
  },
  {
   "cell_type": "code",
   "execution_count": null,
   "metadata": {},
   "outputs": [],
   "source": []
  },
  {
   "cell_type": "code",
   "execution_count": null,
   "metadata": {},
   "outputs": [],
   "source": []
  },
  {
   "cell_type": "code",
   "execution_count": null,
   "metadata": {},
   "outputs": [],
   "source": []
  },
  {
   "cell_type": "code",
   "execution_count": null,
   "metadata": {},
   "outputs": [],
   "source": []
  },
  {
   "cell_type": "code",
   "execution_count": null,
   "metadata": {},
   "outputs": [],
   "source": []
  },
  {
   "cell_type": "code",
   "execution_count": null,
   "metadata": {},
   "outputs": [],
   "source": [
    "# Visualize some accidents on the map"
   ]
  },
  {
   "cell_type": "code",
   "execution_count": null,
   "metadata": {},
   "outputs": [],
   "source": [
    "CLIENT_ID = '5LMC2BTAOAZAUOWXLVSNB4O3012A4CSCINFW031DMIQMUAJ4' \n",
    "CLIENT_SECRET = '5CCCJ5A1FVJXFERY0HM3OQQCHPSVDN31MHIU0V1ONLX3SZ5O' \n",
    "\n",
    "VERSION = '20180604'\n",
    "LIMIT = 1000\n",
    "radius=400000"
   ]
  },
  {
   "cell_type": "code",
   "execution_count": null,
   "metadata": {},
   "outputs": [],
   "source": [
    "# Get Seattle, Washington location\n",
    "\n",
    "address = 'Seattle, Washington'\n",
    "\n",
    "geolocator = Nominatim(user_agent=\"coursera_project\")\n",
    "location = geolocator.geocode(address)\n",
    "\n",
    "P_latitude = location.latitude\n",
    "P_longitude = location.longitude\n",
    "\n",
    "print(P_latitude, P_longitude)"
   ]
  },
  {
   "cell_type": "code",
   "execution_count": 85,
   "metadata": {
    "scrolled": true
   },
   "outputs": [
    {
     "data": {
      "text/html": [
       "<div style=\"width:100%;\"><div style=\"position:relative;width:100%;height:0;padding-bottom:60%;\"><span style=\"color:#565656\">Make this Notebook Trusted to load map: File -> Trust Notebook</span><iframe src=\"about:blank\" style=\"position:absolute;width:100%;height:100%;left:0;top:0;border:none !important;\" data-html=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 onload=\"this.contentDocument.open();this.contentDocument.write(atob(this.getAttribute('data-html')));this.contentDocument.close();\" allowfullscreen webkitallowfullscreen mozallowfullscreen></iframe></div></div>"
      ],
      "text/plain": [
       "<folium.folium.Map at 0x1a1c64b550>"
      ]
     },
     "execution_count": 85,
     "metadata": {},
     "output_type": "execute_result"
    }
   ],
   "source": [
    "venues_map = folium.Map(location=[P_latitude, P_longitude], zoom_start=13) \n",
    "\n",
    "# add a red circle marker to represent the Providence\n",
    "folium.CircleMarker(\n",
    "                    [P_latitude, P_longitude],\n",
    "                    radius=10,\n",
    "                    color='red',\n",
    "                    popup='Seattle, Washington Center',\n",
    "                    fill = True,\n",
    "                    fill_color = 'red',\n",
    "                    fill_opacity = 0.6\n",
    "                    ).add_to(venues_map)\n",
    "\n",
    "# display map\n",
    "\n",
    "venues_map"
   ]
  },
  {
   "cell_type": "code",
   "execution_count": null,
   "metadata": {},
   "outputs": [],
   "source": [
    "data_map = df.dropna()\n",
    "\n",
    "\n",
    "# add accidents as blue circle markers\n",
    "\n",
    "for lat, lng, label in zip(data_map[0:2000].Y, \n",
    "                           data_map[0:2000].X, \n",
    "                           data_map[0:2000].SEVERITYCODE):\n",
    "    \n",
    "    folium.CircleMarker([lat, lng],\n",
    "        radius=5,\n",
    "        color='blue',\n",
    "        popup=label,\n",
    "        fill = True,\n",
    "        fill_color='blue',\n",
    "        fill_opacity=0.6\n",
    "    ).add_to(venues_map)\n",
    "\n",
    "# display map\n",
    "\n",
    "venues_map"
   ]
  },
  {
   "cell_type": "code",
   "execution_count": null,
   "metadata": {},
   "outputs": [],
   "source": []
  }
 ],
 "metadata": {
  "kernelspec": {
   "display_name": "Python 3",
   "language": "python",
   "name": "python3"
  },
  "language_info": {
   "codemirror_mode": {
    "name": "ipython",
    "version": 3
   },
   "file_extension": ".py",
   "mimetype": "text/x-python",
   "name": "python",
   "nbconvert_exporter": "python",
   "pygments_lexer": "ipython3",
   "version": "3.7.3"
  },
  "toc": {
   "base_numbering": 1,
   "nav_menu": {},
   "number_sections": false,
   "sideBar": true,
   "skip_h1_title": true,
   "title_cell": "Table of Contents",
   "title_sidebar": "Contents",
   "toc_cell": false,
   "toc_position": {},
   "toc_section_display": true,
   "toc_window_display": false
  }
 },
 "nbformat": 4,
 "nbformat_minor": 2
}
