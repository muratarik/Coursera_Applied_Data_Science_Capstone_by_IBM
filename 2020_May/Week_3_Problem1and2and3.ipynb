{
 "cells": [
  {
   "cell_type": "code",
   "execution_count": 1,
   "metadata": {},
   "outputs": [],
   "source": [
    "# Import Packages\n",
    "\n",
    "from bs4 import BeautifulSoup\n",
    "import pandas as pd\n",
    "import numpy as np\n",
    "import requests"
   ]
  },
  {
   "cell_type": "code",
   "execution_count": 2,
   "metadata": {},
   "outputs": [],
   "source": [
    "website_url = requests.get('https://en.wikipedia.org/wiki/List_of_postal_codes_of_Canada:_M').text"
   ]
  },
  {
   "cell_type": "code",
   "execution_count": 3,
   "metadata": {},
   "outputs": [],
   "source": [
    "soup = BeautifulSoup(website_url,'lxml')"
   ]
  },
  {
   "cell_type": "code",
   "execution_count": 4,
   "metadata": {},
   "outputs": [
    {
     "name": "stdout",
     "output_type": "stream",
     "text": [
      "<class 'bs4.BeautifulSoup'>\n"
     ]
    }
   ],
   "source": [
    "print(type(soup))"
   ]
  },
  {
   "cell_type": "code",
   "execution_count": 5,
   "metadata": {},
   "outputs": [
    {
     "name": "stdout",
     "output_type": "stream",
     "text": [
      "<div id=\"contentSub\"></div>\n"
     ]
    }
   ],
   "source": [
    "print(soup.find('div',class_=''))"
   ]
  },
  {
   "cell_type": "markdown",
   "metadata": {},
   "source": [
    "wikitable sortable"
   ]
  },
  {
   "cell_type": "code",
   "execution_count": 6,
   "metadata": {},
   "outputs": [
    {
     "name": "stdout",
     "output_type": "stream",
     "text": [
      "<class 'bs4.element.Tag'>\n"
     ]
    }
   ],
   "source": [
    "#Create My_table from wiki website\n",
    "\n",
    "My_table = soup.find(\"table\",{\"class\":\"wikitable sortable\"})\n",
    "print(type(My_table))"
   ]
  },
  {
   "cell_type": "code",
   "execution_count": 7,
   "metadata": {},
   "outputs": [
    {
     "name": "stdout",
     "output_type": "stream",
     "text": [
      "<class 'bs4.element.ResultSet'>\n"
     ]
    }
   ],
   "source": [
    "# Create divs from wiki website \n",
    "\n",
    "divs = soup.findAll(\"table\", {'class':'wikitable sortable'})\n",
    "print(type(divs))"
   ]
  },
  {
   "cell_type": "code",
   "execution_count": 8,
   "metadata": {},
   "outputs": [],
   "source": [
    "#Investigate divs"
   ]
  },
  {
   "cell_type": "code",
   "execution_count": 9,
   "metadata": {},
   "outputs": [],
   "source": [
    "# Find Rows\n",
    "\n",
    "for div in divs:\n",
    "    rows = div.findAll('tr')"
   ]
  },
  {
   "cell_type": "code",
   "execution_count": 10,
   "metadata": {},
   "outputs": [
    {
     "name": "stdout",
     "output_type": "stream",
     "text": [
      "<class 'bs4.element.ResultSet'>\n",
      "<class 'bs4.element.Tag'>\n",
      "\n",
      "Postal Code\n",
      "\n",
      "Borough\n",
      "\n",
      "Neighborhood\n",
      "\n",
      "\n",
      "M1A\n",
      "\n",
      "Not assigned\n",
      "\n",
      "\n",
      "\n"
     ]
    }
   ],
   "source": [
    "print(type(rows))\n",
    "\n",
    "print(type(rows[0]))\n",
    "\n",
    "print(rows[0].text)\n",
    "\n",
    "print(rows[1].text)\n",
    "\n",
    "#rows[0] "
   ]
  },
  {
   "cell_type": "code",
   "execution_count": 11,
   "metadata": {},
   "outputs": [
    {
     "name": "stdout",
     "output_type": "stream",
     "text": [
      "['Postal Code', 'Borough', 'Neighborhood']\n"
     ]
    }
   ],
   "source": [
    "# Find Column Names\n",
    "# first row start with th\n",
    "\n",
    "for row in rows[0:1]:\n",
    "    \n",
    "    elements = row.find_all('th')\n",
    "    \n",
    "    elements = [element.text.strip() for element in elements]\n",
    "    \n",
    "    print(elements)"
   ]
  },
  {
   "cell_type": "code",
   "execution_count": 12,
   "metadata": {},
   "outputs": [
    {
     "name": "stdout",
     "output_type": "stream",
     "text": [
      "<class 'list'>\n"
     ]
    }
   ],
   "source": [
    "print(type(elements))"
   ]
  },
  {
   "cell_type": "code",
   "execution_count": 13,
   "metadata": {},
   "outputs": [
    {
     "data": {
      "text/html": [
       "<div>\n",
       "<style scoped>\n",
       "    .dataframe tbody tr th:only-of-type {\n",
       "        vertical-align: middle;\n",
       "    }\n",
       "\n",
       "    .dataframe tbody tr th {\n",
       "        vertical-align: top;\n",
       "    }\n",
       "\n",
       "    .dataframe thead th {\n",
       "        text-align: right;\n",
       "    }\n",
       "</style>\n",
       "<table border=\"1\" class=\"dataframe\">\n",
       "  <thead>\n",
       "    <tr style=\"text-align: right;\">\n",
       "      <th></th>\n",
       "      <th>A</th>\n",
       "      <th>B</th>\n",
       "      <th>C</th>\n",
       "    </tr>\n",
       "  </thead>\n",
       "  <tbody>\n",
       "    <tr>\n",
       "      <th>0</th>\n",
       "      <td>0</td>\n",
       "      <td>0</td>\n",
       "      <td>0</td>\n",
       "    </tr>\n",
       "  </tbody>\n",
       "</table>\n",
       "</div>"
      ],
      "text/plain": [
       "   A  B  C\n",
       "0  0  0  0"
      ]
     },
     "execution_count": 13,
     "metadata": {},
     "output_type": "execute_result"
    }
   ],
   "source": [
    "# Create dummy DataFrame with 3 columns\n",
    "\n",
    "d = [[0,0,0]]\n",
    "\n",
    "df = pd.DataFrame(data=d, columns=list('ABC'))\n",
    "\n",
    "df"
   ]
  },
  {
   "cell_type": "code",
   "execution_count": 14,
   "metadata": {},
   "outputs": [
    {
     "data": {
      "text/html": [
       "<div>\n",
       "<style scoped>\n",
       "    .dataframe tbody tr th:only-of-type {\n",
       "        vertical-align: middle;\n",
       "    }\n",
       "\n",
       "    .dataframe tbody tr th {\n",
       "        vertical-align: top;\n",
       "    }\n",
       "\n",
       "    .dataframe thead th {\n",
       "        text-align: right;\n",
       "    }\n",
       "</style>\n",
       "<table border=\"1\" class=\"dataframe\">\n",
       "  <thead>\n",
       "    <tr style=\"text-align: right;\">\n",
       "      <th></th>\n",
       "      <th>A</th>\n",
       "      <th>B</th>\n",
       "      <th>C</th>\n",
       "    </tr>\n",
       "  </thead>\n",
       "  <tbody>\n",
       "    <tr>\n",
       "      <th>0</th>\n",
       "      <td>0</td>\n",
       "      <td>0</td>\n",
       "      <td>0</td>\n",
       "    </tr>\n",
       "    <tr>\n",
       "      <th>1</th>\n",
       "      <td>M1A</td>\n",
       "      <td>Not assigned</td>\n",
       "      <td></td>\n",
       "    </tr>\n",
       "    <tr>\n",
       "      <th>2</th>\n",
       "      <td>M2A</td>\n",
       "      <td>Not assigned</td>\n",
       "      <td></td>\n",
       "    </tr>\n",
       "    <tr>\n",
       "      <th>3</th>\n",
       "      <td>M3A</td>\n",
       "      <td>North York</td>\n",
       "      <td>Parkwoods</td>\n",
       "    </tr>\n",
       "    <tr>\n",
       "      <th>4</th>\n",
       "      <td>M4A</td>\n",
       "      <td>North York</td>\n",
       "      <td>Victoria Village</td>\n",
       "    </tr>\n",
       "  </tbody>\n",
       "</table>\n",
       "</div>"
      ],
      "text/plain": [
       "     A             B                 C\n",
       "0    0             0                 0\n",
       "1  M1A  Not assigned                  \n",
       "2  M2A  Not assigned                  \n",
       "3  M3A    North York         Parkwoods\n",
       "4  M4A    North York  Victoria Village"
      ]
     },
     "execution_count": 14,
     "metadata": {},
     "output_type": "execute_result"
    }
   ],
   "source": [
    "# Find Elements in the table\n",
    "# except first row start with td\n",
    "\n",
    "for row in rows[1:]:\n",
    "    \n",
    "    elements = row.find_all('td')\n",
    "    \n",
    "    elements = [element.text.strip() for element in elements]\n",
    "\n",
    "    row_df = pd.DataFrame([elements],columns=list('ABC'))\n",
    "    \n",
    "    # concat rows to df dataframe\n",
    "    \n",
    "    df = df.append(row_df, ignore_index=True)\n",
    "    \n",
    "df.head()"
   ]
  },
  {
   "cell_type": "code",
   "execution_count": 15,
   "metadata": {},
   "outputs": [
    {
     "data": {
      "text/html": [
       "<div>\n",
       "<style scoped>\n",
       "    .dataframe tbody tr th:only-of-type {\n",
       "        vertical-align: middle;\n",
       "    }\n",
       "\n",
       "    .dataframe tbody tr th {\n",
       "        vertical-align: top;\n",
       "    }\n",
       "\n",
       "    .dataframe thead th {\n",
       "        text-align: right;\n",
       "    }\n",
       "</style>\n",
       "<table border=\"1\" class=\"dataframe\">\n",
       "  <thead>\n",
       "    <tr style=\"text-align: right;\">\n",
       "      <th></th>\n",
       "      <th>A</th>\n",
       "      <th>B</th>\n",
       "      <th>C</th>\n",
       "    </tr>\n",
       "  </thead>\n",
       "  <tbody>\n",
       "    <tr>\n",
       "      <th>1</th>\n",
       "      <td>M1A</td>\n",
       "      <td>Not assigned</td>\n",
       "      <td></td>\n",
       "    </tr>\n",
       "    <tr>\n",
       "      <th>2</th>\n",
       "      <td>M2A</td>\n",
       "      <td>Not assigned</td>\n",
       "      <td></td>\n",
       "    </tr>\n",
       "    <tr>\n",
       "      <th>3</th>\n",
       "      <td>M3A</td>\n",
       "      <td>North York</td>\n",
       "      <td>Parkwoods</td>\n",
       "    </tr>\n",
       "    <tr>\n",
       "      <th>4</th>\n",
       "      <td>M4A</td>\n",
       "      <td>North York</td>\n",
       "      <td>Victoria Village</td>\n",
       "    </tr>\n",
       "    <tr>\n",
       "      <th>5</th>\n",
       "      <td>M5A</td>\n",
       "      <td>Downtown Toronto</td>\n",
       "      <td>Regent Park, Harbourfront</td>\n",
       "    </tr>\n",
       "  </tbody>\n",
       "</table>\n",
       "</div>"
      ],
      "text/plain": [
       "     A                 B                          C\n",
       "1  M1A      Not assigned                           \n",
       "2  M2A      Not assigned                           \n",
       "3  M3A        North York                  Parkwoods\n",
       "4  M4A        North York           Victoria Village\n",
       "5  M5A  Downtown Toronto  Regent Park, Harbourfront"
      ]
     },
     "execution_count": 15,
     "metadata": {},
     "output_type": "execute_result"
    }
   ],
   "source": [
    "# Drop first row\n",
    "\n",
    "df = df.drop([0])\n",
    "df.head()"
   ]
  },
  {
   "cell_type": "code",
   "execution_count": 16,
   "metadata": {},
   "outputs": [
    {
     "data": {
      "text/html": [
       "<div>\n",
       "<style scoped>\n",
       "    .dataframe tbody tr th:only-of-type {\n",
       "        vertical-align: middle;\n",
       "    }\n",
       "\n",
       "    .dataframe tbody tr th {\n",
       "        vertical-align: top;\n",
       "    }\n",
       "\n",
       "    .dataframe thead th {\n",
       "        text-align: right;\n",
       "    }\n",
       "</style>\n",
       "<table border=\"1\" class=\"dataframe\">\n",
       "  <thead>\n",
       "    <tr style=\"text-align: right;\">\n",
       "      <th></th>\n",
       "      <th>PostalCode</th>\n",
       "      <th>Borough</th>\n",
       "      <th>Neighborhood</th>\n",
       "    </tr>\n",
       "  </thead>\n",
       "  <tbody>\n",
       "    <tr>\n",
       "      <th>1</th>\n",
       "      <td>M1A</td>\n",
       "      <td>Not assigned</td>\n",
       "      <td></td>\n",
       "    </tr>\n",
       "    <tr>\n",
       "      <th>2</th>\n",
       "      <td>M2A</td>\n",
       "      <td>Not assigned</td>\n",
       "      <td></td>\n",
       "    </tr>\n",
       "    <tr>\n",
       "      <th>3</th>\n",
       "      <td>M3A</td>\n",
       "      <td>North York</td>\n",
       "      <td>Parkwoods</td>\n",
       "    </tr>\n",
       "    <tr>\n",
       "      <th>4</th>\n",
       "      <td>M4A</td>\n",
       "      <td>North York</td>\n",
       "      <td>Victoria Village</td>\n",
       "    </tr>\n",
       "    <tr>\n",
       "      <th>5</th>\n",
       "      <td>M5A</td>\n",
       "      <td>Downtown Toronto</td>\n",
       "      <td>Regent Park, Harbourfront</td>\n",
       "    </tr>\n",
       "  </tbody>\n",
       "</table>\n",
       "</div>"
      ],
      "text/plain": [
       "  PostalCode           Borough               Neighborhood\n",
       "1        M1A      Not assigned                           \n",
       "2        M2A      Not assigned                           \n",
       "3        M3A        North York                  Parkwoods\n",
       "4        M4A        North York           Victoria Village\n",
       "5        M5A  Downtown Toronto  Regent Park, Harbourfront"
      ]
     },
     "execution_count": 16,
     "metadata": {},
     "output_type": "execute_result"
    }
   ],
   "source": [
    "# change column names\n",
    "\n",
    "df.columns = ['PostalCode', 'Borough', 'Neighborhood']\n",
    "df.head()"
   ]
  },
  {
   "cell_type": "code",
   "execution_count": 17,
   "metadata": {},
   "outputs": [
    {
     "data": {
      "text/plain": [
       "(180, 3)"
      ]
     },
     "execution_count": 17,
     "metadata": {},
     "output_type": "execute_result"
    }
   ],
   "source": [
    "df.shape"
   ]
  },
  {
   "cell_type": "code",
   "execution_count": 18,
   "metadata": {},
   "outputs": [
    {
     "data": {
      "text/html": [
       "<div>\n",
       "<style scoped>\n",
       "    .dataframe tbody tr th:only-of-type {\n",
       "        vertical-align: middle;\n",
       "    }\n",
       "\n",
       "    .dataframe tbody tr th {\n",
       "        vertical-align: top;\n",
       "    }\n",
       "\n",
       "    .dataframe thead th {\n",
       "        text-align: right;\n",
       "    }\n",
       "</style>\n",
       "<table border=\"1\" class=\"dataframe\">\n",
       "  <thead>\n",
       "    <tr style=\"text-align: right;\">\n",
       "      <th></th>\n",
       "      <th>PostalCode</th>\n",
       "      <th>Borough</th>\n",
       "      <th>Neighborhood</th>\n",
       "    </tr>\n",
       "  </thead>\n",
       "  <tbody>\n",
       "    <tr>\n",
       "      <th>3</th>\n",
       "      <td>M3A</td>\n",
       "      <td>North York</td>\n",
       "      <td>Parkwoods</td>\n",
       "    </tr>\n",
       "    <tr>\n",
       "      <th>4</th>\n",
       "      <td>M4A</td>\n",
       "      <td>North York</td>\n",
       "      <td>Victoria Village</td>\n",
       "    </tr>\n",
       "    <tr>\n",
       "      <th>5</th>\n",
       "      <td>M5A</td>\n",
       "      <td>Downtown Toronto</td>\n",
       "      <td>Regent Park, Harbourfront</td>\n",
       "    </tr>\n",
       "    <tr>\n",
       "      <th>6</th>\n",
       "      <td>M6A</td>\n",
       "      <td>North York</td>\n",
       "      <td>Lawrence Manor, Lawrence Heights</td>\n",
       "    </tr>\n",
       "    <tr>\n",
       "      <th>7</th>\n",
       "      <td>M7A</td>\n",
       "      <td>Downtown Toronto</td>\n",
       "      <td>Queen's Park, Ontario Provincial Government</td>\n",
       "    </tr>\n",
       "  </tbody>\n",
       "</table>\n",
       "</div>"
      ],
      "text/plain": [
       "  PostalCode           Borough                                 Neighborhood\n",
       "3        M3A        North York                                    Parkwoods\n",
       "4        M4A        North York                             Victoria Village\n",
       "5        M5A  Downtown Toronto                    Regent Park, Harbourfront\n",
       "6        M6A        North York             Lawrence Manor, Lawrence Heights\n",
       "7        M7A  Downtown Toronto  Queen's Park, Ontario Provincial Government"
      ]
     },
     "execution_count": 18,
     "metadata": {},
     "output_type": "execute_result"
    }
   ],
   "source": [
    "# Drop cells with a borough that is Not assigned.\n",
    "\n",
    "df1 = df[df.Borough != \"Not assigned\"]\n",
    "df1.head()"
   ]
  },
  {
   "cell_type": "code",
   "execution_count": 19,
   "metadata": {},
   "outputs": [
    {
     "data": {
      "text/html": [
       "<div>\n",
       "<style scoped>\n",
       "    .dataframe tbody tr th:only-of-type {\n",
       "        vertical-align: middle;\n",
       "    }\n",
       "\n",
       "    .dataframe tbody tr th {\n",
       "        vertical-align: top;\n",
       "    }\n",
       "\n",
       "    .dataframe thead th {\n",
       "        text-align: right;\n",
       "    }\n",
       "</style>\n",
       "<table border=\"1\" class=\"dataframe\">\n",
       "  <thead>\n",
       "    <tr style=\"text-align: right;\">\n",
       "      <th></th>\n",
       "      <th>PostalCode</th>\n",
       "      <th>Borough</th>\n",
       "      <th>Neighborhood</th>\n",
       "    </tr>\n",
       "  </thead>\n",
       "  <tbody>\n",
       "  </tbody>\n",
       "</table>\n",
       "</div>"
      ],
      "text/plain": [
       "Empty DataFrame\n",
       "Columns: [PostalCode, Borough, Neighborhood]\n",
       "Index: []"
      ]
     },
     "execution_count": 19,
     "metadata": {},
     "output_type": "execute_result"
    }
   ],
   "source": [
    "# Check nan values\n",
    "\n",
    "df1[df1.Neighborhood == np.nan]"
   ]
  },
  {
   "cell_type": "code",
   "execution_count": 20,
   "metadata": {},
   "outputs": [
    {
     "data": {
      "text/plain": [
       "(103, 3)"
      ]
     },
     "execution_count": 20,
     "metadata": {},
     "output_type": "execute_result"
    }
   ],
   "source": [
    "df1.shape"
   ]
  },
  {
   "cell_type": "markdown",
   "metadata": {},
   "source": [
    "# Problem 2"
   ]
  },
  {
   "cell_type": "code",
   "execution_count": 21,
   "metadata": {},
   "outputs": [
    {
     "name": "stdout",
     "output_type": "stream",
     "text": [
      "Geospatial_Coordinates.csv    Week3_Problem1and2and3.ipynb\n"
     ]
    }
   ],
   "source": [
    "ls"
   ]
  },
  {
   "cell_type": "code",
   "execution_count": 22,
   "metadata": {},
   "outputs": [
    {
     "data": {
      "text/html": [
       "<div>\n",
       "<style scoped>\n",
       "    .dataframe tbody tr th:only-of-type {\n",
       "        vertical-align: middle;\n",
       "    }\n",
       "\n",
       "    .dataframe tbody tr th {\n",
       "        vertical-align: top;\n",
       "    }\n",
       "\n",
       "    .dataframe thead th {\n",
       "        text-align: right;\n",
       "    }\n",
       "</style>\n",
       "<table border=\"1\" class=\"dataframe\">\n",
       "  <thead>\n",
       "    <tr style=\"text-align: right;\">\n",
       "      <th></th>\n",
       "      <th>Postal Code</th>\n",
       "      <th>Latitude</th>\n",
       "      <th>Longitude</th>\n",
       "    </tr>\n",
       "  </thead>\n",
       "  <tbody>\n",
       "    <tr>\n",
       "      <th>0</th>\n",
       "      <td>M1B</td>\n",
       "      <td>43.806686</td>\n",
       "      <td>-79.194353</td>\n",
       "    </tr>\n",
       "    <tr>\n",
       "      <th>1</th>\n",
       "      <td>M1C</td>\n",
       "      <td>43.784535</td>\n",
       "      <td>-79.160497</td>\n",
       "    </tr>\n",
       "    <tr>\n",
       "      <th>2</th>\n",
       "      <td>M1E</td>\n",
       "      <td>43.763573</td>\n",
       "      <td>-79.188711</td>\n",
       "    </tr>\n",
       "    <tr>\n",
       "      <th>3</th>\n",
       "      <td>M1G</td>\n",
       "      <td>43.770992</td>\n",
       "      <td>-79.216917</td>\n",
       "    </tr>\n",
       "    <tr>\n",
       "      <th>4</th>\n",
       "      <td>M1H</td>\n",
       "      <td>43.773136</td>\n",
       "      <td>-79.239476</td>\n",
       "    </tr>\n",
       "  </tbody>\n",
       "</table>\n",
       "</div>"
      ],
      "text/plain": [
       "  Postal Code   Latitude  Longitude\n",
       "0         M1B  43.806686 -79.194353\n",
       "1         M1C  43.784535 -79.160497\n",
       "2         M1E  43.763573 -79.188711\n",
       "3         M1G  43.770992 -79.216917\n",
       "4         M1H  43.773136 -79.239476"
      ]
     },
     "execution_count": 22,
     "metadata": {},
     "output_type": "execute_result"
    }
   ],
   "source": [
    "geo_df = pd.read_csv(\"Geospatial_Coordinates.csv\") \n",
    "geo_df.head()"
   ]
  },
  {
   "cell_type": "code",
   "execution_count": 23,
   "metadata": {},
   "outputs": [
    {
     "data": {
      "text/html": [
       "<div>\n",
       "<style scoped>\n",
       "    .dataframe tbody tr th:only-of-type {\n",
       "        vertical-align: middle;\n",
       "    }\n",
       "\n",
       "    .dataframe tbody tr th {\n",
       "        vertical-align: top;\n",
       "    }\n",
       "\n",
       "    .dataframe thead th {\n",
       "        text-align: right;\n",
       "    }\n",
       "</style>\n",
       "<table border=\"1\" class=\"dataframe\">\n",
       "  <thead>\n",
       "    <tr style=\"text-align: right;\">\n",
       "      <th></th>\n",
       "      <th>PostalCode</th>\n",
       "      <th>Latitude</th>\n",
       "      <th>Longitude</th>\n",
       "    </tr>\n",
       "  </thead>\n",
       "  <tbody>\n",
       "    <tr>\n",
       "      <th>0</th>\n",
       "      <td>M1B</td>\n",
       "      <td>43.806686</td>\n",
       "      <td>-79.194353</td>\n",
       "    </tr>\n",
       "    <tr>\n",
       "      <th>1</th>\n",
       "      <td>M1C</td>\n",
       "      <td>43.784535</td>\n",
       "      <td>-79.160497</td>\n",
       "    </tr>\n",
       "    <tr>\n",
       "      <th>2</th>\n",
       "      <td>M1E</td>\n",
       "      <td>43.763573</td>\n",
       "      <td>-79.188711</td>\n",
       "    </tr>\n",
       "    <tr>\n",
       "      <th>3</th>\n",
       "      <td>M1G</td>\n",
       "      <td>43.770992</td>\n",
       "      <td>-79.216917</td>\n",
       "    </tr>\n",
       "    <tr>\n",
       "      <th>4</th>\n",
       "      <td>M1H</td>\n",
       "      <td>43.773136</td>\n",
       "      <td>-79.239476</td>\n",
       "    </tr>\n",
       "  </tbody>\n",
       "</table>\n",
       "</div>"
      ],
      "text/plain": [
       "  PostalCode   Latitude  Longitude\n",
       "0        M1B  43.806686 -79.194353\n",
       "1        M1C  43.784535 -79.160497\n",
       "2        M1E  43.763573 -79.188711\n",
       "3        M1G  43.770992 -79.216917\n",
       "4        M1H  43.773136 -79.239476"
      ]
     },
     "execution_count": 23,
     "metadata": {},
     "output_type": "execute_result"
    }
   ],
   "source": [
    "geo_df.rename(columns={'Postal Code':'PostalCode'},inplace=True)\n",
    "geo_df.head()"
   ]
  },
  {
   "cell_type": "code",
   "execution_count": 24,
   "metadata": {},
   "outputs": [],
   "source": [
    "merged_df = pd.merge(df1, geo_df, on='PostalCode')"
   ]
  },
  {
   "cell_type": "code",
   "execution_count": 25,
   "metadata": {},
   "outputs": [
    {
     "data": {
      "text/html": [
       "<div>\n",
       "<style scoped>\n",
       "    .dataframe tbody tr th:only-of-type {\n",
       "        vertical-align: middle;\n",
       "    }\n",
       "\n",
       "    .dataframe tbody tr th {\n",
       "        vertical-align: top;\n",
       "    }\n",
       "\n",
       "    .dataframe thead th {\n",
       "        text-align: right;\n",
       "    }\n",
       "</style>\n",
       "<table border=\"1\" class=\"dataframe\">\n",
       "  <thead>\n",
       "    <tr style=\"text-align: right;\">\n",
       "      <th></th>\n",
       "      <th>PostalCode</th>\n",
       "      <th>Borough</th>\n",
       "      <th>Neighborhood</th>\n",
       "      <th>Latitude</th>\n",
       "      <th>Longitude</th>\n",
       "    </tr>\n",
       "  </thead>\n",
       "  <tbody>\n",
       "    <tr>\n",
       "      <th>0</th>\n",
       "      <td>M3A</td>\n",
       "      <td>North York</td>\n",
       "      <td>Parkwoods</td>\n",
       "      <td>43.753259</td>\n",
       "      <td>-79.329656</td>\n",
       "    </tr>\n",
       "    <tr>\n",
       "      <th>1</th>\n",
       "      <td>M4A</td>\n",
       "      <td>North York</td>\n",
       "      <td>Victoria Village</td>\n",
       "      <td>43.725882</td>\n",
       "      <td>-79.315572</td>\n",
       "    </tr>\n",
       "    <tr>\n",
       "      <th>2</th>\n",
       "      <td>M5A</td>\n",
       "      <td>Downtown Toronto</td>\n",
       "      <td>Regent Park, Harbourfront</td>\n",
       "      <td>43.654260</td>\n",
       "      <td>-79.360636</td>\n",
       "    </tr>\n",
       "    <tr>\n",
       "      <th>3</th>\n",
       "      <td>M6A</td>\n",
       "      <td>North York</td>\n",
       "      <td>Lawrence Manor, Lawrence Heights</td>\n",
       "      <td>43.718518</td>\n",
       "      <td>-79.464763</td>\n",
       "    </tr>\n",
       "    <tr>\n",
       "      <th>4</th>\n",
       "      <td>M7A</td>\n",
       "      <td>Downtown Toronto</td>\n",
       "      <td>Queen's Park, Ontario Provincial Government</td>\n",
       "      <td>43.662301</td>\n",
       "      <td>-79.389494</td>\n",
       "    </tr>\n",
       "  </tbody>\n",
       "</table>\n",
       "</div>"
      ],
      "text/plain": [
       "  PostalCode           Borough                                 Neighborhood  \\\n",
       "0        M3A        North York                                    Parkwoods   \n",
       "1        M4A        North York                             Victoria Village   \n",
       "2        M5A  Downtown Toronto                    Regent Park, Harbourfront   \n",
       "3        M6A        North York             Lawrence Manor, Lawrence Heights   \n",
       "4        M7A  Downtown Toronto  Queen's Park, Ontario Provincial Government   \n",
       "\n",
       "    Latitude  Longitude  \n",
       "0  43.753259 -79.329656  \n",
       "1  43.725882 -79.315572  \n",
       "2  43.654260 -79.360636  \n",
       "3  43.718518 -79.464763  \n",
       "4  43.662301 -79.389494  "
      ]
     },
     "execution_count": 25,
     "metadata": {},
     "output_type": "execute_result"
    }
   ],
   "source": [
    "merged_df.head()"
   ]
  },
  {
   "cell_type": "code",
   "execution_count": null,
   "metadata": {},
   "outputs": [],
   "source": []
  },
  {
   "cell_type": "markdown",
   "metadata": {},
   "source": [
    "# Problem 3"
   ]
  },
  {
   "cell_type": "code",
   "execution_count": 26,
   "metadata": {},
   "outputs": [],
   "source": [
    "# pip install geopy\n",
    "# pip install folium\n",
    "\n"
   ]
  },
  {
   "cell_type": "code",
   "execution_count": 27,
   "metadata": {},
   "outputs": [
    {
     "data": {
      "text/html": [
       "<div>\n",
       "<style scoped>\n",
       "    .dataframe tbody tr th:only-of-type {\n",
       "        vertical-align: middle;\n",
       "    }\n",
       "\n",
       "    .dataframe tbody tr th {\n",
       "        vertical-align: top;\n",
       "    }\n",
       "\n",
       "    .dataframe thead th {\n",
       "        text-align: right;\n",
       "    }\n",
       "</style>\n",
       "<table border=\"1\" class=\"dataframe\">\n",
       "  <thead>\n",
       "    <tr style=\"text-align: right;\">\n",
       "      <th></th>\n",
       "      <th>PostalCode</th>\n",
       "      <th>Borough</th>\n",
       "      <th>Neighborhood</th>\n",
       "      <th>Latitude</th>\n",
       "      <th>Longitude</th>\n",
       "    </tr>\n",
       "  </thead>\n",
       "  <tbody>\n",
       "    <tr>\n",
       "      <th>2</th>\n",
       "      <td>M5A</td>\n",
       "      <td>Downtown Toronto</td>\n",
       "      <td>Regent Park, Harbourfront</td>\n",
       "      <td>43.654260</td>\n",
       "      <td>-79.360636</td>\n",
       "    </tr>\n",
       "    <tr>\n",
       "      <th>4</th>\n",
       "      <td>M7A</td>\n",
       "      <td>Downtown Toronto</td>\n",
       "      <td>Queen's Park, Ontario Provincial Government</td>\n",
       "      <td>43.662301</td>\n",
       "      <td>-79.389494</td>\n",
       "    </tr>\n",
       "    <tr>\n",
       "      <th>9</th>\n",
       "      <td>M5B</td>\n",
       "      <td>Downtown Toronto</td>\n",
       "      <td>Garden District, Ryerson</td>\n",
       "      <td>43.657162</td>\n",
       "      <td>-79.378937</td>\n",
       "    </tr>\n",
       "    <tr>\n",
       "      <th>15</th>\n",
       "      <td>M5C</td>\n",
       "      <td>Downtown Toronto</td>\n",
       "      <td>St. James Town</td>\n",
       "      <td>43.651494</td>\n",
       "      <td>-79.375418</td>\n",
       "    </tr>\n",
       "    <tr>\n",
       "      <th>19</th>\n",
       "      <td>M4E</td>\n",
       "      <td>East Toronto</td>\n",
       "      <td>The Beaches</td>\n",
       "      <td>43.676357</td>\n",
       "      <td>-79.293031</td>\n",
       "    </tr>\n",
       "    <tr>\n",
       "      <th>20</th>\n",
       "      <td>M5E</td>\n",
       "      <td>Downtown Toronto</td>\n",
       "      <td>Berczy Park</td>\n",
       "      <td>43.644771</td>\n",
       "      <td>-79.373306</td>\n",
       "    </tr>\n",
       "    <tr>\n",
       "      <th>24</th>\n",
       "      <td>M5G</td>\n",
       "      <td>Downtown Toronto</td>\n",
       "      <td>Central Bay Street</td>\n",
       "      <td>43.657952</td>\n",
       "      <td>-79.387383</td>\n",
       "    </tr>\n",
       "    <tr>\n",
       "      <th>25</th>\n",
       "      <td>M6G</td>\n",
       "      <td>Downtown Toronto</td>\n",
       "      <td>Christie</td>\n",
       "      <td>43.669542</td>\n",
       "      <td>-79.422564</td>\n",
       "    </tr>\n",
       "    <tr>\n",
       "      <th>30</th>\n",
       "      <td>M5H</td>\n",
       "      <td>Downtown Toronto</td>\n",
       "      <td>Richmond, Adelaide, King</td>\n",
       "      <td>43.650571</td>\n",
       "      <td>-79.384568</td>\n",
       "    </tr>\n",
       "    <tr>\n",
       "      <th>31</th>\n",
       "      <td>M6H</td>\n",
       "      <td>West Toronto</td>\n",
       "      <td>Dufferin, Dovercourt Village</td>\n",
       "      <td>43.669005</td>\n",
       "      <td>-79.442259</td>\n",
       "    </tr>\n",
       "  </tbody>\n",
       "</table>\n",
       "</div>"
      ],
      "text/plain": [
       "   PostalCode           Borough                                 Neighborhood  \\\n",
       "2         M5A  Downtown Toronto                    Regent Park, Harbourfront   \n",
       "4         M7A  Downtown Toronto  Queen's Park, Ontario Provincial Government   \n",
       "9         M5B  Downtown Toronto                     Garden District, Ryerson   \n",
       "15        M5C  Downtown Toronto                               St. James Town   \n",
       "19        M4E      East Toronto                                  The Beaches   \n",
       "20        M5E  Downtown Toronto                                  Berczy Park   \n",
       "24        M5G  Downtown Toronto                           Central Bay Street   \n",
       "25        M6G  Downtown Toronto                                     Christie   \n",
       "30        M5H  Downtown Toronto                     Richmond, Adelaide, King   \n",
       "31        M6H      West Toronto                 Dufferin, Dovercourt Village   \n",
       "\n",
       "     Latitude  Longitude  \n",
       "2   43.654260 -79.360636  \n",
       "4   43.662301 -79.389494  \n",
       "9   43.657162 -79.378937  \n",
       "15  43.651494 -79.375418  \n",
       "19  43.676357 -79.293031  \n",
       "20  43.644771 -79.373306  \n",
       "24  43.657952 -79.387383  \n",
       "25  43.669542 -79.422564  \n",
       "30  43.650571 -79.384568  \n",
       "31  43.669005 -79.442259  "
      ]
     },
     "execution_count": 27,
     "metadata": {},
     "output_type": "execute_result"
    }
   ],
   "source": [
    "Toronto_df = merged_df[merged_df['Borough'].str.contains(\"Toronto\")]\n",
    "Toronto_df.head(10)"
   ]
  },
  {
   "cell_type": "code",
   "execution_count": 28,
   "metadata": {},
   "outputs": [
    {
     "data": {
      "text/html": [
       "<div>\n",
       "<style scoped>\n",
       "    .dataframe tbody tr th:only-of-type {\n",
       "        vertical-align: middle;\n",
       "    }\n",
       "\n",
       "    .dataframe tbody tr th {\n",
       "        vertical-align: top;\n",
       "    }\n",
       "\n",
       "    .dataframe thead th {\n",
       "        text-align: right;\n",
       "    }\n",
       "</style>\n",
       "<table border=\"1\" class=\"dataframe\">\n",
       "  <thead>\n",
       "    <tr style=\"text-align: right;\">\n",
       "      <th></th>\n",
       "      <th>Latitude</th>\n",
       "      <th>Longitude</th>\n",
       "    </tr>\n",
       "  </thead>\n",
       "  <tbody>\n",
       "    <tr>\n",
       "      <th>2</th>\n",
       "      <td>43.654260</td>\n",
       "      <td>-79.360636</td>\n",
       "    </tr>\n",
       "    <tr>\n",
       "      <th>4</th>\n",
       "      <td>43.662301</td>\n",
       "      <td>-79.389494</td>\n",
       "    </tr>\n",
       "    <tr>\n",
       "      <th>9</th>\n",
       "      <td>43.657162</td>\n",
       "      <td>-79.378937</td>\n",
       "    </tr>\n",
       "    <tr>\n",
       "      <th>15</th>\n",
       "      <td>43.651494</td>\n",
       "      <td>-79.375418</td>\n",
       "    </tr>\n",
       "    <tr>\n",
       "      <th>19</th>\n",
       "      <td>43.676357</td>\n",
       "      <td>-79.293031</td>\n",
       "    </tr>\n",
       "  </tbody>\n",
       "</table>\n",
       "</div>"
      ],
      "text/plain": [
       "     Latitude  Longitude\n",
       "2   43.654260 -79.360636\n",
       "4   43.662301 -79.389494\n",
       "9   43.657162 -79.378937\n",
       "15  43.651494 -79.375418\n",
       "19  43.676357 -79.293031"
      ]
     },
     "execution_count": 28,
     "metadata": {},
     "output_type": "execute_result"
    }
   ],
   "source": [
    "# set number of clusters\n",
    "\n",
    "toronto_grouped_clustering = Toronto_df.drop(['Neighborhood','Borough','PostalCode'], 1)\n",
    "toronto_grouped_clustering.head()"
   ]
  },
  {
   "cell_type": "code",
   "execution_count": 29,
   "metadata": {},
   "outputs": [
    {
     "data": {
      "text/plain": [
       "array([1, 1, 1, 1, 3, 1, 1, 2, 1, 2], dtype=int32)"
      ]
     },
     "execution_count": 29,
     "metadata": {},
     "output_type": "execute_result"
    }
   ],
   "source": [
    "from sklearn.cluster import KMeans\n",
    "\n",
    "kclusters = 4\n",
    "\n",
    "# run k-means clustering\n",
    "kmeans = KMeans(n_clusters=kclusters, random_state=0).fit(toronto_grouped_clustering)\n",
    "\n",
    "# check cluster labels generated for each row in the dataframe\n",
    "kmeans.labels_[0:10]"
   ]
  },
  {
   "cell_type": "code",
   "execution_count": 30,
   "metadata": {},
   "outputs": [
    {
     "data": {
      "text/html": [
       "<div>\n",
       "<style scoped>\n",
       "    .dataframe tbody tr th:only-of-type {\n",
       "        vertical-align: middle;\n",
       "    }\n",
       "\n",
       "    .dataframe tbody tr th {\n",
       "        vertical-align: top;\n",
       "    }\n",
       "\n",
       "    .dataframe thead th {\n",
       "        text-align: right;\n",
       "    }\n",
       "</style>\n",
       "<table border=\"1\" class=\"dataframe\">\n",
       "  <thead>\n",
       "    <tr style=\"text-align: right;\">\n",
       "      <th></th>\n",
       "      <th>Latitude</th>\n",
       "      <th>Longitude</th>\n",
       "      <th>Cluster Labels</th>\n",
       "    </tr>\n",
       "  </thead>\n",
       "  <tbody>\n",
       "    <tr>\n",
       "      <th>2</th>\n",
       "      <td>43.654260</td>\n",
       "      <td>-79.360636</td>\n",
       "      <td>1</td>\n",
       "    </tr>\n",
       "    <tr>\n",
       "      <th>4</th>\n",
       "      <td>43.662301</td>\n",
       "      <td>-79.389494</td>\n",
       "      <td>1</td>\n",
       "    </tr>\n",
       "    <tr>\n",
       "      <th>9</th>\n",
       "      <td>43.657162</td>\n",
       "      <td>-79.378937</td>\n",
       "      <td>1</td>\n",
       "    </tr>\n",
       "    <tr>\n",
       "      <th>15</th>\n",
       "      <td>43.651494</td>\n",
       "      <td>-79.375418</td>\n",
       "      <td>1</td>\n",
       "    </tr>\n",
       "    <tr>\n",
       "      <th>19</th>\n",
       "      <td>43.676357</td>\n",
       "      <td>-79.293031</td>\n",
       "      <td>3</td>\n",
       "    </tr>\n",
       "  </tbody>\n",
       "</table>\n",
       "</div>"
      ],
      "text/plain": [
       "     Latitude  Longitude  Cluster Labels\n",
       "2   43.654260 -79.360636               1\n",
       "4   43.662301 -79.389494               1\n",
       "9   43.657162 -79.378937               1\n",
       "15  43.651494 -79.375418               1\n",
       "19  43.676357 -79.293031               3"
      ]
     },
     "execution_count": 30,
     "metadata": {},
     "output_type": "execute_result"
    }
   ],
   "source": [
    "# Add cluster labels\n",
    "\n",
    "toronto_grouped_clustering['Cluster Labels'] = kmeans.labels_\n",
    "toronto_grouped_clustering.head()"
   ]
  },
  {
   "cell_type": "code",
   "execution_count": 31,
   "metadata": {},
   "outputs": [],
   "source": [
    "import folium\n",
    "\n",
    "# Matplotlib and associated plotting modules\n",
    "import matplotlib.cm as cm\n",
    "import matplotlib.colors as colors"
   ]
  },
  {
   "cell_type": "code",
   "execution_count": 35,
   "metadata": {},
   "outputs": [
    {
     "name": "stderr",
     "output_type": "stream",
     "text": [
      "/Users/Murat/anaconda3/lib/python3.7/site-packages/ipykernel_launcher.py:5: DeprecationWarning: Using Nominatim with the default \"geopy/1.21.0\" `user_agent` is strongly discouraged, as it violates Nominatim's ToS https://operations.osmfoundation.org/policies/nominatim/ and may possibly cause 403 and 429 HTTP errors. Please specify a custom `user_agent` with `Nominatim(user_agent=\"my-application\")` or by overriding the default `user_agent`: `geopy.geocoders.options.default_user_agent = \"my-application\"`. In geopy 2.0 this will become an exception.\n",
      "  \"\"\"\n"
     ]
    },
    {
     "name": "stdout",
     "output_type": "stream",
     "text": [
      "The geograpical coordinate of Toronto Canada are 43.6534817, -79.3839347.\n"
     ]
    }
   ],
   "source": [
    "from geopy.geocoders import Nominatim \n",
    "\n",
    "address = 'Toronto, Ontario Canada'\n",
    "\n",
    "geolocator = Nominatim()\n",
    "location = geolocator.geocode(address)\n",
    "latitude = location.latitude\n",
    "longitude = location.longitude\n",
    "print('The geograpical coordinate of Toronto Canada are {}, {}.'.format(latitude, longitude))"
   ]
  },
  {
   "cell_type": "code",
   "execution_count": 36,
   "metadata": {},
   "outputs": [
    {
     "data": {
      "text/html": [
       "<div style=\"width:100%;\"><div style=\"position:relative;width:100%;height:0;padding-bottom:60%;\"><span style=\"color:#565656\">Make this Notebook Trusted to load map: File -> Trust Notebook</span><iframe src=\"about:blank\" style=\"position:absolute;width:100%;height:100%;left:0;top:0;border:none !important;\" data-html=PCFET0NUWVBFIGh0bWw+CjxoZWFkPiAgICAKICAgIDxtZXRhIGh0dHAtZXF1aXY9ImNvbnRlbnQtdHlwZSIgY29udGVudD0idGV4dC9odG1sOyBjaGFyc2V0PVVURi04IiAvPgogICAgCiAgICAgICAgPHNjcmlwdD4KICAgICAgICAgICAgTF9OT19UT1VDSCA9IGZhbHNlOwogICAgICAgICAgICBMX0RJU0FCTEVfM0QgPSBmYWxzZTsKICAgICAgICA8L3NjcmlwdD4KICAgIAogICAgPHNjcmlwdCBzcmM9Imh0dHBzOi8vY2RuLmpzZGVsaXZyLm5ldC9ucG0vbGVhZmxldEAxLjYuMC9kaXN0L2xlYWZsZXQuanMiPjwvc2NyaXB0PgogICAgPHNjcmlwdCBzcmM9Imh0dHBzOi8vY29kZS5qcXVlcnkuY29tL2pxdWVyeS0xLjEyLjQubWluLmpzIj48L3NjcmlwdD4KICAgIDxzY3JpcHQgc3JjPSJodHRwczovL21heGNkbi5ib290c3RyYXBjZG4uY29tL2Jvb3RzdHJhcC8zLjIuMC9qcy9ib290c3RyYXAubWluLmpzIj48L3NjcmlwdD4KICAgIDxzY3JpcHQgc3JjPSJodHRwczovL2NkbmpzLmNsb3VkZmxhcmUuY29tL2FqYXgvbGlicy9MZWFmbGV0LmF3ZXNvbWUtbWFya2Vycy8yLjAuMi9sZWFmbGV0LmF3ZXNvbWUtbWFya2Vycy5qcyI+PC9zY3JpcHQ+CiAgICA8bGluayByZWw9InN0eWxlc2hlZXQiIGhyZWY9Imh0dHBzOi8vY2RuLmpzZGVsaXZyLm5ldC9ucG0vbGVhZmxldEAxLjYuMC9kaXN0L2xlYWZsZXQuY3NzIi8+CiAgICA8bGluayByZWw9InN0eWxlc2hlZXQiIGhyZWY9Imh0dHBzOi8vbWF4Y2RuLmJvb3RzdHJhcGNkbi5jb20vYm9vdHN0cmFwLzMuMi4wL2Nzcy9ib290c3RyYXAubWluLmNzcyIvPgogICAgPGxpbmsgcmVsPSJzdHlsZXNoZWV0IiBocmVmPSJodHRwczovL21heGNkbi5ib290c3RyYXBjZG4uY29tL2Jvb3RzdHJhcC8zLjIuMC9jc3MvYm9vdHN0cmFwLXRoZW1lLm1pbi5jc3MiLz4KICAgIDxsaW5rIHJlbD0ic3R5bGVzaGVldCIgaHJlZj0iaHR0cHM6Ly9tYXhjZG4uYm9vdHN0cmFwY2RuLmNvbS9mb250LWF3ZXNvbWUvNC42LjMvY3NzL2ZvbnQtYXdlc29tZS5taW4uY3NzIi8+CiAgICA8bGluayByZWw9InN0eWxlc2hlZXQiIGhyZWY9Imh0dHBzOi8vY2RuanMuY2xvdWRmbGFyZS5jb20vYWpheC9saWJzL0xlYWZsZXQuYXdlc29tZS1tYXJrZXJzLzIuMC4yL2xlYWZsZXQuYXdlc29tZS1tYXJrZXJzLmNzcyIvPgogICAgPGxpbmsgcmVsPSJzdHlsZXNoZWV0IiBocmVmPSJodHRwczovL3Jhd2Nkbi5naXRoYWNrLmNvbS9weXRob24tdmlzdWFsaXphdGlvbi9mb2xpdW0vbWFzdGVyL2ZvbGl1bS90ZW1wbGF0ZXMvbGVhZmxldC5hd2Vzb21lLnJvdGF0ZS5jc3MiLz4KICAgIDxzdHlsZT5odG1sLCBib2R5IHt3aWR0aDogMTAwJTtoZWlnaHQ6IDEwMCU7bWFyZ2luOiAwO3BhZGRpbmc6IDA7fTwvc3R5bGU+CiAgICA8c3R5bGU+I21hcCB7cG9zaXRpb246YWJzb2x1dGU7dG9wOjA7Ym90dG9tOjA7cmlnaHQ6MDtsZWZ0OjA7fTwvc3R5bGU+CiAgICAKICAgICAgICAgICAgPG1ldGEgbmFtZT0idmlld3BvcnQiIGNvbnRlbnQ9IndpZHRoPWRldmljZS13aWR0aCwKICAgICAgICAgICAgICAgIGluaXRpYWwtc2NhbGU9MS4wLCBtYXhpbXVtLXNjYWxlPTEuMCwgdXNlci1zY2FsYWJsZT1ubyIgLz4KICAgICAgICAgICAgPHN0eWxlPgogICAgICAgICAgICAgICAgI21hcF9kMzNjYWQzMjc1ZmY0MGJiYTkzM2MyNTU3MjMzM2ZmNyB7CiAgICAgICAgICAgICAgICAgICAgcG9zaXRpb246IHJlbGF0aXZlOwogICAgICAgICAgICAgICAgICAgIHdpZHRoOiAxMDAuMCU7CiAgICAgICAgICAgICAgICAgICAgaGVpZ2h0OiAxMDAuMCU7CiAgICAgICAgICAgICAgICAgICAgbGVmdDogMC4wJTsKICAgICAgICAgICAgICAgICAgICB0b3A6IDAuMCU7CiAgICAgICAgICAgICAgICB9CiAgICAgICAgICAgIDwvc3R5bGU+CiAgICAgICAgCjwvaGVhZD4KPGJvZHk+ICAgIAogICAgCiAgICAgICAgICAgIDxkaXYgY2xhc3M9ImZvbGl1bS1tYXAiIGlkPSJtYXBfZDMzY2FkMzI3NWZmNDBiYmE5MzNjMjU1NzIzMzNmZjciID48L2Rpdj4KICAgICAgICAKPC9ib2R5Pgo8c2NyaXB0PiAgICAKICAgIAogICAgICAgICAgICB2YXIgbWFwX2QzM2NhZDMyNzVmZjQwYmJhOTMzYzI1NTcyMzMzZmY3ID0gTC5tYXAoCiAgICAgICAgICAgICAgICAibWFwX2QzM2NhZDMyNzVmZjQwYmJhOTMzYzI1NTcyMzMzZmY3IiwKICAgICAgICAgICAgICAgIHsKICAgICAgICAgICAgICAgICAgICBjZW50ZXI6IFs0My42NTM0ODE3LCAtNzkuMzgzOTM0N10sCiAgICAgICAgICAgICAgICAgICAgY3JzOiBMLkNSUy5FUFNHMzg1NywKICAgICAgICAgICAgICAgICAgICB6b29tOiAxMSwKICAgICAgICAgICAgICAgICAgICB6b29tQ29udHJvbDogdHJ1ZSwKICAgICAgICAgICAgICAgICAgICBwcmVmZXJDYW52YXM6IGZhbHNlLAogICAgICAgICAgICAgICAgfQogICAgICAgICAgICApOwoKICAgICAgICAgICAgCgogICAgICAgIAogICAgCiAgICAgICAgICAgIHZhciB0aWxlX2xheWVyXzM2YWY4ZjEzYmQ3MTRkYWZiMjZmNzM4OTZlZjMwMjRmID0gTC50aWxlTGF5ZXIoCiAgICAgICAgICAgICAgICAiaHR0cHM6Ly97c30udGlsZS5vcGVuc3RyZWV0bWFwLm9yZy97en0ve3h9L3t5fS5wbmciLAogICAgICAgICAgICAgICAgeyJhdHRyaWJ1dGlvbiI6ICJEYXRhIGJ5IFx1MDAyNmNvcHk7IFx1MDAzY2EgaHJlZj1cImh0dHA6Ly9vcGVuc3RyZWV0bWFwLm9yZ1wiXHUwMDNlT3BlblN0cmVldE1hcFx1MDAzYy9hXHUwMDNlLCB1bmRlciBcdTAwM2NhIGhyZWY9XCJodHRwOi8vd3d3Lm9wZW5zdHJlZXRtYXAub3JnL2NvcHlyaWdodFwiXHUwMDNlT0RiTFx1MDAzYy9hXHUwMDNlLiIsICJkZXRlY3RSZXRpbmEiOiBmYWxzZSwgIm1heE5hdGl2ZVpvb20iOiAxOCwgIm1heFpvb20iOiAxOCwgIm1pblpvb20iOiAwLCAibm9XcmFwIjogZmFsc2UsICJvcGFjaXR5IjogMSwgInN1YmRvbWFpbnMiOiAiYWJjIiwgInRtcyI6IGZhbHNlfQogICAgICAgICAgICApLmFkZFRvKG1hcF9kMzNjYWQzMjc1ZmY0MGJiYTkzM2MyNTU3MjMzM2ZmNyk7CiAgICAgICAgCiAgICAKICAgICAgICAgICAgdmFyIGNpcmNsZV9tYXJrZXJfY2IwNmM1NzAxNWUzNGZmNmJkYzNlMDExNTE5MzUxMWMgPSBMLmNpcmNsZU1hcmtlcigKICAgICAgICAgICAgICAgIFs0My42NTQyNTk5LCAtNzkuMzYwNjM1OV0sCiAgICAgICAgICAgICAgICB7ImJ1YmJsaW5nTW91c2VFdmVudHMiOiB0cnVlLCAiY29sb3IiOiAiIzgwMDBmZiIsICJkYXNoQXJyYXkiOiBudWxsLCAiZGFzaE9mZnNldCI6IG51bGwsICJmaWxsIjogdHJ1ZSwgImZpbGxDb2xvciI6ICIjODAwMGZmIiwgImZpbGxPcGFjaXR5IjogMC43LCAiZmlsbFJ1bGUiOiAiZXZlbm9kZCIsICJsaW5lQ2FwIjogInJvdW5kIiwgImxpbmVKb2luIjogInJvdW5kIiwgIm9wYWNpdHkiOiAxLjAsICJyYWRpdXMiOiA1LCAic3Ryb2tlIjogdHJ1ZSwgIndlaWdodCI6IDN9CiAgICAgICAgICAgICkuYWRkVG8obWFwX2QzM2NhZDMyNzVmZjQwYmJhOTMzYzI1NTcyMzMzZmY3KTsKICAgICAgICAKICAgIAogICAgICAgIHZhciBwb3B1cF82MGMyNGFkYmQwNmQ0ZGZlYmIxZGY1ZWI3NDI3NWU3ZSA9IEwucG9wdXAoeyJtYXhXaWR0aCI6ICIxMDAlIn0pOwoKICAgICAgICAKICAgICAgICAgICAgdmFyIGh0bWxfMzYzNzVlZjE5M2ViNDUyNjk2MzI4MWUxMDYzNTcwNzcgPSAkKGA8ZGl2IGlkPSJodG1sXzM2Mzc1ZWYxOTNlYjQ1MjY5NjMyODFlMTA2MzU3MDc3IiBzdHlsZT0id2lkdGg6IDEwMC4wJTsgaGVpZ2h0OiAxMDAuMCU7Ij4gQ2x1c3RlciAxPC9kaXY+YClbMF07CiAgICAgICAgICAgIHBvcHVwXzYwYzI0YWRiZDA2ZDRkZmViYjFkZjVlYjc0Mjc1ZTdlLnNldENvbnRlbnQoaHRtbF8zNjM3NWVmMTkzZWI0NTI2OTYzMjgxZTEwNjM1NzA3Nyk7CiAgICAgICAgCgogICAgICAgIGNpcmNsZV9tYXJrZXJfY2IwNmM1NzAxNWUzNGZmNmJkYzNlMDExNTE5MzUxMWMuYmluZFBvcHVwKHBvcHVwXzYwYzI0YWRiZDA2ZDRkZmViYjFkZjVlYjc0Mjc1ZTdlKQogICAgICAgIDsKCiAgICAgICAgCiAgICAKICAgIAogICAgICAgICAgICB2YXIgY2lyY2xlX21hcmtlcl9hMTU4OTEzYjhkMmI0YWE5ODhjY2EyMWE0ZTk1N2M0ZSA9IEwuY2lyY2xlTWFya2VyKAogICAgICAgICAgICAgICAgWzQzLjY2MjMwMTUsIC03OS4zODk0OTM4XSwKICAgICAgICAgICAgICAgIHsiYnViYmxpbmdNb3VzZUV2ZW50cyI6IHRydWUsICJjb2xvciI6ICIjODAwMGZmIiwgImRhc2hBcnJheSI6IG51bGwsICJkYXNoT2Zmc2V0IjogbnVsbCwgImZpbGwiOiB0cnVlLCAiZmlsbENvbG9yIjogIiM4MDAwZmYiLCAiZmlsbE9wYWNpdHkiOiAwLjcsICJmaWxsUnVsZSI6ICJldmVub2RkIiwgImxpbmVDYXAiOiAicm91bmQiLCAibGluZUpvaW4iOiAicm91bmQiLCAib3BhY2l0eSI6IDEuMCwgInJhZGl1cyI6IDUsICJzdHJva2UiOiB0cnVlLCAid2VpZ2h0IjogM30KICAgICAgICAgICAgKS5hZGRUbyhtYXBfZDMzY2FkMzI3NWZmNDBiYmE5MzNjMjU1NzIzMzNmZjcpOwogICAgICAgIAogICAgCiAgICAgICAgdmFyIHBvcHVwXzIxNmE5OTg2NjdiYzQ0MjViNDAzYzBhNWM0OGU3MjkxID0gTC5wb3B1cCh7Im1heFdpZHRoIjogIjEwMCUifSk7CgogICAgICAgIAogICAgICAgICAgICB2YXIgaHRtbF8xMTQyZjAwMTM5N2I0NWI1YTk3NzI4ZmU5ZTU0ZDI2NyA9ICQoYDxkaXYgaWQ9Imh0bWxfMTE0MmYwMDEzOTdiNDViNWE5NzcyOGZlOWU1NGQyNjciIHN0eWxlPSJ3aWR0aDogMTAwLjAlOyBoZWlnaHQ6IDEwMC4wJTsiPiBDbHVzdGVyIDE8L2Rpdj5gKVswXTsKICAgICAgICAgICAgcG9wdXBfMjE2YTk5ODY2N2JjNDQyNWI0MDNjMGE1YzQ4ZTcyOTEuc2V0Q29udGVudChodG1sXzExNDJmMDAxMzk3YjQ1YjVhOTc3MjhmZTllNTRkMjY3KTsKICAgICAgICAKCiAgICAgICAgY2lyY2xlX21hcmtlcl9hMTU4OTEzYjhkMmI0YWE5ODhjY2EyMWE0ZTk1N2M0ZS5iaW5kUG9wdXAocG9wdXBfMjE2YTk5ODY2N2JjNDQyNWI0MDNjMGE1YzQ4ZTcyOTEpCiAgICAgICAgOwoKICAgICAgICAKICAgIAogICAgCiAgICAgICAgICAgIHZhciBjaXJjbGVfbWFya2VyXzBmNzA1ZDg5NTRmOTRmOGVhYWIwY2QyNjBjYThjYzIyID0gTC5jaXJjbGVNYXJrZXIoCiAgICAgICAgICAgICAgICBbNDMuNjU3MTYxOCwgLTc5LjM3ODkzNzA5OTk5OTk5XSwKICAgICAgICAgICAgICAgIHsiYnViYmxpbmdNb3VzZUV2ZW50cyI6IHRydWUsICJjb2xvciI6ICIjODAwMGZmIiwgImRhc2hBcnJheSI6IG51bGwsICJkYXNoT2Zmc2V0IjogbnVsbCwgImZpbGwiOiB0cnVlLCAiZmlsbENvbG9yIjogIiM4MDAwZmYiLCAiZmlsbE9wYWNpdHkiOiAwLjcsICJmaWxsUnVsZSI6ICJldmVub2RkIiwgImxpbmVDYXAiOiAicm91bmQiLCAibGluZUpvaW4iOiAicm91bmQiLCAib3BhY2l0eSI6IDEuMCwgInJhZGl1cyI6IDUsICJzdHJva2UiOiB0cnVlLCAid2VpZ2h0IjogM30KICAgICAgICAgICAgKS5hZGRUbyhtYXBfZDMzY2FkMzI3NWZmNDBiYmE5MzNjMjU1NzIzMzNmZjcpOwogICAgICAgIAogICAgCiAgICAgICAgdmFyIHBvcHVwXzY0ZWY3NDBkMjQwODRjZWE5MDBmYWM4ZjcyZTgwNzI5ID0gTC5wb3B1cCh7Im1heFdpZHRoIjogIjEwMCUifSk7CgogICAgICAgIAogICAgICAgICAgICB2YXIgaHRtbF9iZGIxMGUyOTAzYWQ0NmRjYmFiNjg4MGQyMzdmNDE0OCA9ICQoYDxkaXYgaWQ9Imh0bWxfYmRiMTBlMjkwM2FkNDZkY2JhYjY4ODBkMjM3ZjQxNDgiIHN0eWxlPSJ3aWR0aDogMTAwLjAlOyBoZWlnaHQ6IDEwMC4wJTsiPiBDbHVzdGVyIDE8L2Rpdj5gKVswXTsKICAgICAgICAgICAgcG9wdXBfNjRlZjc0MGQyNDA4NGNlYTkwMGZhYzhmNzJlODA3Mjkuc2V0Q29udGVudChodG1sX2JkYjEwZTI5MDNhZDQ2ZGNiYWI2ODgwZDIzN2Y0MTQ4KTsKICAgICAgICAKCiAgICAgICAgY2lyY2xlX21hcmtlcl8wZjcwNWQ4OTU0Zjk0ZjhlYWFiMGNkMjYwY2E4Y2MyMi5iaW5kUG9wdXAocG9wdXBfNjRlZjc0MGQyNDA4NGNlYTkwMGZhYzhmNzJlODA3MjkpCiAgICAgICAgOwoKICAgICAgICAKICAgIAogICAgCiAgICAgICAgICAgIHZhciBjaXJjbGVfbWFya2VyX2UyODE3MWZiZGVkZjRlMTk5ZGEwMDVkMjNmYWFhOWUzID0gTC5jaXJjbGVNYXJrZXIoCiAgICAgICAgICAgICAgICBbNDMuNjUxNDkzOSwgLTc5LjM3NTQxNzldLAogICAgICAgICAgICAgICAgeyJidWJibGluZ01vdXNlRXZlbnRzIjogdHJ1ZSwgImNvbG9yIjogIiM4MDAwZmYiLCAiZGFzaEFycmF5IjogbnVsbCwgImRhc2hPZmZzZXQiOiBudWxsLCAiZmlsbCI6IHRydWUsICJmaWxsQ29sb3IiOiAiIzgwMDBmZiIsICJmaWxsT3BhY2l0eSI6IDAuNywgImZpbGxSdWxlIjogImV2ZW5vZGQiLCAibGluZUNhcCI6ICJyb3VuZCIsICJsaW5lSm9pbiI6ICJyb3VuZCIsICJvcGFjaXR5IjogMS4wLCAicmFkaXVzIjogNSwgInN0cm9rZSI6IHRydWUsICJ3ZWlnaHQiOiAzfQogICAgICAgICAgICApLmFkZFRvKG1hcF9kMzNjYWQzMjc1ZmY0MGJiYTkzM2MyNTU3MjMzM2ZmNyk7CiAgICAgICAgCiAgICAKICAgICAgICB2YXIgcG9wdXBfZTQ5Njk4NGQ4OWFmNDRhZjkwYjMzNjQzOWQzNzExMjAgPSBMLnBvcHVwKHsibWF4V2lkdGgiOiAiMTAwJSJ9KTsKCiAgICAgICAgCiAgICAgICAgICAgIHZhciBodG1sX2ExZjJiNWQ2Yzk4YjQzZTk4NTM3OGNlNmM3NWI3MDY2ID0gJChgPGRpdiBpZD0iaHRtbF9hMWYyYjVkNmM5OGI0M2U5ODUzNzhjZTZjNzViNzA2NiIgc3R5bGU9IndpZHRoOiAxMDAuMCU7IGhlaWdodDogMTAwLjAlOyI+IENsdXN0ZXIgMTwvZGl2PmApWzBdOwogICAgICAgICAgICBwb3B1cF9lNDk2OTg0ZDg5YWY0NGFmOTBiMzM2NDM5ZDM3MTEyMC5zZXRDb250ZW50KGh0bWxfYTFmMmI1ZDZjOThiNDNlOTg1Mzc4Y2U2Yzc1YjcwNjYpOwogICAgICAgIAoKICAgICAgICBjaXJjbGVfbWFya2VyX2UyODE3MWZiZGVkZjRlMTk5ZGEwMDVkMjNmYWFhOWUzLmJpbmRQb3B1cChwb3B1cF9lNDk2OTg0ZDg5YWY0NGFmOTBiMzM2NDM5ZDM3MTEyMCkKICAgICAgICA7CgogICAgICAgIAogICAgCiAgICAKICAgICAgICAgICAgdmFyIGNpcmNsZV9tYXJrZXJfNTcyMzdhMTllYmZjNDRlZThiNDlkM2I2Y2NmOTJjM2UgPSBMLmNpcmNsZU1hcmtlcigKICAgICAgICAgICAgICAgIFs0My42NzYzNTczOTk5OTk5OSwgLTc5LjI5MzAzMTJdLAogICAgICAgICAgICAgICAgeyJidWJibGluZ01vdXNlRXZlbnRzIjogdHJ1ZSwgImNvbG9yIjogIiNkNGRkODAiLCAiZGFzaEFycmF5IjogbnVsbCwgImRhc2hPZmZzZXQiOiBudWxsLCAiZmlsbCI6IHRydWUsICJmaWxsQ29sb3IiOiAiI2Q0ZGQ4MCIsICJmaWxsT3BhY2l0eSI6IDAuNywgImZpbGxSdWxlIjogImV2ZW5vZGQiLCAibGluZUNhcCI6ICJyb3VuZCIsICJsaW5lSm9pbiI6ICJyb3VuZCIsICJvcGFjaXR5IjogMS4wLCAicmFkaXVzIjogNSwgInN0cm9rZSI6IHRydWUsICJ3ZWlnaHQiOiAzfQogICAgICAgICAgICApLmFkZFRvKG1hcF9kMzNjYWQzMjc1ZmY0MGJiYTkzM2MyNTU3MjMzM2ZmNyk7CiAgICAgICAgCiAgICAKICAgICAgICB2YXIgcG9wdXBfMzRmODQxYmMzNjBlNDBmYjg3NTQxNTg2ZmRmNjQxMGQgPSBMLnBvcHVwKHsibWF4V2lkdGgiOiAiMTAwJSJ9KTsKCiAgICAgICAgCiAgICAgICAgICAgIHZhciBodG1sXzc3NTU5NDMwNDdiNzQxYjliOGFkYmU2NTZjNjc4NGFkID0gJChgPGRpdiBpZD0iaHRtbF83NzU1OTQzMDQ3Yjc0MWI5YjhhZGJlNjU2YzY3ODRhZCIgc3R5bGU9IndpZHRoOiAxMDAuMCU7IGhlaWdodDogMTAwLjAlOyI+IENsdXN0ZXIgMzwvZGl2PmApWzBdOwogICAgICAgICAgICBwb3B1cF8zNGY4NDFiYzM2MGU0MGZiODc1NDE1ODZmZGY2NDEwZC5zZXRDb250ZW50KGh0bWxfNzc1NTk0MzA0N2I3NDFiOWI4YWRiZTY1NmM2Nzg0YWQpOwogICAgICAgIAoKICAgICAgICBjaXJjbGVfbWFya2VyXzU3MjM3YTE5ZWJmYzQ0ZWU4YjQ5ZDNiNmNjZjkyYzNlLmJpbmRQb3B1cChwb3B1cF8zNGY4NDFiYzM2MGU0MGZiODc1NDE1ODZmZGY2NDEwZCkKICAgICAgICA7CgogICAgICAgIAogICAgCiAgICAKICAgICAgICAgICAgdmFyIGNpcmNsZV9tYXJrZXJfMDNmOTM1OTJlNWFjNGM0MGJlNzA2YjNiZWZiNTJiNGQgPSBMLmNpcmNsZU1hcmtlcigKICAgICAgICAgICAgICAgIFs0My42NDQ3NzA3OTk5OTk5OTYsIC03OS4zNzMzMDY0XSwKICAgICAgICAgICAgICAgIHsiYnViYmxpbmdNb3VzZUV2ZW50cyI6IHRydWUsICJjb2xvciI6ICIjODAwMGZmIiwgImRhc2hBcnJheSI6IG51bGwsICJkYXNoT2Zmc2V0IjogbnVsbCwgImZpbGwiOiB0cnVlLCAiZmlsbENvbG9yIjogIiM4MDAwZmYiLCAiZmlsbE9wYWNpdHkiOiAwLjcsICJmaWxsUnVsZSI6ICJldmVub2RkIiwgImxpbmVDYXAiOiAicm91bmQiLCAibGluZUpvaW4iOiAicm91bmQiLCAib3BhY2l0eSI6IDEuMCwgInJhZGl1cyI6IDUsICJzdHJva2UiOiB0cnVlLCAid2VpZ2h0IjogM30KICAgICAgICAgICAgKS5hZGRUbyhtYXBfZDMzY2FkMzI3NWZmNDBiYmE5MzNjMjU1NzIzMzNmZjcpOwogICAgICAgIAogICAgCiAgICAgICAgdmFyIHBvcHVwXzhkMTg4NmFjYzRmNTRjOWViNTNlMjg1NmQ4NjQwNmJjID0gTC5wb3B1cCh7Im1heFdpZHRoIjogIjEwMCUifSk7CgogICAgICAgIAogICAgICAgICAgICB2YXIgaHRtbF8xZjBjNzdlZjRkZmY0MjhmYTEzMmJmMGJlNzBhNGNjZCA9ICQoYDxkaXYgaWQ9Imh0bWxfMWYwYzc3ZWY0ZGZmNDI4ZmExMzJiZjBiZTcwYTRjY2QiIHN0eWxlPSJ3aWR0aDogMTAwLjAlOyBoZWlnaHQ6IDEwMC4wJTsiPiBDbHVzdGVyIDE8L2Rpdj5gKVswXTsKICAgICAgICAgICAgcG9wdXBfOGQxODg2YWNjNGY1NGM5ZWI1M2UyODU2ZDg2NDA2YmMuc2V0Q29udGVudChodG1sXzFmMGM3N2VmNGRmZjQyOGZhMTMyYmYwYmU3MGE0Y2NkKTsKICAgICAgICAKCiAgICAgICAgY2lyY2xlX21hcmtlcl8wM2Y5MzU5MmU1YWM0YzQwYmU3MDZiM2JlZmI1MmI0ZC5iaW5kUG9wdXAocG9wdXBfOGQxODg2YWNjNGY1NGM5ZWI1M2UyODU2ZDg2NDA2YmMpCiAgICAgICAgOwoKICAgICAgICAKICAgIAogICAgCiAgICAgICAgICAgIHZhciBjaXJjbGVfbWFya2VyXzZiN2FhMGRkYTI2MzQ2ZjE5NzE4M2NhZmUxOTJlOTVhID0gTC5jaXJjbGVNYXJrZXIoCiAgICAgICAgICAgICAgICBbNDMuNjU3OTUyNCwgLTc5LjM4NzM4MjZdLAogICAgICAgICAgICAgICAgeyJidWJibGluZ01vdXNlRXZlbnRzIjogdHJ1ZSwgImNvbG9yIjogIiM4MDAwZmYiLCAiZGFzaEFycmF5IjogbnVsbCwgImRhc2hPZmZzZXQiOiBudWxsLCAiZmlsbCI6IHRydWUsICJmaWxsQ29sb3IiOiAiIzgwMDBmZiIsICJmaWxsT3BhY2l0eSI6IDAuNywgImZpbGxSdWxlIjogImV2ZW5vZGQiLCAibGluZUNhcCI6ICJyb3VuZCIsICJsaW5lSm9pbiI6ICJyb3VuZCIsICJvcGFjaXR5IjogMS4wLCAicmFkaXVzIjogNSwgInN0cm9rZSI6IHRydWUsICJ3ZWlnaHQiOiAzfQogICAgICAgICAgICApLmFkZFRvKG1hcF9kMzNjYWQzMjc1ZmY0MGJiYTkzM2MyNTU3MjMzM2ZmNyk7CiAgICAgICAgCiAgICAKICAgICAgICB2YXIgcG9wdXBfYjYxOWY2MDU0N2VmNDVhODllZmZhOWFmOTA0ZjQwNTUgPSBMLnBvcHVwKHsibWF4V2lkdGgiOiAiMTAwJSJ9KTsKCiAgICAgICAgCiAgICAgICAgICAgIHZhciBodG1sXzdlZTA3YWU1ZGVkMzQ5MWJhNTAwNGE4MzVkMDkwOWYxID0gJChgPGRpdiBpZD0iaHRtbF83ZWUwN2FlNWRlZDM0OTFiYTUwMDRhODM1ZDA5MDlmMSIgc3R5bGU9IndpZHRoOiAxMDAuMCU7IGhlaWdodDogMTAwLjAlOyI+IENsdXN0ZXIgMTwvZGl2PmApWzBdOwogICAgICAgICAgICBwb3B1cF9iNjE5ZjYwNTQ3ZWY0NWE4OWVmZmE5YWY5MDRmNDA1NS5zZXRDb250ZW50KGh0bWxfN2VlMDdhZTVkZWQzNDkxYmE1MDA0YTgzNWQwOTA5ZjEpOwogICAgICAgIAoKICAgICAgICBjaXJjbGVfbWFya2VyXzZiN2FhMGRkYTI2MzQ2ZjE5NzE4M2NhZmUxOTJlOTVhLmJpbmRQb3B1cChwb3B1cF9iNjE5ZjYwNTQ3ZWY0NWE4OWVmZmE5YWY5MDRmNDA1NSkKICAgICAgICA7CgogICAgICAgIAogICAgCiAgICAKICAgICAgICAgICAgdmFyIGNpcmNsZV9tYXJrZXJfNWRlMzFlMzQ0ZjM3NDk0ODg3MWJhZTUyMzAwMmIwMDMgPSBMLmNpcmNsZU1hcmtlcigKICAgICAgICAgICAgICAgIFs0My42Njk1NDIsIC03OS40MjI1NjM3XSwKICAgICAgICAgICAgICAgIHsiYnViYmxpbmdNb3VzZUV2ZW50cyI6IHRydWUsICJjb2xvciI6ICIjMmFkZGRkIiwgImRhc2hBcnJheSI6IG51bGwsICJkYXNoT2Zmc2V0IjogbnVsbCwgImZpbGwiOiB0cnVlLCAiZmlsbENvbG9yIjogIiMyYWRkZGQiLCAiZmlsbE9wYWNpdHkiOiAwLjcsICJmaWxsUnVsZSI6ICJldmVub2RkIiwgImxpbmVDYXAiOiAicm91bmQiLCAibGluZUpvaW4iOiAicm91bmQiLCAib3BhY2l0eSI6IDEuMCwgInJhZGl1cyI6IDUsICJzdHJva2UiOiB0cnVlLCAid2VpZ2h0IjogM30KICAgICAgICAgICAgKS5hZGRUbyhtYXBfZDMzY2FkMzI3NWZmNDBiYmE5MzNjMjU1NzIzMzNmZjcpOwogICAgICAgIAogICAgCiAgICAgICAgdmFyIHBvcHVwXzlhMzIzZDdjMjgxNzQ5ZWI5NjVjM2U0MGMxNDZlMmJhID0gTC5wb3B1cCh7Im1heFdpZHRoIjogIjEwMCUifSk7CgogICAgICAgIAogICAgICAgICAgICB2YXIgaHRtbF82M2NlNmE3MTNjYjA0MTY5OWRlMzNlYTU5ZmRmZmUzOSA9ICQoYDxkaXYgaWQ9Imh0bWxfNjNjZTZhNzEzY2IwNDE2OTlkZTMzZWE1OWZkZmZlMzkiIHN0eWxlPSJ3aWR0aDogMTAwLjAlOyBoZWlnaHQ6IDEwMC4wJTsiPiBDbHVzdGVyIDI8L2Rpdj5gKVswXTsKICAgICAgICAgICAgcG9wdXBfOWEzMjNkN2MyODE3NDllYjk2NWMzZTQwYzE0NmUyYmEuc2V0Q29udGVudChodG1sXzYzY2U2YTcxM2NiMDQxNjk5ZGUzM2VhNTlmZGZmZTM5KTsKICAgICAgICAKCiAgICAgICAgY2lyY2xlX21hcmtlcl81ZGUzMWUzNDRmMzc0OTQ4ODcxYmFlNTIzMDAyYjAwMy5iaW5kUG9wdXAocG9wdXBfOWEzMjNkN2MyODE3NDllYjk2NWMzZTQwYzE0NmUyYmEpCiAgICAgICAgOwoKICAgICAgICAKICAgIAogICAgCiAgICAgICAgICAgIHZhciBjaXJjbGVfbWFya2VyXzNjY2U0ZWQzYzczNDQyZDk5MGFmMDE4ZTQ2MDY4ZDlkID0gTC5jaXJjbGVNYXJrZXIoCiAgICAgICAgICAgICAgICBbNDMuNjUwNTcxMjAwMDAwMDEsIC03OS4zODQ1Njc1XSwKICAgICAgICAgICAgICAgIHsiYnViYmxpbmdNb3VzZUV2ZW50cyI6IHRydWUsICJjb2xvciI6ICIjODAwMGZmIiwgImRhc2hBcnJheSI6IG51bGwsICJkYXNoT2Zmc2V0IjogbnVsbCwgImZpbGwiOiB0cnVlLCAiZmlsbENvbG9yIjogIiM4MDAwZmYiLCAiZmlsbE9wYWNpdHkiOiAwLjcsICJmaWxsUnVsZSI6ICJldmVub2RkIiwgImxpbmVDYXAiOiAicm91bmQiLCAibGluZUpvaW4iOiAicm91bmQiLCAib3BhY2l0eSI6IDEuMCwgInJhZGl1cyI6IDUsICJzdHJva2UiOiB0cnVlLCAid2VpZ2h0IjogM30KICAgICAgICAgICAgKS5hZGRUbyhtYXBfZDMzY2FkMzI3NWZmNDBiYmE5MzNjMjU1NzIzMzNmZjcpOwogICAgICAgIAogICAgCiAgICAgICAgdmFyIHBvcHVwXzA2ZjRkMDI2MjVmZjRlMjViYmY5YmY4OTgxMmE2NmI1ID0gTC5wb3B1cCh7Im1heFdpZHRoIjogIjEwMCUifSk7CgogICAgICAgIAogICAgICAgICAgICB2YXIgaHRtbF8wNGVkOWM0M2NhNWQ0ZmRmYmI5MTM2OTBjMjE1OGQwMiA9ICQoYDxkaXYgaWQ9Imh0bWxfMDRlZDljNDNjYTVkNGZkZmJiOTEzNjkwYzIxNThkMDIiIHN0eWxlPSJ3aWR0aDogMTAwLjAlOyBoZWlnaHQ6IDEwMC4wJTsiPiBDbHVzdGVyIDE8L2Rpdj5gKVswXTsKICAgICAgICAgICAgcG9wdXBfMDZmNGQwMjYyNWZmNGUyNWJiZjliZjg5ODEyYTY2YjUuc2V0Q29udGVudChodG1sXzA0ZWQ5YzQzY2E1ZDRmZGZiYjkxMzY5MGMyMTU4ZDAyKTsKICAgICAgICAKCiAgICAgICAgY2lyY2xlX21hcmtlcl8zY2NlNGVkM2M3MzQ0MmQ5OTBhZjAxOGU0NjA2OGQ5ZC5iaW5kUG9wdXAocG9wdXBfMDZmNGQwMjYyNWZmNGUyNWJiZjliZjg5ODEyYTY2YjUpCiAgICAgICAgOwoKICAgICAgICAKICAgIAogICAgCiAgICAgICAgICAgIHZhciBjaXJjbGVfbWFya2VyXzZlYjc2Njc0YjYzMzRjZGY5NWRmODliNTM5YzhkMmU3ID0gTC5jaXJjbGVNYXJrZXIoCiAgICAgICAgICAgICAgICBbNDMuNjY5MDA1MTAwMDAwMDEsIC03OS40NDIyNTkzXSwKICAgICAgICAgICAgICAgIHsiYnViYmxpbmdNb3VzZUV2ZW50cyI6IHRydWUsICJjb2xvciI6ICIjMmFkZGRkIiwgImRhc2hBcnJheSI6IG51bGwsICJkYXNoT2Zmc2V0IjogbnVsbCwgImZpbGwiOiB0cnVlLCAiZmlsbENvbG9yIjogIiMyYWRkZGQiLCAiZmlsbE9wYWNpdHkiOiAwLjcsICJmaWxsUnVsZSI6ICJldmVub2RkIiwgImxpbmVDYXAiOiAicm91bmQiLCAibGluZUpvaW4iOiAicm91bmQiLCAib3BhY2l0eSI6IDEuMCwgInJhZGl1cyI6IDUsICJzdHJva2UiOiB0cnVlLCAid2VpZ2h0IjogM30KICAgICAgICAgICAgKS5hZGRUbyhtYXBfZDMzY2FkMzI3NWZmNDBiYmE5MzNjMjU1NzIzMzNmZjcpOwogICAgICAgIAogICAgCiAgICAgICAgdmFyIHBvcHVwX2FjMTc0MTBkOGIwYjRjZmRhOWUzNDExMzRkN2EzOTZhID0gTC5wb3B1cCh7Im1heFdpZHRoIjogIjEwMCUifSk7CgogICAgICAgIAogICAgICAgICAgICB2YXIgaHRtbF81NzgyMzM0N2IzYTk0N2FiYmE1NjY4NzljZTBjMzI0MSA9ICQoYDxkaXYgaWQ9Imh0bWxfNTc4MjMzNDdiM2E5NDdhYmJhNTY2ODc5Y2UwYzMyNDEiIHN0eWxlPSJ3aWR0aDogMTAwLjAlOyBoZWlnaHQ6IDEwMC4wJTsiPiBDbHVzdGVyIDI8L2Rpdj5gKVswXTsKICAgICAgICAgICAgcG9wdXBfYWMxNzQxMGQ4YjBiNGNmZGE5ZTM0MTEzNGQ3YTM5NmEuc2V0Q29udGVudChodG1sXzU3ODIzMzQ3YjNhOTQ3YWJiYTU2Njg3OWNlMGMzMjQxKTsKICAgICAgICAKCiAgICAgICAgY2lyY2xlX21hcmtlcl82ZWI3NjY3NGI2MzM0Y2RmOTVkZjg5YjUzOWM4ZDJlNy5iaW5kUG9wdXAocG9wdXBfYWMxNzQxMGQ4YjBiNGNmZGE5ZTM0MTEzNGQ3YTM5NmEpCiAgICAgICAgOwoKICAgICAgICAKICAgIAogICAgCiAgICAgICAgICAgIHZhciBjaXJjbGVfbWFya2VyXzY1YTUwZmE3YWRjMjQwOGVhMzhiNmM4ODU0MjdkNDlkID0gTC5jaXJjbGVNYXJrZXIoCiAgICAgICAgICAgICAgICBbNDMuNjQwODE1NywgLTc5LjM4MTc1MjI5OTk5OTk5XSwKICAgICAgICAgICAgICAgIHsiYnViYmxpbmdNb3VzZUV2ZW50cyI6IHRydWUsICJjb2xvciI6ICIjODAwMGZmIiwgImRhc2hBcnJheSI6IG51bGwsICJkYXNoT2Zmc2V0IjogbnVsbCwgImZpbGwiOiB0cnVlLCAiZmlsbENvbG9yIjogIiM4MDAwZmYiLCAiZmlsbE9wYWNpdHkiOiAwLjcsICJmaWxsUnVsZSI6ICJldmVub2RkIiwgImxpbmVDYXAiOiAicm91bmQiLCAibGluZUpvaW4iOiAicm91bmQiLCAib3BhY2l0eSI6IDEuMCwgInJhZGl1cyI6IDUsICJzdHJva2UiOiB0cnVlLCAid2VpZ2h0IjogM30KICAgICAgICAgICAgKS5hZGRUbyhtYXBfZDMzY2FkMzI3NWZmNDBiYmE5MzNjMjU1NzIzMzNmZjcpOwogICAgICAgIAogICAgCiAgICAgICAgdmFyIHBvcHVwXzcwMmVlMzY1OWY1NjQ3ZmU5M2ZiZWExYjYxMjkzZWVkID0gTC5wb3B1cCh7Im1heFdpZHRoIjogIjEwMCUifSk7CgogICAgICAgIAogICAgICAgICAgICB2YXIgaHRtbF84NzQ2ZTViMmEzNjY0OWViYmZiYjkxZmRiOGYxYTFkZSA9ICQoYDxkaXYgaWQ9Imh0bWxfODc0NmU1YjJhMzY2NDllYmJmYmI5MWZkYjhmMWExZGUiIHN0eWxlPSJ3aWR0aDogMTAwLjAlOyBoZWlnaHQ6IDEwMC4wJTsiPiBDbHVzdGVyIDE8L2Rpdj5gKVswXTsKICAgICAgICAgICAgcG9wdXBfNzAyZWUzNjU5ZjU2NDdmZTkzZmJlYTFiNjEyOTNlZWQuc2V0Q29udGVudChodG1sXzg3NDZlNWIyYTM2NjQ5ZWJiZmJiOTFmZGI4ZjFhMWRlKTsKICAgICAgICAKCiAgICAgICAgY2lyY2xlX21hcmtlcl82NWE1MGZhN2FkYzI0MDhlYTM4YjZjODg1NDI3ZDQ5ZC5iaW5kUG9wdXAocG9wdXBfNzAyZWUzNjU5ZjU2NDdmZTkzZmJlYTFiNjEyOTNlZWQpCiAgICAgICAgOwoKICAgICAgICAKICAgIAogICAgCiAgICAgICAgICAgIHZhciBjaXJjbGVfbWFya2VyXzk3YzE0MWZkNWVmMDQwNzg4YWE0YzhkYjllZTEwODJiID0gTC5jaXJjbGVNYXJrZXIoCiAgICAgICAgICAgICAgICBbNDMuNjQ3OTI2NzAwMDAwMDA2LCAtNzkuNDE5NzQ5N10sCiAgICAgICAgICAgICAgICB7ImJ1YmJsaW5nTW91c2VFdmVudHMiOiB0cnVlLCAiY29sb3IiOiAiIzJhZGRkZCIsICJkYXNoQXJyYXkiOiBudWxsLCAiZGFzaE9mZnNldCI6IG51bGwsICJmaWxsIjogdHJ1ZSwgImZpbGxDb2xvciI6ICIjMmFkZGRkIiwgImZpbGxPcGFjaXR5IjogMC43LCAiZmlsbFJ1bGUiOiAiZXZlbm9kZCIsICJsaW5lQ2FwIjogInJvdW5kIiwgImxpbmVKb2luIjogInJvdW5kIiwgIm9wYWNpdHkiOiAxLjAsICJyYWRpdXMiOiA1LCAic3Ryb2tlIjogdHJ1ZSwgIndlaWdodCI6IDN9CiAgICAgICAgICAgICkuYWRkVG8obWFwX2QzM2NhZDMyNzVmZjQwYmJhOTMzYzI1NTcyMzMzZmY3KTsKICAgICAgICAKICAgIAogICAgICAgIHZhciBwb3B1cF9hZTE5YmJmNWNiZTQ0NDgyOTNjYzgyNWRhNGM3YWE3OCA9IEwucG9wdXAoeyJtYXhXaWR0aCI6ICIxMDAlIn0pOwoKICAgICAgICAKICAgICAgICAgICAgdmFyIGh0bWxfZjczZDA1MWE0ZTM1NGQ2YmI5NDNiYTY1ZmQyMTJkN2YgPSAkKGA8ZGl2IGlkPSJodG1sX2Y3M2QwNTFhNGUzNTRkNmJiOTQzYmE2NWZkMjEyZDdmIiBzdHlsZT0id2lkdGg6IDEwMC4wJTsgaGVpZ2h0OiAxMDAuMCU7Ij4gQ2x1c3RlciAyPC9kaXY+YClbMF07CiAgICAgICAgICAgIHBvcHVwX2FlMTliYmY1Y2JlNDQ0ODI5M2NjODI1ZGE0YzdhYTc4LnNldENvbnRlbnQoaHRtbF9mNzNkMDUxYTRlMzU0ZDZiYjk0M2JhNjVmZDIxMmQ3Zik7CiAgICAgICAgCgogICAgICAgIGNpcmNsZV9tYXJrZXJfOTdjMTQxZmQ1ZWYwNDA3ODhhYTRjOGRiOWVlMTA4MmIuYmluZFBvcHVwKHBvcHVwX2FlMTliYmY1Y2JlNDQ0ODI5M2NjODI1ZGE0YzdhYTc4KQogICAgICAgIDsKCiAgICAgICAgCiAgICAKICAgIAogICAgICAgICAgICB2YXIgY2lyY2xlX21hcmtlcl9lZmExZjY4MWM2MTI0OWIzYmQyYTk3ZDhhY2U5YTY4MiA9IEwuY2lyY2xlTWFya2VyKAogICAgICAgICAgICAgICAgWzQzLjY3OTU1NzEsIC03OS4zNTIxODhdLAogICAgICAgICAgICAgICAgeyJidWJibGluZ01vdXNlRXZlbnRzIjogdHJ1ZSwgImNvbG9yIjogIiNkNGRkODAiLCAiZGFzaEFycmF5IjogbnVsbCwgImRhc2hPZmZzZXQiOiBudWxsLCAiZmlsbCI6IHRydWUsICJmaWxsQ29sb3IiOiAiI2Q0ZGQ4MCIsICJmaWxsT3BhY2l0eSI6IDAuNywgImZpbGxSdWxlIjogImV2ZW5vZGQiLCAibGluZUNhcCI6ICJyb3VuZCIsICJsaW5lSm9pbiI6ICJyb3VuZCIsICJvcGFjaXR5IjogMS4wLCAicmFkaXVzIjogNSwgInN0cm9rZSI6IHRydWUsICJ3ZWlnaHQiOiAzfQogICAgICAgICAgICApLmFkZFRvKG1hcF9kMzNjYWQzMjc1ZmY0MGJiYTkzM2MyNTU3MjMzM2ZmNyk7CiAgICAgICAgCiAgICAKICAgICAgICB2YXIgcG9wdXBfYTEwYTY0ZDA1NDM0NDdmMWEzOGRiMDRmNWNkNzBkNWEgPSBMLnBvcHVwKHsibWF4V2lkdGgiOiAiMTAwJSJ9KTsKCiAgICAgICAgCiAgICAgICAgICAgIHZhciBodG1sX2RmODJiMTdkMGRhNTRjMzU4NWQ1NDMxNjJiYTBlYjIxID0gJChgPGRpdiBpZD0iaHRtbF9kZjgyYjE3ZDBkYTU0YzM1ODVkNTQzMTYyYmEwZWIyMSIgc3R5bGU9IndpZHRoOiAxMDAuMCU7IGhlaWdodDogMTAwLjAlOyI+IENsdXN0ZXIgMzwvZGl2PmApWzBdOwogICAgICAgICAgICBwb3B1cF9hMTBhNjRkMDU0MzQ0N2YxYTM4ZGIwNGY1Y2Q3MGQ1YS5zZXRDb250ZW50KGh0bWxfZGY4MmIxN2QwZGE1NGMzNTg1ZDU0MzE2MmJhMGViMjEpOwogICAgICAgIAoKICAgICAgICBjaXJjbGVfbWFya2VyX2VmYTFmNjgxYzYxMjQ5YjNiZDJhOTdkOGFjZTlhNjgyLmJpbmRQb3B1cChwb3B1cF9hMTBhNjRkMDU0MzQ0N2YxYTM4ZGIwNGY1Y2Q3MGQ1YSkKICAgICAgICA7CgogICAgICAgIAogICAgCiAgICAKICAgICAgICAgICAgdmFyIGNpcmNsZV9tYXJrZXJfY2NjYWY5NDI4ZGY1NDRlOGFlOTYwNmU0YTgxMDA3M2QgPSBMLmNpcmNsZU1hcmtlcigKICAgICAgICAgICAgICAgIFs0My42NDcxNzY4LCAtNzkuMzgxNTc2NDAwMDAwMDFdLAogICAgICAgICAgICAgICAgeyJidWJibGluZ01vdXNlRXZlbnRzIjogdHJ1ZSwgImNvbG9yIjogIiM4MDAwZmYiLCAiZGFzaEFycmF5IjogbnVsbCwgImRhc2hPZmZzZXQiOiBudWxsLCAiZmlsbCI6IHRydWUsICJmaWxsQ29sb3IiOiAiIzgwMDBmZiIsICJmaWxsT3BhY2l0eSI6IDAuNywgImZpbGxSdWxlIjogImV2ZW5vZGQiLCAibGluZUNhcCI6ICJyb3VuZCIsICJsaW5lSm9pbiI6ICJyb3VuZCIsICJvcGFjaXR5IjogMS4wLCAicmFkaXVzIjogNSwgInN0cm9rZSI6IHRydWUsICJ3ZWlnaHQiOiAzfQogICAgICAgICAgICApLmFkZFRvKG1hcF9kMzNjYWQzMjc1ZmY0MGJiYTkzM2MyNTU3MjMzM2ZmNyk7CiAgICAgICAgCiAgICAKICAgICAgICB2YXIgcG9wdXBfMzE3NzdhYTQyZDVkNGY1YjlkNGM4NGRlNWE5NjYyNGUgPSBMLnBvcHVwKHsibWF4V2lkdGgiOiAiMTAwJSJ9KTsKCiAgICAgICAgCiAgICAgICAgICAgIHZhciBodG1sXzBmMjkyMzM1MzMwNTRmODM5ZmFiYzZhMWM5ZDUxNjk5ID0gJChgPGRpdiBpZD0iaHRtbF8wZjI5MjMzNTMzMDU0ZjgzOWZhYmM2YTFjOWQ1MTY5OSIgc3R5bGU9IndpZHRoOiAxMDAuMCU7IGhlaWdodDogMTAwLjAlOyI+IENsdXN0ZXIgMTwvZGl2PmApWzBdOwogICAgICAgICAgICBwb3B1cF8zMTc3N2FhNDJkNWQ0ZjViOWQ0Yzg0ZGU1YTk2NjI0ZS5zZXRDb250ZW50KGh0bWxfMGYyOTIzMzUzMzA1NGY4MzlmYWJjNmExYzlkNTE2OTkpOwogICAgICAgIAoKICAgICAgICBjaXJjbGVfbWFya2VyX2NjY2FmOTQyOGRmNTQ0ZThhZTk2MDZlNGE4MTAwNzNkLmJpbmRQb3B1cChwb3B1cF8zMTc3N2FhNDJkNWQ0ZjViOWQ0Yzg0ZGU1YTk2NjI0ZSkKICAgICAgICA7CgogICAgICAgIAogICAgCiAgICAKICAgICAgICAgICAgdmFyIGNpcmNsZV9tYXJrZXJfMzlkOGY1NzY5MGU1NDI1Y2FmOTg0NGM5OTAzNzBiZWYgPSBMLmNpcmNsZU1hcmtlcigKICAgICAgICAgICAgICAgIFs0My42MzY4NDcyLCAtNzkuNDI4MTkxNDAwMDAwMDJdLAogICAgICAgICAgICAgICAgeyJidWJibGluZ01vdXNlRXZlbnRzIjogdHJ1ZSwgImNvbG9yIjogIiMyYWRkZGQiLCAiZGFzaEFycmF5IjogbnVsbCwgImRhc2hPZmZzZXQiOiBudWxsLCAiZmlsbCI6IHRydWUsICJmaWxsQ29sb3IiOiAiIzJhZGRkZCIsICJmaWxsT3BhY2l0eSI6IDAuNywgImZpbGxSdWxlIjogImV2ZW5vZGQiLCAibGluZUNhcCI6ICJyb3VuZCIsICJsaW5lSm9pbiI6ICJyb3VuZCIsICJvcGFjaXR5IjogMS4wLCAicmFkaXVzIjogNSwgInN0cm9rZSI6IHRydWUsICJ3ZWlnaHQiOiAzfQogICAgICAgICAgICApLmFkZFRvKG1hcF9kMzNjYWQzMjc1ZmY0MGJiYTkzM2MyNTU3MjMzM2ZmNyk7CiAgICAgICAgCiAgICAKICAgICAgICB2YXIgcG9wdXBfMzQxYTMzM2M1NTYwNGU5YTk5ZGQxN2E3ZjMyYzc2MjMgPSBMLnBvcHVwKHsibWF4V2lkdGgiOiAiMTAwJSJ9KTsKCiAgICAgICAgCiAgICAgICAgICAgIHZhciBodG1sX2ZlMjQ3MDUzMDI1ODRkNTI4ODg2ZmI5MzhiYzQ0Zjg1ID0gJChgPGRpdiBpZD0iaHRtbF9mZTI0NzA1MzAyNTg0ZDUyODg4NmZiOTM4YmM0NGY4NSIgc3R5bGU9IndpZHRoOiAxMDAuMCU7IGhlaWdodDogMTAwLjAlOyI+IENsdXN0ZXIgMjwvZGl2PmApWzBdOwogICAgICAgICAgICBwb3B1cF8zNDFhMzMzYzU1NjA0ZTlhOTlkZDE3YTdmMzJjNzYyMy5zZXRDb250ZW50KGh0bWxfZmUyNDcwNTMwMjU4NGQ1Mjg4ODZmYjkzOGJjNDRmODUpOwogICAgICAgIAoKICAgICAgICBjaXJjbGVfbWFya2VyXzM5ZDhmNTc2OTBlNTQyNWNhZjk4NDRjOTkwMzcwYmVmLmJpbmRQb3B1cChwb3B1cF8zNDFhMzMzYzU1NjA0ZTlhOTlkZDE3YTdmMzJjNzYyMykKICAgICAgICA7CgogICAgICAgIAogICAgCiAgICAKICAgICAgICAgICAgdmFyIGNpcmNsZV9tYXJrZXJfOWVmYzBmZGI3MDU3NDMxNjg5ZTNiNGY1OTU2ZjQ4ZDcgPSBMLmNpcmNsZU1hcmtlcigKICAgICAgICAgICAgICAgIFs0My42Njg5OTg1LCAtNzkuMzE1NTcxNTk5OTk5OThdLAogICAgICAgICAgICAgICAgeyJidWJibGluZ01vdXNlRXZlbnRzIjogdHJ1ZSwgImNvbG9yIjogIiNkNGRkODAiLCAiZGFzaEFycmF5IjogbnVsbCwgImRhc2hPZmZzZXQiOiBudWxsLCAiZmlsbCI6IHRydWUsICJmaWxsQ29sb3IiOiAiI2Q0ZGQ4MCIsICJmaWxsT3BhY2l0eSI6IDAuNywgImZpbGxSdWxlIjogImV2ZW5vZGQiLCAibGluZUNhcCI6ICJyb3VuZCIsICJsaW5lSm9pbiI6ICJyb3VuZCIsICJvcGFjaXR5IjogMS4wLCAicmFkaXVzIjogNSwgInN0cm9rZSI6IHRydWUsICJ3ZWlnaHQiOiAzfQogICAgICAgICAgICApLmFkZFRvKG1hcF9kMzNjYWQzMjc1ZmY0MGJiYTkzM2MyNTU3MjMzM2ZmNyk7CiAgICAgICAgCiAgICAKICAgICAgICB2YXIgcG9wdXBfYjMwZmMwNDg1NTAxNDU3M2JjYzRhNmNiOWY4ZDI0MTQgPSBMLnBvcHVwKHsibWF4V2lkdGgiOiAiMTAwJSJ9KTsKCiAgICAgICAgCiAgICAgICAgICAgIHZhciBodG1sX2U5ZjY1NmEzNDdkNzQ1MGI4NTM4ZWNhZGY2NjFkMGI1ID0gJChgPGRpdiBpZD0iaHRtbF9lOWY2NTZhMzQ3ZDc0NTBiODUzOGVjYWRmNjYxZDBiNSIgc3R5bGU9IndpZHRoOiAxMDAuMCU7IGhlaWdodDogMTAwLjAlOyI+IENsdXN0ZXIgMzwvZGl2PmApWzBdOwogICAgICAgICAgICBwb3B1cF9iMzBmYzA0ODU1MDE0NTczYmNjNGE2Y2I5ZjhkMjQxNC5zZXRDb250ZW50KGh0bWxfZTlmNjU2YTM0N2Q3NDUwYjg1MzhlY2FkZjY2MWQwYjUpOwogICAgICAgIAoKICAgICAgICBjaXJjbGVfbWFya2VyXzllZmMwZmRiNzA1NzQzMTY4OWUzYjRmNTk1NmY0OGQ3LmJpbmRQb3B1cChwb3B1cF9iMzBmYzA0ODU1MDE0NTczYmNjNGE2Y2I5ZjhkMjQxNCkKICAgICAgICA7CgogICAgICAgIAogICAgCiAgICAKICAgICAgICAgICAgdmFyIGNpcmNsZV9tYXJrZXJfOTZlYThjNWJlZmY5NGJiNjgwMjQxM2VkZDRkNjg2NDcgPSBMLmNpcmNsZU1hcmtlcigKICAgICAgICAgICAgICAgIFs0My42NDgxOTg1LCAtNzkuMzc5ODE2OTAwMDAwMDFdLAogICAgICAgICAgICAgICAgeyJidWJibGluZ01vdXNlRXZlbnRzIjogdHJ1ZSwgImNvbG9yIjogIiM4MDAwZmYiLCAiZGFzaEFycmF5IjogbnVsbCwgImRhc2hPZmZzZXQiOiBudWxsLCAiZmlsbCI6IHRydWUsICJmaWxsQ29sb3IiOiAiIzgwMDBmZiIsICJmaWxsT3BhY2l0eSI6IDAuNywgImZpbGxSdWxlIjogImV2ZW5vZGQiLCAibGluZUNhcCI6ICJyb3VuZCIsICJsaW5lSm9pbiI6ICJyb3VuZCIsICJvcGFjaXR5IjogMS4wLCAicmFkaXVzIjogNSwgInN0cm9rZSI6IHRydWUsICJ3ZWlnaHQiOiAzfQogICAgICAgICAgICApLmFkZFRvKG1hcF9kMzNjYWQzMjc1ZmY0MGJiYTkzM2MyNTU3MjMzM2ZmNyk7CiAgICAgICAgCiAgICAKICAgICAgICB2YXIgcG9wdXBfZTM5NDY1ZDgzYjg4NDM3YmFjYThmYTdiZjBhMGNjZWYgPSBMLnBvcHVwKHsibWF4V2lkdGgiOiAiMTAwJSJ9KTsKCiAgICAgICAgCiAgICAgICAgICAgIHZhciBodG1sXzhjODY0ZmI3YmMxNTRmYjRhNjBkZDY4NWMyM2Q0ZTMzID0gJChgPGRpdiBpZD0iaHRtbF84Yzg2NGZiN2JjMTU0ZmI0YTYwZGQ2ODVjMjNkNGUzMyIgc3R5bGU9IndpZHRoOiAxMDAuMCU7IGhlaWdodDogMTAwLjAlOyI+IENsdXN0ZXIgMTwvZGl2PmApWzBdOwogICAgICAgICAgICBwb3B1cF9lMzk0NjVkODNiODg0MzdiYWNhOGZhN2JmMGEwY2NlZi5zZXRDb250ZW50KGh0bWxfOGM4NjRmYjdiYzE1NGZiNGE2MGRkNjg1YzIzZDRlMzMpOwogICAgICAgIAoKICAgICAgICBjaXJjbGVfbWFya2VyXzk2ZWE4YzViZWZmOTRiYjY4MDI0MTNlZGQ0ZDY4NjQ3LmJpbmRQb3B1cChwb3B1cF9lMzk0NjVkODNiODg0MzdiYWNhOGZhN2JmMGEwY2NlZikKICAgICAgICA7CgogICAgICAgIAogICAgCiAgICAKICAgICAgICAgICAgdmFyIGNpcmNsZV9tYXJrZXJfZmQ4MjFhMWU3YzcxNDBmOWJlNTM4OWFiOTE1MzRhOTkgPSBMLmNpcmNsZU1hcmtlcigKICAgICAgICAgICAgICAgIFs0My42NTk1MjU1LCAtNzkuMzQwOTIzXSwKICAgICAgICAgICAgICAgIHsiYnViYmxpbmdNb3VzZUV2ZW50cyI6IHRydWUsICJjb2xvciI6ICIjZDRkZDgwIiwgImRhc2hBcnJheSI6IG51bGwsICJkYXNoT2Zmc2V0IjogbnVsbCwgImZpbGwiOiB0cnVlLCAiZmlsbENvbG9yIjogIiNkNGRkODAiLCAiZmlsbE9wYWNpdHkiOiAwLjcsICJmaWxsUnVsZSI6ICJldmVub2RkIiwgImxpbmVDYXAiOiAicm91bmQiLCAibGluZUpvaW4iOiAicm91bmQiLCAib3BhY2l0eSI6IDEuMCwgInJhZGl1cyI6IDUsICJzdHJva2UiOiB0cnVlLCAid2VpZ2h0IjogM30KICAgICAgICAgICAgKS5hZGRUbyhtYXBfZDMzY2FkMzI3NWZmNDBiYmE5MzNjMjU1NzIzMzNmZjcpOwogICAgICAgIAogICAgCiAgICAgICAgdmFyIHBvcHVwX2QzNDM2ZWNhMjNlYTQ3MzVhOWRmZWZiNWRiNzZkMzg1ID0gTC5wb3B1cCh7Im1heFdpZHRoIjogIjEwMCUifSk7CgogICAgICAgIAogICAgICAgICAgICB2YXIgaHRtbF85OWE4Y2EwZjQxZDk0NzY0YjM0MTIyNDVjMWMxNTQ0NiA9ICQoYDxkaXYgaWQ9Imh0bWxfOTlhOGNhMGY0MWQ5NDc2NGIzNDEyMjQ1YzFjMTU0NDYiIHN0eWxlPSJ3aWR0aDogMTAwLjAlOyBoZWlnaHQ6IDEwMC4wJTsiPiBDbHVzdGVyIDM8L2Rpdj5gKVswXTsKICAgICAgICAgICAgcG9wdXBfZDM0MzZlY2EyM2VhNDczNWE5ZGZlZmI1ZGI3NmQzODUuc2V0Q29udGVudChodG1sXzk5YThjYTBmNDFkOTQ3NjRiMzQxMjI0NWMxYzE1NDQ2KTsKICAgICAgICAKCiAgICAgICAgY2lyY2xlX21hcmtlcl9mZDgyMWExZTdjNzE0MGY5YmU1Mzg5YWI5MTUzNGE5OS5iaW5kUG9wdXAocG9wdXBfZDM0MzZlY2EyM2VhNDczNWE5ZGZlZmI1ZGI3NmQzODUpCiAgICAgICAgOwoKICAgICAgICAKICAgIAogICAgCiAgICAgICAgICAgIHZhciBjaXJjbGVfbWFya2VyX2QzZjIxMjAwZmI2NTQwZjM5MDYyNmU3MDI0OTFiMTZlID0gTC5jaXJjbGVNYXJrZXIoCiAgICAgICAgICAgICAgICBbNDMuNzI4MDIwNSwgLTc5LjM4ODc5MDFdLAogICAgICAgICAgICAgICAgeyJidWJibGluZ01vdXNlRXZlbnRzIjogdHJ1ZSwgImNvbG9yIjogIiNmZjAwMDAiLCAiZGFzaEFycmF5IjogbnVsbCwgImRhc2hPZmZzZXQiOiBudWxsLCAiZmlsbCI6IHRydWUsICJmaWxsQ29sb3IiOiAiI2ZmMDAwMCIsICJmaWxsT3BhY2l0eSI6IDAuNywgImZpbGxSdWxlIjogImV2ZW5vZGQiLCAibGluZUNhcCI6ICJyb3VuZCIsICJsaW5lSm9pbiI6ICJyb3VuZCIsICJvcGFjaXR5IjogMS4wLCAicmFkaXVzIjogNSwgInN0cm9rZSI6IHRydWUsICJ3ZWlnaHQiOiAzfQogICAgICAgICAgICApLmFkZFRvKG1hcF9kMzNjYWQzMjc1ZmY0MGJiYTkzM2MyNTU3MjMzM2ZmNyk7CiAgICAgICAgCiAgICAKICAgICAgICB2YXIgcG9wdXBfYWJlNjVmZTNlNDhjNGJkNmE0ZWU0M2YzYjlkYWFiZjkgPSBMLnBvcHVwKHsibWF4V2lkdGgiOiAiMTAwJSJ9KTsKCiAgICAgICAgCiAgICAgICAgICAgIHZhciBodG1sX2NiMjliMWEwMWI4MzRjYWNhYjk0ZWY4MjYzNjllYzE1ID0gJChgPGRpdiBpZD0iaHRtbF9jYjI5YjFhMDFiODM0Y2FjYWI5NGVmODI2MzY5ZWMxNSIgc3R5bGU9IndpZHRoOiAxMDAuMCU7IGhlaWdodDogMTAwLjAlOyI+IENsdXN0ZXIgMDwvZGl2PmApWzBdOwogICAgICAgICAgICBwb3B1cF9hYmU2NWZlM2U0OGM0YmQ2YTRlZTQzZjNiOWRhYWJmOS5zZXRDb250ZW50KGh0bWxfY2IyOWIxYTAxYjgzNGNhY2FiOTRlZjgyNjM2OWVjMTUpOwogICAgICAgIAoKICAgICAgICBjaXJjbGVfbWFya2VyX2QzZjIxMjAwZmI2NTQwZjM5MDYyNmU3MDI0OTFiMTZlLmJpbmRQb3B1cChwb3B1cF9hYmU2NWZlM2U0OGM0YmQ2YTRlZTQzZjNiOWRhYWJmOSkKICAgICAgICA7CgogICAgICAgIAogICAgCiAgICAKICAgICAgICAgICAgdmFyIGNpcmNsZV9tYXJrZXJfY2Y3ODg5MzgyOTRjNDMzNmEyYWVmNDQyMTI4ZTE1NjIgPSBMLmNpcmNsZU1hcmtlcigKICAgICAgICAgICAgICAgIFs0My43MTE2OTQ4LCAtNzkuNDE2OTM1NTk5OTk5OTldLAogICAgICAgICAgICAgICAgeyJidWJibGluZ01vdXNlRXZlbnRzIjogdHJ1ZSwgImNvbG9yIjogIiNmZjAwMDAiLCAiZGFzaEFycmF5IjogbnVsbCwgImRhc2hPZmZzZXQiOiBudWxsLCAiZmlsbCI6IHRydWUsICJmaWxsQ29sb3IiOiAiI2ZmMDAwMCIsICJmaWxsT3BhY2l0eSI6IDAuNywgImZpbGxSdWxlIjogImV2ZW5vZGQiLCAibGluZUNhcCI6ICJyb3VuZCIsICJsaW5lSm9pbiI6ICJyb3VuZCIsICJvcGFjaXR5IjogMS4wLCAicmFkaXVzIjogNSwgInN0cm9rZSI6IHRydWUsICJ3ZWlnaHQiOiAzfQogICAgICAgICAgICApLmFkZFRvKG1hcF9kMzNjYWQzMjc1ZmY0MGJiYTkzM2MyNTU3MjMzM2ZmNyk7CiAgICAgICAgCiAgICAKICAgICAgICB2YXIgcG9wdXBfYzdjYzZhZGJiZDJhNDA2ZTk2N2NiNjA5MjM1YjQ3YjggPSBMLnBvcHVwKHsibWF4V2lkdGgiOiAiMTAwJSJ9KTsKCiAgICAgICAgCiAgICAgICAgICAgIHZhciBodG1sXzBhMmRkNmViYzMzNjRjM2E5NmZhZTViOWQ0NmIzMmM2ID0gJChgPGRpdiBpZD0iaHRtbF8wYTJkZDZlYmMzMzY0YzNhOTZmYWU1YjlkNDZiMzJjNiIgc3R5bGU9IndpZHRoOiAxMDAuMCU7IGhlaWdodDogMTAwLjAlOyI+IENsdXN0ZXIgMDwvZGl2PmApWzBdOwogICAgICAgICAgICBwb3B1cF9jN2NjNmFkYmJkMmE0MDZlOTY3Y2I2MDkyMzViNDdiOC5zZXRDb250ZW50KGh0bWxfMGEyZGQ2ZWJjMzM2NGMzYTk2ZmFlNWI5ZDQ2YjMyYzYpOwogICAgICAgIAoKICAgICAgICBjaXJjbGVfbWFya2VyX2NmNzg4OTM4Mjk0YzQzMzZhMmFlZjQ0MjEyOGUxNTYyLmJpbmRQb3B1cChwb3B1cF9jN2NjNmFkYmJkMmE0MDZlOTY3Y2I2MDkyMzViNDdiOCkKICAgICAgICA7CgogICAgICAgIAogICAgCiAgICAKICAgICAgICAgICAgdmFyIGNpcmNsZV9tYXJrZXJfNjdiZWZhYjUyNGU3NGNhNjk1OGY0MWY5ZDE0MTZmYzkgPSBMLmNpcmNsZU1hcmtlcigKICAgICAgICAgICAgICAgIFs0My43MTI3NTExLCAtNzkuMzkwMTk3NV0sCiAgICAgICAgICAgICAgICB7ImJ1YmJsaW5nTW91c2VFdmVudHMiOiB0cnVlLCAiY29sb3IiOiAiI2ZmMDAwMCIsICJkYXNoQXJyYXkiOiBudWxsLCAiZGFzaE9mZnNldCI6IG51bGwsICJmaWxsIjogdHJ1ZSwgImZpbGxDb2xvciI6ICIjZmYwMDAwIiwgImZpbGxPcGFjaXR5IjogMC43LCAiZmlsbFJ1bGUiOiAiZXZlbm9kZCIsICJsaW5lQ2FwIjogInJvdW5kIiwgImxpbmVKb2luIjogInJvdW5kIiwgIm9wYWNpdHkiOiAxLjAsICJyYWRpdXMiOiA1LCAic3Ryb2tlIjogdHJ1ZSwgIndlaWdodCI6IDN9CiAgICAgICAgICAgICkuYWRkVG8obWFwX2QzM2NhZDMyNzVmZjQwYmJhOTMzYzI1NTcyMzMzZmY3KTsKICAgICAgICAKICAgIAogICAgICAgIHZhciBwb3B1cF85MDU1NDA5MzViODE0ODlkOGI5MWFlMWZkMzk1MThlMyA9IEwucG9wdXAoeyJtYXhXaWR0aCI6ICIxMDAlIn0pOwoKICAgICAgICAKICAgICAgICAgICAgdmFyIGh0bWxfZmQyODczZDY0MmFmNGU4Mzg0OWRmOWQ3ZTgzMzIyMGMgPSAkKGA8ZGl2IGlkPSJodG1sX2ZkMjg3M2Q2NDJhZjRlODM4NDlkZjlkN2U4MzMyMjBjIiBzdHlsZT0id2lkdGg6IDEwMC4wJTsgaGVpZ2h0OiAxMDAuMCU7Ij4gQ2x1c3RlciAwPC9kaXY+YClbMF07CiAgICAgICAgICAgIHBvcHVwXzkwNTU0MDkzNWI4MTQ4OWQ4YjkxYWUxZmQzOTUxOGUzLnNldENvbnRlbnQoaHRtbF9mZDI4NzNkNjQyYWY0ZTgzODQ5ZGY5ZDdlODMzMjIwYyk7CiAgICAgICAgCgogICAgICAgIGNpcmNsZV9tYXJrZXJfNjdiZWZhYjUyNGU3NGNhNjk1OGY0MWY5ZDE0MTZmYzkuYmluZFBvcHVwKHBvcHVwXzkwNTU0MDkzNWI4MTQ4OWQ4YjkxYWUxZmQzOTUxOGUzKQogICAgICAgIDsKCiAgICAgICAgCiAgICAKICAgIAogICAgICAgICAgICB2YXIgY2lyY2xlX21hcmtlcl9jZTlmOWY4NjJjZTU0YmE3OWQ1MjY5YjcwNTk3OWYwNCA9IEwuY2lyY2xlTWFya2VyKAogICAgICAgICAgICAgICAgWzQzLjY5Njk0NzYsIC03OS40MTEzMDcyMDAwMDAwMV0sCiAgICAgICAgICAgICAgICB7ImJ1YmJsaW5nTW91c2VFdmVudHMiOiB0cnVlLCAiY29sb3IiOiAiI2ZmMDAwMCIsICJkYXNoQXJyYXkiOiBudWxsLCAiZGFzaE9mZnNldCI6IG51bGwsICJmaWxsIjogdHJ1ZSwgImZpbGxDb2xvciI6ICIjZmYwMDAwIiwgImZpbGxPcGFjaXR5IjogMC43LCAiZmlsbFJ1bGUiOiAiZXZlbm9kZCIsICJsaW5lQ2FwIjogInJvdW5kIiwgImxpbmVKb2luIjogInJvdW5kIiwgIm9wYWNpdHkiOiAxLjAsICJyYWRpdXMiOiA1LCAic3Ryb2tlIjogdHJ1ZSwgIndlaWdodCI6IDN9CiAgICAgICAgICAgICkuYWRkVG8obWFwX2QzM2NhZDMyNzVmZjQwYmJhOTMzYzI1NTcyMzMzZmY3KTsKICAgICAgICAKICAgIAogICAgICAgIHZhciBwb3B1cF84NjIwNWRlMzlhZWE0ZmEwYTY0Y2MzM2EyMGNkZTg4NSA9IEwucG9wdXAoeyJtYXhXaWR0aCI6ICIxMDAlIn0pOwoKICAgICAgICAKICAgICAgICAgICAgdmFyIGh0bWxfNGQ3MWVhNzY5MmYyNDJkYjkyZmFkMzkxOTRiMDdiZTggPSAkKGA8ZGl2IGlkPSJodG1sXzRkNzFlYTc2OTJmMjQyZGI5MmZhZDM5MTk0YjA3YmU4IiBzdHlsZT0id2lkdGg6IDEwMC4wJTsgaGVpZ2h0OiAxMDAuMCU7Ij4gQ2x1c3RlciAwPC9kaXY+YClbMF07CiAgICAgICAgICAgIHBvcHVwXzg2MjA1ZGUzOWFlYTRmYTBhNjRjYzMzYTIwY2RlODg1LnNldENvbnRlbnQoaHRtbF80ZDcxZWE3NjkyZjI0MmRiOTJmYWQzOTE5NGIwN2JlOCk7CiAgICAgICAgCgogICAgICAgIGNpcmNsZV9tYXJrZXJfY2U5ZjlmODYyY2U1NGJhNzlkNTI2OWI3MDU5NzlmMDQuYmluZFBvcHVwKHBvcHVwXzg2MjA1ZGUzOWFlYTRmYTBhNjRjYzMzYTIwY2RlODg1KQogICAgICAgIDsKCiAgICAgICAgCiAgICAKICAgIAogICAgICAgICAgICB2YXIgY2lyY2xlX21hcmtlcl9hMzcwNGIwZDMxMDU0YzU3ODBkZjc3MTQzYzUwMmNmZiA9IEwuY2lyY2xlTWFya2VyKAogICAgICAgICAgICAgICAgWzQzLjY2MTYwODMsIC03OS40NjQ3NjMyOTk5OTk5OV0sCiAgICAgICAgICAgICAgICB7ImJ1YmJsaW5nTW91c2VFdmVudHMiOiB0cnVlLCAiY29sb3IiOiAiIzJhZGRkZCIsICJkYXNoQXJyYXkiOiBudWxsLCAiZGFzaE9mZnNldCI6IG51bGwsICJmaWxsIjogdHJ1ZSwgImZpbGxDb2xvciI6ICIjMmFkZGRkIiwgImZpbGxPcGFjaXR5IjogMC43LCAiZmlsbFJ1bGUiOiAiZXZlbm9kZCIsICJsaW5lQ2FwIjogInJvdW5kIiwgImxpbmVKb2luIjogInJvdW5kIiwgIm9wYWNpdHkiOiAxLjAsICJyYWRpdXMiOiA1LCAic3Ryb2tlIjogdHJ1ZSwgIndlaWdodCI6IDN9CiAgICAgICAgICAgICkuYWRkVG8obWFwX2QzM2NhZDMyNzVmZjQwYmJhOTMzYzI1NTcyMzMzZmY3KTsKICAgICAgICAKICAgIAogICAgICAgIHZhciBwb3B1cF9hZTk2ODUwN2NmNGM0MTkwOGQyMWU3ODJhYTZjNTUwZCA9IEwucG9wdXAoeyJtYXhXaWR0aCI6ICIxMDAlIn0pOwoKICAgICAgICAKICAgICAgICAgICAgdmFyIGh0bWxfNWJhYTIzNjNjNjNjNDk1ZTkxMmVjMGFhMGQyMzA1ZGIgPSAkKGA8ZGl2IGlkPSJodG1sXzViYWEyMzYzYzYzYzQ5NWU5MTJlYzBhYTBkMjMwNWRiIiBzdHlsZT0id2lkdGg6IDEwMC4wJTsgaGVpZ2h0OiAxMDAuMCU7Ij4gQ2x1c3RlciAyPC9kaXY+YClbMF07CiAgICAgICAgICAgIHBvcHVwX2FlOTY4NTA3Y2Y0YzQxOTA4ZDIxZTc4MmFhNmM1NTBkLnNldENvbnRlbnQoaHRtbF81YmFhMjM2M2M2M2M0OTVlOTEyZWMwYWEwZDIzMDVkYik7CiAgICAgICAgCgogICAgICAgIGNpcmNsZV9tYXJrZXJfYTM3MDRiMGQzMTA1NGM1NzgwZGY3NzE0M2M1MDJjZmYuYmluZFBvcHVwKHBvcHVwX2FlOTY4NTA3Y2Y0YzQxOTA4ZDIxZTc4MmFhNmM1NTBkKQogICAgICAgIDsKCiAgICAgICAgCiAgICAKICAgIAogICAgICAgICAgICB2YXIgY2lyY2xlX21hcmtlcl9iOWNlZTA3MmNjMTQ0ZTNhOWNjOWZkNTBmNzA4NTlmNiA9IEwuY2lyY2xlTWFya2VyKAogICAgICAgICAgICAgICAgWzQzLjcxNTM4MzQsIC03OS40MDU2Nzg0MDAwMDAwMV0sCiAgICAgICAgICAgICAgICB7ImJ1YmJsaW5nTW91c2VFdmVudHMiOiB0cnVlLCAiY29sb3IiOiAiI2ZmMDAwMCIsICJkYXNoQXJyYXkiOiBudWxsLCAiZGFzaE9mZnNldCI6IG51bGwsICJmaWxsIjogdHJ1ZSwgImZpbGxDb2xvciI6ICIjZmYwMDAwIiwgImZpbGxPcGFjaXR5IjogMC43LCAiZmlsbFJ1bGUiOiAiZXZlbm9kZCIsICJsaW5lQ2FwIjogInJvdW5kIiwgImxpbmVKb2luIjogInJvdW5kIiwgIm9wYWNpdHkiOiAxLjAsICJyYWRpdXMiOiA1LCAic3Ryb2tlIjogdHJ1ZSwgIndlaWdodCI6IDN9CiAgICAgICAgICAgICkuYWRkVG8obWFwX2QzM2NhZDMyNzVmZjQwYmJhOTMzYzI1NTcyMzMzZmY3KTsKICAgICAgICAKICAgIAogICAgICAgIHZhciBwb3B1cF81ZjdiOTEzZGEzMDQ0NGJjYmE5NmI1NzkyNDIzNWMwMiA9IEwucG9wdXAoeyJtYXhXaWR0aCI6ICIxMDAlIn0pOwoKICAgICAgICAKICAgICAgICAgICAgdmFyIGh0bWxfY2IzMzk0MjliZmUxNDZlZDkzNWM0NjE0N2YyOTViMTkgPSAkKGA8ZGl2IGlkPSJodG1sX2NiMzM5NDI5YmZlMTQ2ZWQ5MzVjNDYxNDdmMjk1YjE5IiBzdHlsZT0id2lkdGg6IDEwMC4wJTsgaGVpZ2h0OiAxMDAuMCU7Ij4gQ2x1c3RlciAwPC9kaXY+YClbMF07CiAgICAgICAgICAgIHBvcHVwXzVmN2I5MTNkYTMwNDQ0YmNiYTk2YjU3OTI0MjM1YzAyLnNldENvbnRlbnQoaHRtbF9jYjMzOTQyOWJmZTE0NmVkOTM1YzQ2MTQ3ZjI5NWIxOSk7CiAgICAgICAgCgogICAgICAgIGNpcmNsZV9tYXJrZXJfYjljZWUwNzJjYzE0NGUzYTljYzlmZDUwZjcwODU5ZjYuYmluZFBvcHVwKHBvcHVwXzVmN2I5MTNkYTMwNDQ0YmNiYTk2YjU3OTI0MjM1YzAyKQogICAgICAgIDsKCiAgICAgICAgCiAgICAKICAgIAogICAgICAgICAgICB2YXIgY2lyY2xlX21hcmtlcl83NDVkOGE1NWRhMGQ0NDdlYWVkZjhmMTcyOGM4NjE5NSA9IEwuY2lyY2xlTWFya2VyKAogICAgICAgICAgICAgICAgWzQzLjY3MjcwOTcsIC03OS40MDU2Nzg0MDAwMDAwMV0sCiAgICAgICAgICAgICAgICB7ImJ1YmJsaW5nTW91c2VFdmVudHMiOiB0cnVlLCAiY29sb3IiOiAiIzgwMDBmZiIsICJkYXNoQXJyYXkiOiBudWxsLCAiZGFzaE9mZnNldCI6IG51bGwsICJmaWxsIjogdHJ1ZSwgImZpbGxDb2xvciI6ICIjODAwMGZmIiwgImZpbGxPcGFjaXR5IjogMC43LCAiZmlsbFJ1bGUiOiAiZXZlbm9kZCIsICJsaW5lQ2FwIjogInJvdW5kIiwgImxpbmVKb2luIjogInJvdW5kIiwgIm9wYWNpdHkiOiAxLjAsICJyYWRpdXMiOiA1LCAic3Ryb2tlIjogdHJ1ZSwgIndlaWdodCI6IDN9CiAgICAgICAgICAgICkuYWRkVG8obWFwX2QzM2NhZDMyNzVmZjQwYmJhOTMzYzI1NTcyMzMzZmY3KTsKICAgICAgICAKICAgIAogICAgICAgIHZhciBwb3B1cF80Y2JmZDk0ZWMzMDY0MmJjYWNhY2RiZGI1ZTZmMzI3NyA9IEwucG9wdXAoeyJtYXhXaWR0aCI6ICIxMDAlIn0pOwoKICAgICAgICAKICAgICAgICAgICAgdmFyIGh0bWxfOGFlNjRlMDA5YTZjNDA5MjhlNmE4ZDczNGY2NDRmMTQgPSAkKGA8ZGl2IGlkPSJodG1sXzhhZTY0ZTAwOWE2YzQwOTI4ZTZhOGQ3MzRmNjQ0ZjE0IiBzdHlsZT0id2lkdGg6IDEwMC4wJTsgaGVpZ2h0OiAxMDAuMCU7Ij4gQ2x1c3RlciAxPC9kaXY+YClbMF07CiAgICAgICAgICAgIHBvcHVwXzRjYmZkOTRlYzMwNjQyYmNhY2FjZGJkYjVlNmYzMjc3LnNldENvbnRlbnQoaHRtbF84YWU2NGUwMDlhNmM0MDkyOGU2YThkNzM0ZjY0NGYxNCk7CiAgICAgICAgCgogICAgICAgIGNpcmNsZV9tYXJrZXJfNzQ1ZDhhNTVkYTBkNDQ3ZWFlZGY4ZjE3MjhjODYxOTUuYmluZFBvcHVwKHBvcHVwXzRjYmZkOTRlYzMwNjQyYmNhY2FjZGJkYjVlNmYzMjc3KQogICAgICAgIDsKCiAgICAgICAgCiAgICAKICAgIAogICAgICAgICAgICB2YXIgY2lyY2xlX21hcmtlcl9iZDRlZjI1OTU4YWQ0NTIyOTU3YWY0ODBkMDBlMGExZCA9IEwuY2lyY2xlTWFya2VyKAogICAgICAgICAgICAgICAgWzQzLjY0ODk1OTcsIC03OS40NTYzMjVdLAogICAgICAgICAgICAgICAgeyJidWJibGluZ01vdXNlRXZlbnRzIjogdHJ1ZSwgImNvbG9yIjogIiMyYWRkZGQiLCAiZGFzaEFycmF5IjogbnVsbCwgImRhc2hPZmZzZXQiOiBudWxsLCAiZmlsbCI6IHRydWUsICJmaWxsQ29sb3IiOiAiIzJhZGRkZCIsICJmaWxsT3BhY2l0eSI6IDAuNywgImZpbGxSdWxlIjogImV2ZW5vZGQiLCAibGluZUNhcCI6ICJyb3VuZCIsICJsaW5lSm9pbiI6ICJyb3VuZCIsICJvcGFjaXR5IjogMS4wLCAicmFkaXVzIjogNSwgInN0cm9rZSI6IHRydWUsICJ3ZWlnaHQiOiAzfQogICAgICAgICAgICApLmFkZFRvKG1hcF9kMzNjYWQzMjc1ZmY0MGJiYTkzM2MyNTU3MjMzM2ZmNyk7CiAgICAgICAgCiAgICAKICAgICAgICB2YXIgcG9wdXBfZTZiMmZkMDJjODVlNDE5MWEzZDM5YjE2NzIwYTMwMWYgPSBMLnBvcHVwKHsibWF4V2lkdGgiOiAiMTAwJSJ9KTsKCiAgICAgICAgCiAgICAgICAgICAgIHZhciBodG1sX2Y5N2IwYmNkYTFkNjRjMTJiMjM5NDY5NDYzOTA4MzNlID0gJChgPGRpdiBpZD0iaHRtbF9mOTdiMGJjZGExZDY0YzEyYjIzOTQ2OTQ2MzkwODMzZSIgc3R5bGU9IndpZHRoOiAxMDAuMCU7IGhlaWdodDogMTAwLjAlOyI+IENsdXN0ZXIgMjwvZGl2PmApWzBdOwogICAgICAgICAgICBwb3B1cF9lNmIyZmQwMmM4NWU0MTkxYTNkMzliMTY3MjBhMzAxZi5zZXRDb250ZW50KGh0bWxfZjk3YjBiY2RhMWQ2NGMxMmIyMzk0Njk0NjM5MDgzM2UpOwogICAgICAgIAoKICAgICAgICBjaXJjbGVfbWFya2VyX2JkNGVmMjU5NThhZDQ1MjI5NTdhZjQ4MGQwMGUwYTFkLmJpbmRQb3B1cChwb3B1cF9lNmIyZmQwMmM4NWU0MTkxYTNkMzliMTY3MjBhMzAxZikKICAgICAgICA7CgogICAgICAgIAogICAgCiAgICAKICAgICAgICAgICAgdmFyIGNpcmNsZV9tYXJrZXJfMDAxZGY5ZGI5MWMyNGI0MTk1OTgwNGI5ZGExNDMyMzUgPSBMLmNpcmNsZU1hcmtlcigKICAgICAgICAgICAgICAgIFs0My43MDQzMjQ0LCAtNzkuMzg4NzkwMV0sCiAgICAgICAgICAgICAgICB7ImJ1YmJsaW5nTW91c2VFdmVudHMiOiB0cnVlLCAiY29sb3IiOiAiI2ZmMDAwMCIsICJkYXNoQXJyYXkiOiBudWxsLCAiZGFzaE9mZnNldCI6IG51bGwsICJmaWxsIjogdHJ1ZSwgImZpbGxDb2xvciI6ICIjZmYwMDAwIiwgImZpbGxPcGFjaXR5IjogMC43LCAiZmlsbFJ1bGUiOiAiZXZlbm9kZCIsICJsaW5lQ2FwIjogInJvdW5kIiwgImxpbmVKb2luIjogInJvdW5kIiwgIm9wYWNpdHkiOiAxLjAsICJyYWRpdXMiOiA1LCAic3Ryb2tlIjogdHJ1ZSwgIndlaWdodCI6IDN9CiAgICAgICAgICAgICkuYWRkVG8obWFwX2QzM2NhZDMyNzVmZjQwYmJhOTMzYzI1NTcyMzMzZmY3KTsKICAgICAgICAKICAgIAogICAgICAgIHZhciBwb3B1cF8xMjY5OWUwNjQ4Yjg0YjIwYjM1YTE3Y2NhZTUxMmFhOSA9IEwucG9wdXAoeyJtYXhXaWR0aCI6ICIxMDAlIn0pOwoKICAgICAgICAKICAgICAgICAgICAgdmFyIGh0bWxfMzc4NDZjZmY5Zjg5NGZhODkzNzlkNGQ1MTk0ZDk2NGEgPSAkKGA8ZGl2IGlkPSJodG1sXzM3ODQ2Y2ZmOWY4OTRmYTg5Mzc5ZDRkNTE5NGQ5NjRhIiBzdHlsZT0id2lkdGg6IDEwMC4wJTsgaGVpZ2h0OiAxMDAuMCU7Ij4gQ2x1c3RlciAwPC9kaXY+YClbMF07CiAgICAgICAgICAgIHBvcHVwXzEyNjk5ZTA2NDhiODRiMjBiMzVhMTdjY2FlNTEyYWE5LnNldENvbnRlbnQoaHRtbF8zNzg0NmNmZjlmODk0ZmE4OTM3OWQ0ZDUxOTRkOTY0YSk7CiAgICAgICAgCgogICAgICAgIGNpcmNsZV9tYXJrZXJfMDAxZGY5ZGI5MWMyNGI0MTk1OTgwNGI5ZGExNDMyMzUuYmluZFBvcHVwKHBvcHVwXzEyNjk5ZTA2NDhiODRiMjBiMzVhMTdjY2FlNTEyYWE5KQogICAgICAgIDsKCiAgICAgICAgCiAgICAKICAgIAogICAgICAgICAgICB2YXIgY2lyY2xlX21hcmtlcl9lYTc2YWNmZDkyMWY0YTk0ODg4MGNiMDBlNDcxNjc3YiA9IEwuY2lyY2xlTWFya2VyKAogICAgICAgICAgICAgICAgWzQzLjY2MjY5NTYsIC03OS40MDAwNDkzXSwKICAgICAgICAgICAgICAgIHsiYnViYmxpbmdNb3VzZUV2ZW50cyI6IHRydWUsICJjb2xvciI6ICIjODAwMGZmIiwgImRhc2hBcnJheSI6IG51bGwsICJkYXNoT2Zmc2V0IjogbnVsbCwgImZpbGwiOiB0cnVlLCAiZmlsbENvbG9yIjogIiM4MDAwZmYiLCAiZmlsbE9wYWNpdHkiOiAwLjcsICJmaWxsUnVsZSI6ICJldmVub2RkIiwgImxpbmVDYXAiOiAicm91bmQiLCAibGluZUpvaW4iOiAicm91bmQiLCAib3BhY2l0eSI6IDEuMCwgInJhZGl1cyI6IDUsICJzdHJva2UiOiB0cnVlLCAid2VpZ2h0IjogM30KICAgICAgICAgICAgKS5hZGRUbyhtYXBfZDMzY2FkMzI3NWZmNDBiYmE5MzNjMjU1NzIzMzNmZjcpOwogICAgICAgIAogICAgCiAgICAgICAgdmFyIHBvcHVwX2VjN2IzYjkzMTViMzRjNWI5MGFmYjNjZThkY2FlZThmID0gTC5wb3B1cCh7Im1heFdpZHRoIjogIjEwMCUifSk7CgogICAgICAgIAogICAgICAgICAgICB2YXIgaHRtbF9hZTM2OGQxMTZmMGE0OTI2YThjNzhjOTEzYmI5MmI2YyA9ICQoYDxkaXYgaWQ9Imh0bWxfYWUzNjhkMTE2ZjBhNDkyNmE4Yzc4YzkxM2JiOTJiNmMiIHN0eWxlPSJ3aWR0aDogMTAwLjAlOyBoZWlnaHQ6IDEwMC4wJTsiPiBDbHVzdGVyIDE8L2Rpdj5gKVswXTsKICAgICAgICAgICAgcG9wdXBfZWM3YjNiOTMxNWIzNGM1YjkwYWZiM2NlOGRjYWVlOGYuc2V0Q29udGVudChodG1sX2FlMzY4ZDExNmYwYTQ5MjZhOGM3OGM5MTNiYjkyYjZjKTsKICAgICAgICAKCiAgICAgICAgY2lyY2xlX21hcmtlcl9lYTc2YWNmZDkyMWY0YTk0ODg4MGNiMDBlNDcxNjc3Yi5iaW5kUG9wdXAocG9wdXBfZWM3YjNiOTMxNWIzNGM1YjkwYWZiM2NlOGRjYWVlOGYpCiAgICAgICAgOwoKICAgICAgICAKICAgIAogICAgCiAgICAgICAgICAgIHZhciBjaXJjbGVfbWFya2VyXzFjNjgyMDc3ZGY1MDRlYTNiZDE2ZWYwZGY0OTNiNjY5ID0gTC5jaXJjbGVNYXJrZXIoCiAgICAgICAgICAgICAgICBbNDMuNjUxNTcwNiwgLTc5LjQ4NDQ0OTldLAogICAgICAgICAgICAgICAgeyJidWJibGluZ01vdXNlRXZlbnRzIjogdHJ1ZSwgImNvbG9yIjogIiMyYWRkZGQiLCAiZGFzaEFycmF5IjogbnVsbCwgImRhc2hPZmZzZXQiOiBudWxsLCAiZmlsbCI6IHRydWUsICJmaWxsQ29sb3IiOiAiIzJhZGRkZCIsICJmaWxsT3BhY2l0eSI6IDAuNywgImZpbGxSdWxlIjogImV2ZW5vZGQiLCAibGluZUNhcCI6ICJyb3VuZCIsICJsaW5lSm9pbiI6ICJyb3VuZCIsICJvcGFjaXR5IjogMS4wLCAicmFkaXVzIjogNSwgInN0cm9rZSI6IHRydWUsICJ3ZWlnaHQiOiAzfQogICAgICAgICAgICApLmFkZFRvKG1hcF9kMzNjYWQzMjc1ZmY0MGJiYTkzM2MyNTU3MjMzM2ZmNyk7CiAgICAgICAgCiAgICAKICAgICAgICB2YXIgcG9wdXBfYTRjMTU1MDI3MDljNGZjMmE3ODM0MWE3M2Q0NDM5ZmIgPSBMLnBvcHVwKHsibWF4V2lkdGgiOiAiMTAwJSJ9KTsKCiAgICAgICAgCiAgICAgICAgICAgIHZhciBodG1sXzMxY2E4Mjk3ZGI2MDQ2OTU5ZmExNWYzMDBjNmRiNjJlID0gJChgPGRpdiBpZD0iaHRtbF8zMWNhODI5N2RiNjA0Njk1OWZhMTVmMzAwYzZkYjYyZSIgc3R5bGU9IndpZHRoOiAxMDAuMCU7IGhlaWdodDogMTAwLjAlOyI+IENsdXN0ZXIgMjwvZGl2PmApWzBdOwogICAgICAgICAgICBwb3B1cF9hNGMxNTUwMjcwOWM0ZmMyYTc4MzQxYTczZDQ0MzlmYi5zZXRDb250ZW50KGh0bWxfMzFjYTgyOTdkYjYwNDY5NTlmYTE1ZjMwMGM2ZGI2MmUpOwogICAgICAgIAoKICAgICAgICBjaXJjbGVfbWFya2VyXzFjNjgyMDc3ZGY1MDRlYTNiZDE2ZWYwZGY0OTNiNjY5LmJpbmRQb3B1cChwb3B1cF9hNGMxNTUwMjcwOWM0ZmMyYTc4MzQxYTczZDQ0MzlmYikKICAgICAgICA7CgogICAgICAgIAogICAgCiAgICAKICAgICAgICAgICAgdmFyIGNpcmNsZV9tYXJrZXJfOWE1NGIzZGI1YzQwNDE2YmJjODljYWNkYTc0NzYzMTkgPSBMLmNpcmNsZU1hcmtlcigKICAgICAgICAgICAgICAgIFs0My42ODk1NzQzLCAtNzkuMzgzMTU5OTAwMDAwMDFdLAogICAgICAgICAgICAgICAgeyJidWJibGluZ01vdXNlRXZlbnRzIjogdHJ1ZSwgImNvbG9yIjogIiNmZjAwMDAiLCAiZGFzaEFycmF5IjogbnVsbCwgImRhc2hPZmZzZXQiOiBudWxsLCAiZmlsbCI6IHRydWUsICJmaWxsQ29sb3IiOiAiI2ZmMDAwMCIsICJmaWxsT3BhY2l0eSI6IDAuNywgImZpbGxSdWxlIjogImV2ZW5vZGQiLCAibGluZUNhcCI6ICJyb3VuZCIsICJsaW5lSm9pbiI6ICJyb3VuZCIsICJvcGFjaXR5IjogMS4wLCAicmFkaXVzIjogNSwgInN0cm9rZSI6IHRydWUsICJ3ZWlnaHQiOiAzfQogICAgICAgICAgICApLmFkZFRvKG1hcF9kMzNjYWQzMjc1ZmY0MGJiYTkzM2MyNTU3MjMzM2ZmNyk7CiAgICAgICAgCiAgICAKICAgICAgICB2YXIgcG9wdXBfYWQzNjNkNDE1YTZjNDAwN2JiYzdmOTkzODc5YzUxNWUgPSBMLnBvcHVwKHsibWF4V2lkdGgiOiAiMTAwJSJ9KTsKCiAgICAgICAgCiAgICAgICAgICAgIHZhciBodG1sXzM4NDM2ZjNiZDFhMzQzMjI5MzY2ZWE3MTE4NDMyOTE3ID0gJChgPGRpdiBpZD0iaHRtbF8zODQzNmYzYmQxYTM0MzIyOTM2NmVhNzExODQzMjkxNyIgc3R5bGU9IndpZHRoOiAxMDAuMCU7IGhlaWdodDogMTAwLjAlOyI+IENsdXN0ZXIgMDwvZGl2PmApWzBdOwogICAgICAgICAgICBwb3B1cF9hZDM2M2Q0MTVhNmM0MDA3YmJjN2Y5OTM4NzljNTE1ZS5zZXRDb250ZW50KGh0bWxfMzg0MzZmM2JkMWEzNDMyMjkzNjZlYTcxMTg0MzI5MTcpOwogICAgICAgIAoKICAgICAgICBjaXJjbGVfbWFya2VyXzlhNTRiM2RiNWM0MDQxNmJiYzg5Y2FjZGE3NDc2MzE5LmJpbmRQb3B1cChwb3B1cF9hZDM2M2Q0MTVhNmM0MDA3YmJjN2Y5OTM4NzljNTE1ZSkKICAgICAgICA7CgogICAgICAgIAogICAgCiAgICAKICAgICAgICAgICAgdmFyIGNpcmNsZV9tYXJrZXJfMmQ3ZTYxMzE0YjczNGVmZWJkZGIyODBkMWMyM2I3N2MgPSBMLmNpcmNsZU1hcmtlcigKICAgICAgICAgICAgICAgIFs0My42NTMyMDU3LCAtNzkuNDAwMDQ5M10sCiAgICAgICAgICAgICAgICB7ImJ1YmJsaW5nTW91c2VFdmVudHMiOiB0cnVlLCAiY29sb3IiOiAiIzgwMDBmZiIsICJkYXNoQXJyYXkiOiBudWxsLCAiZGFzaE9mZnNldCI6IG51bGwsICJmaWxsIjogdHJ1ZSwgImZpbGxDb2xvciI6ICIjODAwMGZmIiwgImZpbGxPcGFjaXR5IjogMC43LCAiZmlsbFJ1bGUiOiAiZXZlbm9kZCIsICJsaW5lQ2FwIjogInJvdW5kIiwgImxpbmVKb2luIjogInJvdW5kIiwgIm9wYWNpdHkiOiAxLjAsICJyYWRpdXMiOiA1LCAic3Ryb2tlIjogdHJ1ZSwgIndlaWdodCI6IDN9CiAgICAgICAgICAgICkuYWRkVG8obWFwX2QzM2NhZDMyNzVmZjQwYmJhOTMzYzI1NTcyMzMzZmY3KTsKICAgICAgICAKICAgIAogICAgICAgIHZhciBwb3B1cF8yZTYyYjk1M2NhNDg0MjE1YjdiOTI2NTBiYWU2YTk1ZiA9IEwucG9wdXAoeyJtYXhXaWR0aCI6ICIxMDAlIn0pOwoKICAgICAgICAKICAgICAgICAgICAgdmFyIGh0bWxfMjc0ZGQzNmI4ZDg0NGY1Y2EzOTc0Y2Y3ODE1ZmJhNjIgPSAkKGA8ZGl2IGlkPSJodG1sXzI3NGRkMzZiOGQ4NDRmNWNhMzk3NGNmNzgxNWZiYTYyIiBzdHlsZT0id2lkdGg6IDEwMC4wJTsgaGVpZ2h0OiAxMDAuMCU7Ij4gQ2x1c3RlciAxPC9kaXY+YClbMF07CiAgICAgICAgICAgIHBvcHVwXzJlNjJiOTUzY2E0ODQyMTViN2I5MjY1MGJhZTZhOTVmLnNldENvbnRlbnQoaHRtbF8yNzRkZDM2YjhkODQ0ZjVjYTM5NzRjZjc4MTVmYmE2Mik7CiAgICAgICAgCgogICAgICAgIGNpcmNsZV9tYXJrZXJfMmQ3ZTYxMzE0YjczNGVmZWJkZGIyODBkMWMyM2I3N2MuYmluZFBvcHVwKHBvcHVwXzJlNjJiOTUzY2E0ODQyMTViN2I5MjY1MGJhZTZhOTVmKQogICAgICAgIDsKCiAgICAgICAgCiAgICAKICAgIAogICAgICAgICAgICB2YXIgY2lyY2xlX21hcmtlcl9hNDQwMzgyYzVjNjM0YzExYWFlMGFmZWVjZDM0ZTcxZCA9IEwuY2lyY2xlTWFya2VyKAogICAgICAgICAgICAgICAgWzQzLjY4NjQxMjI5OTk5OTk5LCAtNzkuNDAwMDQ5M10sCiAgICAgICAgICAgICAgICB7ImJ1YmJsaW5nTW91c2VFdmVudHMiOiB0cnVlLCAiY29sb3IiOiAiI2ZmMDAwMCIsICJkYXNoQXJyYXkiOiBudWxsLCAiZGFzaE9mZnNldCI6IG51bGwsICJmaWxsIjogdHJ1ZSwgImZpbGxDb2xvciI6ICIjZmYwMDAwIiwgImZpbGxPcGFjaXR5IjogMC43LCAiZmlsbFJ1bGUiOiAiZXZlbm9kZCIsICJsaW5lQ2FwIjogInJvdW5kIiwgImxpbmVKb2luIjogInJvdW5kIiwgIm9wYWNpdHkiOiAxLjAsICJyYWRpdXMiOiA1LCAic3Ryb2tlIjogdHJ1ZSwgIndlaWdodCI6IDN9CiAgICAgICAgICAgICkuYWRkVG8obWFwX2QzM2NhZDMyNzVmZjQwYmJhOTMzYzI1NTcyMzMzZmY3KTsKICAgICAgICAKICAgIAogICAgICAgIHZhciBwb3B1cF8zMzM0MGYxMmI5YjA0ZjczYTI5MTA5ZDE2OWJmZDVlYyA9IEwucG9wdXAoeyJtYXhXaWR0aCI6ICIxMDAlIn0pOwoKICAgICAgICAKICAgICAgICAgICAgdmFyIGh0bWxfNTFlYjRlYjMxZjEwNDEzMTkxNGM0ZmQ5MGI4MzE5ZjcgPSAkKGA8ZGl2IGlkPSJodG1sXzUxZWI0ZWIzMWYxMDQxMzE5MTRjNGZkOTBiODMxOWY3IiBzdHlsZT0id2lkdGg6IDEwMC4wJTsgaGVpZ2h0OiAxMDAuMCU7Ij4gQ2x1c3RlciAwPC9kaXY+YClbMF07CiAgICAgICAgICAgIHBvcHVwXzMzMzQwZjEyYjliMDRmNzNhMjkxMDlkMTY5YmZkNWVjLnNldENvbnRlbnQoaHRtbF81MWViNGViMzFmMTA0MTMxOTE0YzRmZDkwYjgzMTlmNyk7CiAgICAgICAgCgogICAgICAgIGNpcmNsZV9tYXJrZXJfYTQ0MDM4MmM1YzYzNGMxMWFhZTBhZmVlY2QzNGU3MWQuYmluZFBvcHVwKHBvcHVwXzMzMzQwZjEyYjliMDRmNzNhMjkxMDlkMTY5YmZkNWVjKQogICAgICAgIDsKCiAgICAgICAgCiAgICAKICAgIAogICAgICAgICAgICB2YXIgY2lyY2xlX21hcmtlcl80NTIzYjgzZjBjMjA0NGVhOTkyZDg5MDAxMzhiNDg0OSA9IEwuY2lyY2xlTWFya2VyKAogICAgICAgICAgICAgICAgWzQzLjYyODk0NjcsIC03OS4zOTQ0MTk5XSwKICAgICAgICAgICAgICAgIHsiYnViYmxpbmdNb3VzZUV2ZW50cyI6IHRydWUsICJjb2xvciI6ICIjODAwMGZmIiwgImRhc2hBcnJheSI6IG51bGwsICJkYXNoT2Zmc2V0IjogbnVsbCwgImZpbGwiOiB0cnVlLCAiZmlsbENvbG9yIjogIiM4MDAwZmYiLCAiZmlsbE9wYWNpdHkiOiAwLjcsICJmaWxsUnVsZSI6ICJldmVub2RkIiwgImxpbmVDYXAiOiAicm91bmQiLCAibGluZUpvaW4iOiAicm91bmQiLCAib3BhY2l0eSI6IDEuMCwgInJhZGl1cyI6IDUsICJzdHJva2UiOiB0cnVlLCAid2VpZ2h0IjogM30KICAgICAgICAgICAgKS5hZGRUbyhtYXBfZDMzY2FkMzI3NWZmNDBiYmE5MzNjMjU1NzIzMzNmZjcpOwogICAgICAgIAogICAgCiAgICAgICAgdmFyIHBvcHVwX2JkNDE4ODUxYjY4OTQ4YjM4YTc0OGYzZTk1ZTU0Y2FhID0gTC5wb3B1cCh7Im1heFdpZHRoIjogIjEwMCUifSk7CgogICAgICAgIAogICAgICAgICAgICB2YXIgaHRtbF9iN2RmNjIzNjI2MDQ0ZGEwOGVkYTE1MTQ1MWIwOWQzYyA9ICQoYDxkaXYgaWQ9Imh0bWxfYjdkZjYyMzYyNjA0NGRhMDhlZGExNTE0NTFiMDlkM2MiIHN0eWxlPSJ3aWR0aDogMTAwLjAlOyBoZWlnaHQ6IDEwMC4wJTsiPiBDbHVzdGVyIDE8L2Rpdj5gKVswXTsKICAgICAgICAgICAgcG9wdXBfYmQ0MTg4NTFiNjg5NDhiMzhhNzQ4ZjNlOTVlNTRjYWEuc2V0Q29udGVudChodG1sX2I3ZGY2MjM2MjYwNDRkYTA4ZWRhMTUxNDUxYjA5ZDNjKTsKICAgICAgICAKCiAgICAgICAgY2lyY2xlX21hcmtlcl80NTIzYjgzZjBjMjA0NGVhOTkyZDg5MDAxMzhiNDg0OS5iaW5kUG9wdXAocG9wdXBfYmQ0MTg4NTFiNjg5NDhiMzhhNzQ4ZjNlOTVlNTRjYWEpCiAgICAgICAgOwoKICAgICAgICAKICAgIAogICAgCiAgICAgICAgICAgIHZhciBjaXJjbGVfbWFya2VyXzE3YmJkNDMyOTJhZTQzMTRiNTY3MjA0YzQ5N2I4NzY3ID0gTC5jaXJjbGVNYXJrZXIoCiAgICAgICAgICAgICAgICBbNDMuNjc5NTYyNiwgLTc5LjM3NzUyOTQwMDAwMDAxXSwKICAgICAgICAgICAgICAgIHsiYnViYmxpbmdNb3VzZUV2ZW50cyI6IHRydWUsICJjb2xvciI6ICIjODAwMGZmIiwgImRhc2hBcnJheSI6IG51bGwsICJkYXNoT2Zmc2V0IjogbnVsbCwgImZpbGwiOiB0cnVlLCAiZmlsbENvbG9yIjogIiM4MDAwZmYiLCAiZmlsbE9wYWNpdHkiOiAwLjcsICJmaWxsUnVsZSI6ICJldmVub2RkIiwgImxpbmVDYXAiOiAicm91bmQiLCAibGluZUpvaW4iOiAicm91bmQiLCAib3BhY2l0eSI6IDEuMCwgInJhZGl1cyI6IDUsICJzdHJva2UiOiB0cnVlLCAid2VpZ2h0IjogM30KICAgICAgICAgICAgKS5hZGRUbyhtYXBfZDMzY2FkMzI3NWZmNDBiYmE5MzNjMjU1NzIzMzNmZjcpOwogICAgICAgIAogICAgCiAgICAgICAgdmFyIHBvcHVwXzRiYzZmYTM3MDNlYjQ5OGJhMDg0N2JkNjRkY2M2YTE0ID0gTC5wb3B1cCh7Im1heFdpZHRoIjogIjEwMCUifSk7CgogICAgICAgIAogICAgICAgICAgICB2YXIgaHRtbF9lNmNiMzM4Zjk3NWM0MWU1YTY3YTMzNTlhODY1ODVjZiA9ICQoYDxkaXYgaWQ9Imh0bWxfZTZjYjMzOGY5NzVjNDFlNWE2N2EzMzU5YTg2NTg1Y2YiIHN0eWxlPSJ3aWR0aDogMTAwLjAlOyBoZWlnaHQ6IDEwMC4wJTsiPiBDbHVzdGVyIDE8L2Rpdj5gKVswXTsKICAgICAgICAgICAgcG9wdXBfNGJjNmZhMzcwM2ViNDk4YmEwODQ3YmQ2NGRjYzZhMTQuc2V0Q29udGVudChodG1sX2U2Y2IzMzhmOTc1YzQxZTVhNjdhMzM1OWE4NjU4NWNmKTsKICAgICAgICAKCiAgICAgICAgY2lyY2xlX21hcmtlcl8xN2JiZDQzMjkyYWU0MzE0YjU2NzIwNGM0OTdiODc2Ny5iaW5kUG9wdXAocG9wdXBfNGJjNmZhMzcwM2ViNDk4YmEwODQ3YmQ2NGRjYzZhMTQpCiAgICAgICAgOwoKICAgICAgICAKICAgIAogICAgCiAgICAgICAgICAgIHZhciBjaXJjbGVfbWFya2VyX2E0NmJhYTQyZDhmNjQ0NmY5NjAxNmVhZDBkMTkzZDlhID0gTC5jaXJjbGVNYXJrZXIoCiAgICAgICAgICAgICAgICBbNDMuNjQ2NDM1MiwgLTc5LjM3NDg0NTk5OTk5OTk5XSwKICAgICAgICAgICAgICAgIHsiYnViYmxpbmdNb3VzZUV2ZW50cyI6IHRydWUsICJjb2xvciI6ICIjODAwMGZmIiwgImRhc2hBcnJheSI6IG51bGwsICJkYXNoT2Zmc2V0IjogbnVsbCwgImZpbGwiOiB0cnVlLCAiZmlsbENvbG9yIjogIiM4MDAwZmYiLCAiZmlsbE9wYWNpdHkiOiAwLjcsICJmaWxsUnVsZSI6ICJldmVub2RkIiwgImxpbmVDYXAiOiAicm91bmQiLCAibGluZUpvaW4iOiAicm91bmQiLCAib3BhY2l0eSI6IDEuMCwgInJhZGl1cyI6IDUsICJzdHJva2UiOiB0cnVlLCAid2VpZ2h0IjogM30KICAgICAgICAgICAgKS5hZGRUbyhtYXBfZDMzY2FkMzI3NWZmNDBiYmE5MzNjMjU1NzIzMzNmZjcpOwogICAgICAgIAogICAgCiAgICAgICAgdmFyIHBvcHVwXzE0NWQ4Njc2NTM2NTRiNzY4NGU4MjBmZDRlMzFlNjBmID0gTC5wb3B1cCh7Im1heFdpZHRoIjogIjEwMCUifSk7CgogICAgICAgIAogICAgICAgICAgICB2YXIgaHRtbF84ODVjMDFjOGQyNDY0MGM0YmYyODAxZmFlYzI0YzM0OCA9ICQoYDxkaXYgaWQ9Imh0bWxfODg1YzAxYzhkMjQ2NDBjNGJmMjgwMWZhZWMyNGMzNDgiIHN0eWxlPSJ3aWR0aDogMTAwLjAlOyBoZWlnaHQ6IDEwMC4wJTsiPiBDbHVzdGVyIDE8L2Rpdj5gKVswXTsKICAgICAgICAgICAgcG9wdXBfMTQ1ZDg2NzY1MzY1NGI3Njg0ZTgyMGZkNGUzMWU2MGYuc2V0Q29udGVudChodG1sXzg4NWMwMWM4ZDI0NjQwYzRiZjI4MDFmYWVjMjRjMzQ4KTsKICAgICAgICAKCiAgICAgICAgY2lyY2xlX21hcmtlcl9hNDZiYWE0MmQ4ZjY0NDZmOTYwMTZlYWQwZDE5M2Q5YS5iaW5kUG9wdXAocG9wdXBfMTQ1ZDg2NzY1MzY1NGI3Njg0ZTgyMGZkNGUzMWU2MGYpCiAgICAgICAgOwoKICAgICAgICAKICAgIAogICAgCiAgICAgICAgICAgIHZhciBjaXJjbGVfbWFya2VyX2E4ZjYwMjU0OGY0ZjQ1MGQ4YjMzODA5ODQ3NjQ3ZjVhID0gTC5jaXJjbGVNYXJrZXIoCiAgICAgICAgICAgICAgICBbNDMuNjY3OTY3LCAtNzkuMzY3Njc1M10sCiAgICAgICAgICAgICAgICB7ImJ1YmJsaW5nTW91c2VFdmVudHMiOiB0cnVlLCAiY29sb3IiOiAiIzgwMDBmZiIsICJkYXNoQXJyYXkiOiBudWxsLCAiZGFzaE9mZnNldCI6IG51bGwsICJmaWxsIjogdHJ1ZSwgImZpbGxDb2xvciI6ICIjODAwMGZmIiwgImZpbGxPcGFjaXR5IjogMC43LCAiZmlsbFJ1bGUiOiAiZXZlbm9kZCIsICJsaW5lQ2FwIjogInJvdW5kIiwgImxpbmVKb2luIjogInJvdW5kIiwgIm9wYWNpdHkiOiAxLjAsICJyYWRpdXMiOiA1LCAic3Ryb2tlIjogdHJ1ZSwgIndlaWdodCI6IDN9CiAgICAgICAgICAgICkuYWRkVG8obWFwX2QzM2NhZDMyNzVmZjQwYmJhOTMzYzI1NTcyMzMzZmY3KTsKICAgICAgICAKICAgIAogICAgICAgIHZhciBwb3B1cF9hMDBhN2Q0M2JhNmY0MDNkOTU3NDAwYThiYzFlZGU3MiA9IEwucG9wdXAoeyJtYXhXaWR0aCI6ICIxMDAlIn0pOwoKICAgICAgICAKICAgICAgICAgICAgdmFyIGh0bWxfMjIyZjQ3NjM0YzhhNGE2ZWFmMzQzNTgzNjQ3OWQzOTYgPSAkKGA8ZGl2IGlkPSJodG1sXzIyMmY0NzYzNGM4YTRhNmVhZjM0MzU4MzY0NzlkMzk2IiBzdHlsZT0id2lkdGg6IDEwMC4wJTsgaGVpZ2h0OiAxMDAuMCU7Ij4gQ2x1c3RlciAxPC9kaXY+YClbMF07CiAgICAgICAgICAgIHBvcHVwX2EwMGE3ZDQzYmE2ZjQwM2Q5NTc0MDBhOGJjMWVkZTcyLnNldENvbnRlbnQoaHRtbF8yMjJmNDc2MzRjOGE0YTZlYWYzNDM1ODM2NDc5ZDM5Nik7CiAgICAgICAgCgogICAgICAgIGNpcmNsZV9tYXJrZXJfYThmNjAyNTQ4ZjRmNDUwZDhiMzM4MDk4NDc2NDdmNWEuYmluZFBvcHVwKHBvcHVwX2EwMGE3ZDQzYmE2ZjQwM2Q5NTc0MDBhOGJjMWVkZTcyKQogICAgICAgIDsKCiAgICAgICAgCiAgICAKICAgIAogICAgICAgICAgICB2YXIgY2lyY2xlX21hcmtlcl82NTllODQ0NDBmNDQ0MjA3YjZlNDRiOTBmZjBmMzI0NCA9IEwuY2lyY2xlTWFya2VyKAogICAgICAgICAgICAgICAgWzQzLjY0ODQyOTIsIC03OS4zODIyODAyXSwKICAgICAgICAgICAgICAgIHsiYnViYmxpbmdNb3VzZUV2ZW50cyI6IHRydWUsICJjb2xvciI6ICIjODAwMGZmIiwgImRhc2hBcnJheSI6IG51bGwsICJkYXNoT2Zmc2V0IjogbnVsbCwgImZpbGwiOiB0cnVlLCAiZmlsbENvbG9yIjogIiM4MDAwZmYiLCAiZmlsbE9wYWNpdHkiOiAwLjcsICJmaWxsUnVsZSI6ICJldmVub2RkIiwgImxpbmVDYXAiOiAicm91bmQiLCAibGluZUpvaW4iOiAicm91bmQiLCAib3BhY2l0eSI6IDEuMCwgInJhZGl1cyI6IDUsICJzdHJva2UiOiB0cnVlLCAid2VpZ2h0IjogM30KICAgICAgICAgICAgKS5hZGRUbyhtYXBfZDMzY2FkMzI3NWZmNDBiYmE5MzNjMjU1NzIzMzNmZjcpOwogICAgICAgIAogICAgCiAgICAgICAgdmFyIHBvcHVwXzFkMGU4NDUxN2NlZTQ4ZDNiYWY2ZGQyYzYyNmJhODUzID0gTC5wb3B1cCh7Im1heFdpZHRoIjogIjEwMCUifSk7CgogICAgICAgIAogICAgICAgICAgICB2YXIgaHRtbF8zM2VlNGVlNWRlMTk0MjQ5ODI1Y2U4MjJjNmQ0ZjJhOCA9ICQoYDxkaXYgaWQ9Imh0bWxfMzNlZTRlZTVkZTE5NDI0OTgyNWNlODIyYzZkNGYyYTgiIHN0eWxlPSJ3aWR0aDogMTAwLjAlOyBoZWlnaHQ6IDEwMC4wJTsiPiBDbHVzdGVyIDE8L2Rpdj5gKVswXTsKICAgICAgICAgICAgcG9wdXBfMWQwZTg0NTE3Y2VlNDhkM2JhZjZkZDJjNjI2YmE4NTMuc2V0Q29udGVudChodG1sXzMzZWU0ZWU1ZGUxOTQyNDk4MjVjZTgyMmM2ZDRmMmE4KTsKICAgICAgICAKCiAgICAgICAgY2lyY2xlX21hcmtlcl82NTllODQ0NDBmNDQ0MjA3YjZlNDRiOTBmZjBmMzI0NC5iaW5kUG9wdXAocG9wdXBfMWQwZTg0NTE3Y2VlNDhkM2JhZjZkZDJjNjI2YmE4NTMpCiAgICAgICAgOwoKICAgICAgICAKICAgIAogICAgCiAgICAgICAgICAgIHZhciBjaXJjbGVfbWFya2VyXzQyNDY1MWNkNGNlZTRkZTJhN2VhNzcxMWJjMTk2NTg2ID0gTC5jaXJjbGVNYXJrZXIoCiAgICAgICAgICAgICAgICBbNDMuNjY1ODU5OSwgLTc5LjM4MzE1OTkwMDAwMDAxXSwKICAgICAgICAgICAgICAgIHsiYnViYmxpbmdNb3VzZUV2ZW50cyI6IHRydWUsICJjb2xvciI6ICIjODAwMGZmIiwgImRhc2hBcnJheSI6IG51bGwsICJkYXNoT2Zmc2V0IjogbnVsbCwgImZpbGwiOiB0cnVlLCAiZmlsbENvbG9yIjogIiM4MDAwZmYiLCAiZmlsbE9wYWNpdHkiOiAwLjcsICJmaWxsUnVsZSI6ICJldmVub2RkIiwgImxpbmVDYXAiOiAicm91bmQiLCAibGluZUpvaW4iOiAicm91bmQiLCAib3BhY2l0eSI6IDEuMCwgInJhZGl1cyI6IDUsICJzdHJva2UiOiB0cnVlLCAid2VpZ2h0IjogM30KICAgICAgICAgICAgKS5hZGRUbyhtYXBfZDMzY2FkMzI3NWZmNDBiYmE5MzNjMjU1NzIzMzNmZjcpOwogICAgICAgIAogICAgCiAgICAgICAgdmFyIHBvcHVwXzU2YjlkN2RhOTMyNTRiMmI5NjY0MDg3ZTM5MzNmNGQwID0gTC5wb3B1cCh7Im1heFdpZHRoIjogIjEwMCUifSk7CgogICAgICAgIAogICAgICAgICAgICB2YXIgaHRtbF85YzEzMzM3NjIwMjE0YjgxOWY5ZjAyMmU5M2IwYjUyZiA9ICQoYDxkaXYgaWQ9Imh0bWxfOWMxMzMzNzYyMDIxNGI4MTlmOWYwMjJlOTNiMGI1MmYiIHN0eWxlPSJ3aWR0aDogMTAwLjAlOyBoZWlnaHQ6IDEwMC4wJTsiPiBDbHVzdGVyIDE8L2Rpdj5gKVswXTsKICAgICAgICAgICAgcG9wdXBfNTZiOWQ3ZGE5MzI1NGIyYjk2NjQwODdlMzkzM2Y0ZDAuc2V0Q29udGVudChodG1sXzljMTMzMzc2MjAyMTRiODE5ZjlmMDIyZTkzYjBiNTJmKTsKICAgICAgICAKCiAgICAgICAgY2lyY2xlX21hcmtlcl80MjQ2NTFjZDRjZWU0ZGUyYTdlYTc3MTFiYzE5NjU4Ni5iaW5kUG9wdXAocG9wdXBfNTZiOWQ3ZGE5MzI1NGIyYjk2NjQwODdlMzkzM2Y0ZDApCiAgICAgICAgOwoKICAgICAgICAKICAgIAogICAgCiAgICAgICAgICAgIHZhciBjaXJjbGVfbWFya2VyXzkwY2U4NWViNGM3YTQwOGE5YzdkMmFhMzFjNWQwOTg3ID0gTC5jaXJjbGVNYXJrZXIoCiAgICAgICAgICAgICAgICBbNDMuNjYyNzQzOSwgLTc5LjMyMTU1OF0sCiAgICAgICAgICAgICAgICB7ImJ1YmJsaW5nTW91c2VFdmVudHMiOiB0cnVlLCAiY29sb3IiOiAiI2Q0ZGQ4MCIsICJkYXNoQXJyYXkiOiBudWxsLCAiZGFzaE9mZnNldCI6IG51bGwsICJmaWxsIjogdHJ1ZSwgImZpbGxDb2xvciI6ICIjZDRkZDgwIiwgImZpbGxPcGFjaXR5IjogMC43LCAiZmlsbFJ1bGUiOiAiZXZlbm9kZCIsICJsaW5lQ2FwIjogInJvdW5kIiwgImxpbmVKb2luIjogInJvdW5kIiwgIm9wYWNpdHkiOiAxLjAsICJyYWRpdXMiOiA1LCAic3Ryb2tlIjogdHJ1ZSwgIndlaWdodCI6IDN9CiAgICAgICAgICAgICkuYWRkVG8obWFwX2QzM2NhZDMyNzVmZjQwYmJhOTMzYzI1NTcyMzMzZmY3KTsKICAgICAgICAKICAgIAogICAgICAgIHZhciBwb3B1cF8xYmJkNGZhYjU0OWI0MGIyYmIxNjgzY2I5MmY0NjA4MSA9IEwucG9wdXAoeyJtYXhXaWR0aCI6ICIxMDAlIn0pOwoKICAgICAgICAKICAgICAgICAgICAgdmFyIGh0bWxfOWJlMTY0M2YzZjViNDcyZjlkMjBiMzY0OTE4Y2FjZmUgPSAkKGA8ZGl2IGlkPSJodG1sXzliZTE2NDNmM2Y1YjQ3MmY5ZDIwYjM2NDkxOGNhY2ZlIiBzdHlsZT0id2lkdGg6IDEwMC4wJTsgaGVpZ2h0OiAxMDAuMCU7Ij4gQ2x1c3RlciAzPC9kaXY+YClbMF07CiAgICAgICAgICAgIHBvcHVwXzFiYmQ0ZmFiNTQ5YjQwYjJiYjE2ODNjYjkyZjQ2MDgxLnNldENvbnRlbnQoaHRtbF85YmUxNjQzZjNmNWI0NzJmOWQyMGIzNjQ5MThjYWNmZSk7CiAgICAgICAgCgogICAgICAgIGNpcmNsZV9tYXJrZXJfOTBjZTg1ZWI0YzdhNDA4YTljN2QyYWEzMWM1ZDA5ODcuYmluZFBvcHVwKHBvcHVwXzFiYmQ0ZmFiNTQ5YjQwYjJiYjE2ODNjYjkyZjQ2MDgxKQogICAgICAgIDsKCiAgICAgICAgCiAgICAKPC9zY3JpcHQ+ onload=\"this.contentDocument.open();this.contentDocument.write(atob(this.getAttribute('data-html')));this.contentDocument.close();\" allowfullscreen webkitallowfullscreen mozallowfullscreen></iframe></div></div>"
      ],
      "text/plain": [
       "<folium.folium.Map at 0x1a230e6128>"
      ]
     },
     "execution_count": 36,
     "metadata": {},
     "output_type": "execute_result"
    }
   ],
   "source": [
    "map_clusters = folium.Map(location=[latitude, longitude], zoom_start=11)\n",
    "\n",
    "# set color scheme for the clusters\n",
    "x = np.arange(kclusters)\n",
    "ys = [i + x + (i*x)**2 for i in range(kclusters)]\n",
    "colors_array = cm.rainbow(np.linspace(0, 1, len(ys)))\n",
    "rainbow = [colors.rgb2hex(i) for i in colors_array]\n",
    "\n",
    "# add markers to the map\n",
    "markers_colors = []\n",
    "for lat, lon, cluster in zip(toronto_grouped_clustering['Latitude'], toronto_grouped_clustering['Longitude'], toronto_grouped_clustering['Cluster Labels']):\n",
    "    label = folium.Popup(' Cluster ' + str(cluster), parse_html=True)\n",
    "    folium.CircleMarker(\n",
    "        [lat, lon],\n",
    "        radius=5,\n",
    "        popup=label,\n",
    "        color=rainbow[cluster-1],\n",
    "        fill=True,\n",
    "        fill_color=rainbow[cluster-1],\n",
    "        fill_opacity=0.7).add_to(map_clusters)\n",
    "       \n",
    "map_clusters"
   ]
  },
  {
   "cell_type": "code",
   "execution_count": null,
   "metadata": {},
   "outputs": [],
   "source": []
  }
 ],
 "metadata": {
  "kernelspec": {
   "display_name": "Python 3",
   "language": "python",
   "name": "python3"
  },
  "language_info": {
   "codemirror_mode": {
    "name": "ipython",
    "version": 3
   },
   "file_extension": ".py",
   "mimetype": "text/x-python",
   "name": "python",
   "nbconvert_exporter": "python",
   "pygments_lexer": "ipython3",
   "version": "3.7.3"
  }
 },
 "nbformat": 4,
 "nbformat_minor": 4
}
