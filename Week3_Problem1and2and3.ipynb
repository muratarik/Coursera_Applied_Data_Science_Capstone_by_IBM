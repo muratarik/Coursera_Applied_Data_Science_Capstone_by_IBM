{
 "cells": [
  {
   "cell_type": "code",
   "execution_count": 2,
   "metadata": {},
   "outputs": [],
   "source": [
    "# Import Packages\n",
    "\n",
    "from bs4 import BeautifulSoup\n",
    "import pandas as pd\n",
    "import numpy as np\n",
    "import requests"
   ]
  },
  {
   "cell_type": "code",
   "execution_count": 3,
   "metadata": {},
   "outputs": [],
   "source": [
    "website_url = requests.get('https://en.wikipedia.org/wiki/List_of_postal_codes_of_Canada:_M').text"
   ]
  },
  {
   "cell_type": "code",
   "execution_count": 4,
   "metadata": {},
   "outputs": [],
   "source": [
    "soup = BeautifulSoup(website_url,'lxml')"
   ]
  },
  {
   "cell_type": "code",
   "execution_count": 92,
   "metadata": {},
   "outputs": [
    {
     "name": "stdout",
     "output_type": "stream",
     "text": [
      "<class 'bs4.BeautifulSoup'>\n"
     ]
    }
   ],
   "source": [
    "print(type(soup))"
   ]
  },
  {
   "cell_type": "code",
   "execution_count": 107,
   "metadata": {},
   "outputs": [
    {
     "name": "stdout",
     "output_type": "stream",
     "text": [
      "<div id=\"contentSub\"></div>\n"
     ]
    }
   ],
   "source": [
    "print(soup.find('div',class_=''))"
   ]
  },
  {
   "cell_type": "markdown",
   "metadata": {},
   "source": [
    "wikitable sortable"
   ]
  },
  {
   "cell_type": "code",
   "execution_count": 6,
   "metadata": {},
   "outputs": [
    {
     "name": "stdout",
     "output_type": "stream",
     "text": [
      "<class 'bs4.element.Tag'>\n"
     ]
    }
   ],
   "source": [
    "#Create My_table from wiki website\n",
    "\n",
    "My_table = soup.find(\"table\",{\"class\":\"wikitable sortable\"})\n",
    "print(type(My_table))"
   ]
  },
  {
   "cell_type": "code",
   "execution_count": 7,
   "metadata": {},
   "outputs": [
    {
     "name": "stdout",
     "output_type": "stream",
     "text": [
      "<class 'bs4.element.ResultSet'>\n"
     ]
    }
   ],
   "source": [
    "# Create divs from wiki website \n",
    "\n",
    "divs = soup.findAll(\"table\", {'class':'wikitable sortable'})\n",
    "print(type(divs))"
   ]
  },
  {
   "cell_type": "code",
   "execution_count": 22,
   "metadata": {},
   "outputs": [],
   "source": [
    "#Investigate divs"
   ]
  },
  {
   "cell_type": "code",
   "execution_count": 31,
   "metadata": {},
   "outputs": [],
   "source": [
    "# Find Rows\n",
    "\n",
    "for div in divs:\n",
    "    rows = div.findAll('tr')"
   ]
  },
  {
   "cell_type": "code",
   "execution_count": 35,
   "metadata": {},
   "outputs": [
    {
     "name": "stdout",
     "output_type": "stream",
     "text": [
      "<class 'bs4.element.ResultSet'>\n",
      "<class 'bs4.element.Tag'>\n",
      "\n",
      "Postal Code\n",
      "\n",
      "Borough\n",
      "\n",
      "Neighborhood\n",
      "\n",
      "\n",
      "M1A\n",
      "\n",
      "Not assigned\n",
      "\n",
      "\n",
      "\n"
     ]
    }
   ],
   "source": [
    "print(type(rows))\n",
    "\n",
    "print(type(rows[0]))\n",
    "\n",
    "print(rows[0].text)\n",
    "\n",
    "print(rows[1].text)\n",
    "\n",
    "#rows[0] "
   ]
  },
  {
   "cell_type": "code",
   "execution_count": 40,
   "metadata": {},
   "outputs": [
    {
     "name": "stdout",
     "output_type": "stream",
     "text": [
      "['Postal Code', 'Borough', 'Neighborhood']\n"
     ]
    }
   ],
   "source": [
    "# Find Column Names\n",
    "# first row start with th\n",
    "\n",
    "for row in rows[0:1]:\n",
    "    \n",
    "    elements = row.find_all('th')\n",
    "    \n",
    "    elements = [element.text.strip() for element in elements]\n",
    "    \n",
    "    print(elements)"
   ]
  },
  {
   "cell_type": "code",
   "execution_count": 37,
   "metadata": {},
   "outputs": [
    {
     "name": "stdout",
     "output_type": "stream",
     "text": [
      "<class 'list'>\n"
     ]
    }
   ],
   "source": [
    "print(type(elements))"
   ]
  },
  {
   "cell_type": "code",
   "execution_count": 49,
   "metadata": {},
   "outputs": [
    {
     "data": {
      "text/html": [
       "<div>\n",
       "<style scoped>\n",
       "    .dataframe tbody tr th:only-of-type {\n",
       "        vertical-align: middle;\n",
       "    }\n",
       "\n",
       "    .dataframe tbody tr th {\n",
       "        vertical-align: top;\n",
       "    }\n",
       "\n",
       "    .dataframe thead th {\n",
       "        text-align: right;\n",
       "    }\n",
       "</style>\n",
       "<table border=\"1\" class=\"dataframe\">\n",
       "  <thead>\n",
       "    <tr style=\"text-align: right;\">\n",
       "      <th></th>\n",
       "      <th>A</th>\n",
       "      <th>B</th>\n",
       "      <th>C</th>\n",
       "    </tr>\n",
       "  </thead>\n",
       "  <tbody>\n",
       "    <tr>\n",
       "      <th>0</th>\n",
       "      <td>0</td>\n",
       "      <td>0</td>\n",
       "      <td>0</td>\n",
       "    </tr>\n",
       "  </tbody>\n",
       "</table>\n",
       "</div>"
      ],
      "text/plain": [
       "   A  B  C\n",
       "0  0  0  0"
      ]
     },
     "execution_count": 49,
     "metadata": {},
     "output_type": "execute_result"
    }
   ],
   "source": [
    "# Create dummy DataFrame with 3 columns\n",
    "\n",
    "d = [[0,0,0]]\n",
    "\n",
    "df = pd.DataFrame(data=d, columns=list('ABC'))\n",
    "\n",
    "df"
   ]
  },
  {
   "cell_type": "code",
   "execution_count": 50,
   "metadata": {},
   "outputs": [
    {
     "data": {
      "text/html": [
       "<div>\n",
       "<style scoped>\n",
       "    .dataframe tbody tr th:only-of-type {\n",
       "        vertical-align: middle;\n",
       "    }\n",
       "\n",
       "    .dataframe tbody tr th {\n",
       "        vertical-align: top;\n",
       "    }\n",
       "\n",
       "    .dataframe thead th {\n",
       "        text-align: right;\n",
       "    }\n",
       "</style>\n",
       "<table border=\"1\" class=\"dataframe\">\n",
       "  <thead>\n",
       "    <tr style=\"text-align: right;\">\n",
       "      <th></th>\n",
       "      <th>A</th>\n",
       "      <th>B</th>\n",
       "      <th>C</th>\n",
       "    </tr>\n",
       "  </thead>\n",
       "  <tbody>\n",
       "    <tr>\n",
       "      <th>0</th>\n",
       "      <td>0</td>\n",
       "      <td>0</td>\n",
       "      <td>0</td>\n",
       "    </tr>\n",
       "    <tr>\n",
       "      <th>1</th>\n",
       "      <td>M1A</td>\n",
       "      <td>Not assigned</td>\n",
       "      <td></td>\n",
       "    </tr>\n",
       "    <tr>\n",
       "      <th>2</th>\n",
       "      <td>M2A</td>\n",
       "      <td>Not assigned</td>\n",
       "      <td></td>\n",
       "    </tr>\n",
       "    <tr>\n",
       "      <th>3</th>\n",
       "      <td>M3A</td>\n",
       "      <td>North York</td>\n",
       "      <td>Parkwoods</td>\n",
       "    </tr>\n",
       "    <tr>\n",
       "      <th>4</th>\n",
       "      <td>M4A</td>\n",
       "      <td>North York</td>\n",
       "      <td>Victoria Village</td>\n",
       "    </tr>\n",
       "  </tbody>\n",
       "</table>\n",
       "</div>"
      ],
      "text/plain": [
       "     A             B                 C\n",
       "0    0             0                 0\n",
       "1  M1A  Not assigned                  \n",
       "2  M2A  Not assigned                  \n",
       "3  M3A    North York         Parkwoods\n",
       "4  M4A    North York  Victoria Village"
      ]
     },
     "execution_count": 50,
     "metadata": {},
     "output_type": "execute_result"
    }
   ],
   "source": [
    "# Find Elements in the table\n",
    "# except first row start with td\n",
    "\n",
    "for row in rows[1:]:\n",
    "    \n",
    "    elements = row.find_all('td')\n",
    "    \n",
    "    elements = [element.text.strip() for element in elements]\n",
    "\n",
    "    row_df = pd.DataFrame([elements],columns=list('ABC'))\n",
    "    \n",
    "    # concat rows to df dataframe\n",
    "    \n",
    "    df = df.append(row_df, ignore_index=True)\n",
    "    \n",
    "df.head()"
   ]
  },
  {
   "cell_type": "code",
   "execution_count": 51,
   "metadata": {},
   "outputs": [
    {
     "data": {
      "text/html": [
       "<div>\n",
       "<style scoped>\n",
       "    .dataframe tbody tr th:only-of-type {\n",
       "        vertical-align: middle;\n",
       "    }\n",
       "\n",
       "    .dataframe tbody tr th {\n",
       "        vertical-align: top;\n",
       "    }\n",
       "\n",
       "    .dataframe thead th {\n",
       "        text-align: right;\n",
       "    }\n",
       "</style>\n",
       "<table border=\"1\" class=\"dataframe\">\n",
       "  <thead>\n",
       "    <tr style=\"text-align: right;\">\n",
       "      <th></th>\n",
       "      <th>A</th>\n",
       "      <th>B</th>\n",
       "      <th>C</th>\n",
       "    </tr>\n",
       "  </thead>\n",
       "  <tbody>\n",
       "    <tr>\n",
       "      <th>1</th>\n",
       "      <td>M1A</td>\n",
       "      <td>Not assigned</td>\n",
       "      <td></td>\n",
       "    </tr>\n",
       "    <tr>\n",
       "      <th>2</th>\n",
       "      <td>M2A</td>\n",
       "      <td>Not assigned</td>\n",
       "      <td></td>\n",
       "    </tr>\n",
       "    <tr>\n",
       "      <th>3</th>\n",
       "      <td>M3A</td>\n",
       "      <td>North York</td>\n",
       "      <td>Parkwoods</td>\n",
       "    </tr>\n",
       "    <tr>\n",
       "      <th>4</th>\n",
       "      <td>M4A</td>\n",
       "      <td>North York</td>\n",
       "      <td>Victoria Village</td>\n",
       "    </tr>\n",
       "    <tr>\n",
       "      <th>5</th>\n",
       "      <td>M5A</td>\n",
       "      <td>Downtown Toronto</td>\n",
       "      <td>Regent Park, Harbourfront</td>\n",
       "    </tr>\n",
       "  </tbody>\n",
       "</table>\n",
       "</div>"
      ],
      "text/plain": [
       "     A                 B                          C\n",
       "1  M1A      Not assigned                           \n",
       "2  M2A      Not assigned                           \n",
       "3  M3A        North York                  Parkwoods\n",
       "4  M4A        North York           Victoria Village\n",
       "5  M5A  Downtown Toronto  Regent Park, Harbourfront"
      ]
     },
     "execution_count": 51,
     "metadata": {},
     "output_type": "execute_result"
    }
   ],
   "source": [
    "# Drop first row\n",
    "\n",
    "df = df.drop([0])\n",
    "df.head()"
   ]
  },
  {
   "cell_type": "code",
   "execution_count": 52,
   "metadata": {},
   "outputs": [
    {
     "data": {
      "text/html": [
       "<div>\n",
       "<style scoped>\n",
       "    .dataframe tbody tr th:only-of-type {\n",
       "        vertical-align: middle;\n",
       "    }\n",
       "\n",
       "    .dataframe tbody tr th {\n",
       "        vertical-align: top;\n",
       "    }\n",
       "\n",
       "    .dataframe thead th {\n",
       "        text-align: right;\n",
       "    }\n",
       "</style>\n",
       "<table border=\"1\" class=\"dataframe\">\n",
       "  <thead>\n",
       "    <tr style=\"text-align: right;\">\n",
       "      <th></th>\n",
       "      <th>PostalCode</th>\n",
       "      <th>Borough</th>\n",
       "      <th>Neighborhood</th>\n",
       "    </tr>\n",
       "  </thead>\n",
       "  <tbody>\n",
       "    <tr>\n",
       "      <th>1</th>\n",
       "      <td>M1A</td>\n",
       "      <td>Not assigned</td>\n",
       "      <td></td>\n",
       "    </tr>\n",
       "    <tr>\n",
       "      <th>2</th>\n",
       "      <td>M2A</td>\n",
       "      <td>Not assigned</td>\n",
       "      <td></td>\n",
       "    </tr>\n",
       "    <tr>\n",
       "      <th>3</th>\n",
       "      <td>M3A</td>\n",
       "      <td>North York</td>\n",
       "      <td>Parkwoods</td>\n",
       "    </tr>\n",
       "    <tr>\n",
       "      <th>4</th>\n",
       "      <td>M4A</td>\n",
       "      <td>North York</td>\n",
       "      <td>Victoria Village</td>\n",
       "    </tr>\n",
       "    <tr>\n",
       "      <th>5</th>\n",
       "      <td>M5A</td>\n",
       "      <td>Downtown Toronto</td>\n",
       "      <td>Regent Park, Harbourfront</td>\n",
       "    </tr>\n",
       "  </tbody>\n",
       "</table>\n",
       "</div>"
      ],
      "text/plain": [
       "  PostalCode           Borough               Neighborhood\n",
       "1        M1A      Not assigned                           \n",
       "2        M2A      Not assigned                           \n",
       "3        M3A        North York                  Parkwoods\n",
       "4        M4A        North York           Victoria Village\n",
       "5        M5A  Downtown Toronto  Regent Park, Harbourfront"
      ]
     },
     "execution_count": 52,
     "metadata": {},
     "output_type": "execute_result"
    }
   ],
   "source": [
    "# change column names\n",
    "\n",
    "df.columns = ['PostalCode', 'Borough', 'Neighborhood']\n",
    "df.head()"
   ]
  },
  {
   "cell_type": "code",
   "execution_count": 53,
   "metadata": {},
   "outputs": [
    {
     "data": {
      "text/plain": [
       "(180, 3)"
      ]
     },
     "execution_count": 53,
     "metadata": {},
     "output_type": "execute_result"
    }
   ],
   "source": [
    "df.shape"
   ]
  },
  {
   "cell_type": "code",
   "execution_count": 54,
   "metadata": {},
   "outputs": [
    {
     "data": {
      "text/html": [
       "<div>\n",
       "<style scoped>\n",
       "    .dataframe tbody tr th:only-of-type {\n",
       "        vertical-align: middle;\n",
       "    }\n",
       "\n",
       "    .dataframe tbody tr th {\n",
       "        vertical-align: top;\n",
       "    }\n",
       "\n",
       "    .dataframe thead th {\n",
       "        text-align: right;\n",
       "    }\n",
       "</style>\n",
       "<table border=\"1\" class=\"dataframe\">\n",
       "  <thead>\n",
       "    <tr style=\"text-align: right;\">\n",
       "      <th></th>\n",
       "      <th>PostalCode</th>\n",
       "      <th>Borough</th>\n",
       "      <th>Neighborhood</th>\n",
       "    </tr>\n",
       "  </thead>\n",
       "  <tbody>\n",
       "    <tr>\n",
       "      <th>3</th>\n",
       "      <td>M3A</td>\n",
       "      <td>North York</td>\n",
       "      <td>Parkwoods</td>\n",
       "    </tr>\n",
       "    <tr>\n",
       "      <th>4</th>\n",
       "      <td>M4A</td>\n",
       "      <td>North York</td>\n",
       "      <td>Victoria Village</td>\n",
       "    </tr>\n",
       "    <tr>\n",
       "      <th>5</th>\n",
       "      <td>M5A</td>\n",
       "      <td>Downtown Toronto</td>\n",
       "      <td>Regent Park, Harbourfront</td>\n",
       "    </tr>\n",
       "    <tr>\n",
       "      <th>6</th>\n",
       "      <td>M6A</td>\n",
       "      <td>North York</td>\n",
       "      <td>Lawrence Manor, Lawrence Heights</td>\n",
       "    </tr>\n",
       "    <tr>\n",
       "      <th>7</th>\n",
       "      <td>M7A</td>\n",
       "      <td>Downtown Toronto</td>\n",
       "      <td>Queen's Park, Ontario Provincial Government</td>\n",
       "    </tr>\n",
       "  </tbody>\n",
       "</table>\n",
       "</div>"
      ],
      "text/plain": [
       "  PostalCode           Borough                                 Neighborhood\n",
       "3        M3A        North York                                    Parkwoods\n",
       "4        M4A        North York                             Victoria Village\n",
       "5        M5A  Downtown Toronto                    Regent Park, Harbourfront\n",
       "6        M6A        North York             Lawrence Manor, Lawrence Heights\n",
       "7        M7A  Downtown Toronto  Queen's Park, Ontario Provincial Government"
      ]
     },
     "execution_count": 54,
     "metadata": {},
     "output_type": "execute_result"
    }
   ],
   "source": [
    "# Drop cells with a borough that is Not assigned.\n",
    "\n",
    "df1 = df[df.Borough != \"Not assigned\"]\n",
    "df1.head()"
   ]
  },
  {
   "cell_type": "code",
   "execution_count": 56,
   "metadata": {},
   "outputs": [
    {
     "data": {
      "text/html": [
       "<div>\n",
       "<style scoped>\n",
       "    .dataframe tbody tr th:only-of-type {\n",
       "        vertical-align: middle;\n",
       "    }\n",
       "\n",
       "    .dataframe tbody tr th {\n",
       "        vertical-align: top;\n",
       "    }\n",
       "\n",
       "    .dataframe thead th {\n",
       "        text-align: right;\n",
       "    }\n",
       "</style>\n",
       "<table border=\"1\" class=\"dataframe\">\n",
       "  <thead>\n",
       "    <tr style=\"text-align: right;\">\n",
       "      <th></th>\n",
       "      <th>PostalCode</th>\n",
       "      <th>Borough</th>\n",
       "      <th>Neighborhood</th>\n",
       "    </tr>\n",
       "  </thead>\n",
       "  <tbody>\n",
       "  </tbody>\n",
       "</table>\n",
       "</div>"
      ],
      "text/plain": [
       "Empty DataFrame\n",
       "Columns: [PostalCode, Borough, Neighborhood]\n",
       "Index: []"
      ]
     },
     "execution_count": 56,
     "metadata": {},
     "output_type": "execute_result"
    }
   ],
   "source": [
    "# Check nan values\n",
    "\n",
    "df1[df1.Neighborhood == np.nan]"
   ]
  },
  {
   "cell_type": "code",
   "execution_count": 57,
   "metadata": {},
   "outputs": [
    {
     "data": {
      "text/plain": [
       "(103, 3)"
      ]
     },
     "execution_count": 57,
     "metadata": {},
     "output_type": "execute_result"
    }
   ],
   "source": [
    "df1.shape"
   ]
  },
  {
   "cell_type": "markdown",
   "metadata": {},
   "source": [
    "# Problem 2"
   ]
  },
  {
   "cell_type": "code",
   "execution_count": 60,
   "metadata": {},
   "outputs": [
    {
     "name": "stdout",
     "output_type": "stream",
     "text": [
      "Geospatial_Coordinates.csv  Week3.ipynb\n"
     ]
    }
   ],
   "source": [
    "ls"
   ]
  },
  {
   "cell_type": "code",
   "execution_count": 73,
   "metadata": {},
   "outputs": [
    {
     "data": {
      "text/html": [
       "<div>\n",
       "<style scoped>\n",
       "    .dataframe tbody tr th:only-of-type {\n",
       "        vertical-align: middle;\n",
       "    }\n",
       "\n",
       "    .dataframe tbody tr th {\n",
       "        vertical-align: top;\n",
       "    }\n",
       "\n",
       "    .dataframe thead th {\n",
       "        text-align: right;\n",
       "    }\n",
       "</style>\n",
       "<table border=\"1\" class=\"dataframe\">\n",
       "  <thead>\n",
       "    <tr style=\"text-align: right;\">\n",
       "      <th></th>\n",
       "      <th>Postal Code</th>\n",
       "      <th>Latitude</th>\n",
       "      <th>Longitude</th>\n",
       "    </tr>\n",
       "  </thead>\n",
       "  <tbody>\n",
       "    <tr>\n",
       "      <th>0</th>\n",
       "      <td>M1B</td>\n",
       "      <td>43.806686</td>\n",
       "      <td>-79.194353</td>\n",
       "    </tr>\n",
       "    <tr>\n",
       "      <th>1</th>\n",
       "      <td>M1C</td>\n",
       "      <td>43.784535</td>\n",
       "      <td>-79.160497</td>\n",
       "    </tr>\n",
       "    <tr>\n",
       "      <th>2</th>\n",
       "      <td>M1E</td>\n",
       "      <td>43.763573</td>\n",
       "      <td>-79.188711</td>\n",
       "    </tr>\n",
       "    <tr>\n",
       "      <th>3</th>\n",
       "      <td>M1G</td>\n",
       "      <td>43.770992</td>\n",
       "      <td>-79.216917</td>\n",
       "    </tr>\n",
       "    <tr>\n",
       "      <th>4</th>\n",
       "      <td>M1H</td>\n",
       "      <td>43.773136</td>\n",
       "      <td>-79.239476</td>\n",
       "    </tr>\n",
       "  </tbody>\n",
       "</table>\n",
       "</div>"
      ],
      "text/plain": [
       "  Postal Code   Latitude  Longitude\n",
       "0         M1B  43.806686 -79.194353\n",
       "1         M1C  43.784535 -79.160497\n",
       "2         M1E  43.763573 -79.188711\n",
       "3         M1G  43.770992 -79.216917\n",
       "4         M1H  43.773136 -79.239476"
      ]
     },
     "execution_count": 73,
     "metadata": {},
     "output_type": "execute_result"
    }
   ],
   "source": [
    "geo_df = pd.read_csv(\"Geospatial_Coordinates.csv\") \n",
    "geo_df.head()"
   ]
  },
  {
   "cell_type": "code",
   "execution_count": 85,
   "metadata": {},
   "outputs": [
    {
     "data": {
      "text/html": [
       "<div>\n",
       "<style scoped>\n",
       "    .dataframe tbody tr th:only-of-type {\n",
       "        vertical-align: middle;\n",
       "    }\n",
       "\n",
       "    .dataframe tbody tr th {\n",
       "        vertical-align: top;\n",
       "    }\n",
       "\n",
       "    .dataframe thead th {\n",
       "        text-align: right;\n",
       "    }\n",
       "</style>\n",
       "<table border=\"1\" class=\"dataframe\">\n",
       "  <thead>\n",
       "    <tr style=\"text-align: right;\">\n",
       "      <th></th>\n",
       "      <th>PostalCode</th>\n",
       "      <th>Latitude</th>\n",
       "      <th>Longitude</th>\n",
       "    </tr>\n",
       "  </thead>\n",
       "  <tbody>\n",
       "    <tr>\n",
       "      <th>0</th>\n",
       "      <td>M1B</td>\n",
       "      <td>43.806686</td>\n",
       "      <td>-79.194353</td>\n",
       "    </tr>\n",
       "    <tr>\n",
       "      <th>1</th>\n",
       "      <td>M1C</td>\n",
       "      <td>43.784535</td>\n",
       "      <td>-79.160497</td>\n",
       "    </tr>\n",
       "    <tr>\n",
       "      <th>2</th>\n",
       "      <td>M1E</td>\n",
       "      <td>43.763573</td>\n",
       "      <td>-79.188711</td>\n",
       "    </tr>\n",
       "    <tr>\n",
       "      <th>3</th>\n",
       "      <td>M1G</td>\n",
       "      <td>43.770992</td>\n",
       "      <td>-79.216917</td>\n",
       "    </tr>\n",
       "    <tr>\n",
       "      <th>4</th>\n",
       "      <td>M1H</td>\n",
       "      <td>43.773136</td>\n",
       "      <td>-79.239476</td>\n",
       "    </tr>\n",
       "  </tbody>\n",
       "</table>\n",
       "</div>"
      ],
      "text/plain": [
       "  PostalCode   Latitude  Longitude\n",
       "0        M1B  43.806686 -79.194353\n",
       "1        M1C  43.784535 -79.160497\n",
       "2        M1E  43.763573 -79.188711\n",
       "3        M1G  43.770992 -79.216917\n",
       "4        M1H  43.773136 -79.239476"
      ]
     },
     "execution_count": 85,
     "metadata": {},
     "output_type": "execute_result"
    }
   ],
   "source": [
    "geo_df.rename(columns={'Postal Code':'PostalCode'},inplace=True)\n",
    "geo_df.head()"
   ]
  },
  {
   "cell_type": "code",
   "execution_count": 86,
   "metadata": {},
   "outputs": [],
   "source": [
    "merged_df = pd.merge(df1, geo_df, on='PostalCode')"
   ]
  },
  {
   "cell_type": "code",
   "execution_count": 87,
   "metadata": {},
   "outputs": [
    {
     "data": {
      "text/html": [
       "<div>\n",
       "<style scoped>\n",
       "    .dataframe tbody tr th:only-of-type {\n",
       "        vertical-align: middle;\n",
       "    }\n",
       "\n",
       "    .dataframe tbody tr th {\n",
       "        vertical-align: top;\n",
       "    }\n",
       "\n",
       "    .dataframe thead th {\n",
       "        text-align: right;\n",
       "    }\n",
       "</style>\n",
       "<table border=\"1\" class=\"dataframe\">\n",
       "  <thead>\n",
       "    <tr style=\"text-align: right;\">\n",
       "      <th></th>\n",
       "      <th>PostalCode</th>\n",
       "      <th>Borough</th>\n",
       "      <th>Neighborhood</th>\n",
       "      <th>Latitude</th>\n",
       "      <th>Longitude</th>\n",
       "    </tr>\n",
       "  </thead>\n",
       "  <tbody>\n",
       "    <tr>\n",
       "      <th>0</th>\n",
       "      <td>M3A</td>\n",
       "      <td>North York</td>\n",
       "      <td>Parkwoods</td>\n",
       "      <td>43.753259</td>\n",
       "      <td>-79.329656</td>\n",
       "    </tr>\n",
       "    <tr>\n",
       "      <th>1</th>\n",
       "      <td>M4A</td>\n",
       "      <td>North York</td>\n",
       "      <td>Victoria Village</td>\n",
       "      <td>43.725882</td>\n",
       "      <td>-79.315572</td>\n",
       "    </tr>\n",
       "    <tr>\n",
       "      <th>2</th>\n",
       "      <td>M5A</td>\n",
       "      <td>Downtown Toronto</td>\n",
       "      <td>Regent Park, Harbourfront</td>\n",
       "      <td>43.654260</td>\n",
       "      <td>-79.360636</td>\n",
       "    </tr>\n",
       "    <tr>\n",
       "      <th>3</th>\n",
       "      <td>M6A</td>\n",
       "      <td>North York</td>\n",
       "      <td>Lawrence Manor, Lawrence Heights</td>\n",
       "      <td>43.718518</td>\n",
       "      <td>-79.464763</td>\n",
       "    </tr>\n",
       "    <tr>\n",
       "      <th>4</th>\n",
       "      <td>M7A</td>\n",
       "      <td>Downtown Toronto</td>\n",
       "      <td>Queen's Park, Ontario Provincial Government</td>\n",
       "      <td>43.662301</td>\n",
       "      <td>-79.389494</td>\n",
       "    </tr>\n",
       "  </tbody>\n",
       "</table>\n",
       "</div>"
      ],
      "text/plain": [
       "  PostalCode           Borough                                 Neighborhood  \\\n",
       "0        M3A        North York                                    Parkwoods   \n",
       "1        M4A        North York                             Victoria Village   \n",
       "2        M5A  Downtown Toronto                    Regent Park, Harbourfront   \n",
       "3        M6A        North York             Lawrence Manor, Lawrence Heights   \n",
       "4        M7A  Downtown Toronto  Queen's Park, Ontario Provincial Government   \n",
       "\n",
       "    Latitude  Longitude  \n",
       "0  43.753259 -79.329656  \n",
       "1  43.725882 -79.315572  \n",
       "2  43.654260 -79.360636  \n",
       "3  43.718518 -79.464763  \n",
       "4  43.662301 -79.389494  "
      ]
     },
     "execution_count": 87,
     "metadata": {},
     "output_type": "execute_result"
    }
   ],
   "source": [
    "merged_df.head()"
   ]
  },
  {
   "cell_type": "code",
   "execution_count": null,
   "metadata": {},
   "outputs": [],
   "source": []
  },
  {
   "cell_type": "markdown",
   "metadata": {},
   "source": [
    "# Problem 3"
   ]
  },
  {
   "cell_type": "code",
   "execution_count": 132,
   "metadata": {},
   "outputs": [],
   "source": [
    "# pip install geopy\n",
    "# pip install folium"
   ]
  },
  {
   "cell_type": "code",
   "execution_count": 119,
   "metadata": {},
   "outputs": [
    {
     "data": {
      "text/html": [
       "<div>\n",
       "<style scoped>\n",
       "    .dataframe tbody tr th:only-of-type {\n",
       "        vertical-align: middle;\n",
       "    }\n",
       "\n",
       "    .dataframe tbody tr th {\n",
       "        vertical-align: top;\n",
       "    }\n",
       "\n",
       "    .dataframe thead th {\n",
       "        text-align: right;\n",
       "    }\n",
       "</style>\n",
       "<table border=\"1\" class=\"dataframe\">\n",
       "  <thead>\n",
       "    <tr style=\"text-align: right;\">\n",
       "      <th></th>\n",
       "      <th>PostalCode</th>\n",
       "      <th>Borough</th>\n",
       "      <th>Neighborhood</th>\n",
       "      <th>Latitude</th>\n",
       "      <th>Longitude</th>\n",
       "    </tr>\n",
       "  </thead>\n",
       "  <tbody>\n",
       "    <tr>\n",
       "      <th>2</th>\n",
       "      <td>M5A</td>\n",
       "      <td>Downtown Toronto</td>\n",
       "      <td>Regent Park, Harbourfront</td>\n",
       "      <td>43.654260</td>\n",
       "      <td>-79.360636</td>\n",
       "    </tr>\n",
       "    <tr>\n",
       "      <th>4</th>\n",
       "      <td>M7A</td>\n",
       "      <td>Downtown Toronto</td>\n",
       "      <td>Queen's Park, Ontario Provincial Government</td>\n",
       "      <td>43.662301</td>\n",
       "      <td>-79.389494</td>\n",
       "    </tr>\n",
       "    <tr>\n",
       "      <th>9</th>\n",
       "      <td>M5B</td>\n",
       "      <td>Downtown Toronto</td>\n",
       "      <td>Garden District, Ryerson</td>\n",
       "      <td>43.657162</td>\n",
       "      <td>-79.378937</td>\n",
       "    </tr>\n",
       "    <tr>\n",
       "      <th>15</th>\n",
       "      <td>M5C</td>\n",
       "      <td>Downtown Toronto</td>\n",
       "      <td>St. James Town</td>\n",
       "      <td>43.651494</td>\n",
       "      <td>-79.375418</td>\n",
       "    </tr>\n",
       "    <tr>\n",
       "      <th>19</th>\n",
       "      <td>M4E</td>\n",
       "      <td>East Toronto</td>\n",
       "      <td>The Beaches</td>\n",
       "      <td>43.676357</td>\n",
       "      <td>-79.293031</td>\n",
       "    </tr>\n",
       "    <tr>\n",
       "      <th>20</th>\n",
       "      <td>M5E</td>\n",
       "      <td>Downtown Toronto</td>\n",
       "      <td>Berczy Park</td>\n",
       "      <td>43.644771</td>\n",
       "      <td>-79.373306</td>\n",
       "    </tr>\n",
       "    <tr>\n",
       "      <th>24</th>\n",
       "      <td>M5G</td>\n",
       "      <td>Downtown Toronto</td>\n",
       "      <td>Central Bay Street</td>\n",
       "      <td>43.657952</td>\n",
       "      <td>-79.387383</td>\n",
       "    </tr>\n",
       "    <tr>\n",
       "      <th>25</th>\n",
       "      <td>M6G</td>\n",
       "      <td>Downtown Toronto</td>\n",
       "      <td>Christie</td>\n",
       "      <td>43.669542</td>\n",
       "      <td>-79.422564</td>\n",
       "    </tr>\n",
       "    <tr>\n",
       "      <th>30</th>\n",
       "      <td>M5H</td>\n",
       "      <td>Downtown Toronto</td>\n",
       "      <td>Richmond, Adelaide, King</td>\n",
       "      <td>43.650571</td>\n",
       "      <td>-79.384568</td>\n",
       "    </tr>\n",
       "    <tr>\n",
       "      <th>31</th>\n",
       "      <td>M6H</td>\n",
       "      <td>West Toronto</td>\n",
       "      <td>Dufferin, Dovercourt Village</td>\n",
       "      <td>43.669005</td>\n",
       "      <td>-79.442259</td>\n",
       "    </tr>\n",
       "  </tbody>\n",
       "</table>\n",
       "</div>"
      ],
      "text/plain": [
       "   PostalCode           Borough                                 Neighborhood  \\\n",
       "2         M5A  Downtown Toronto                    Regent Park, Harbourfront   \n",
       "4         M7A  Downtown Toronto  Queen's Park, Ontario Provincial Government   \n",
       "9         M5B  Downtown Toronto                     Garden District, Ryerson   \n",
       "15        M5C  Downtown Toronto                               St. James Town   \n",
       "19        M4E      East Toronto                                  The Beaches   \n",
       "20        M5E  Downtown Toronto                                  Berczy Park   \n",
       "24        M5G  Downtown Toronto                           Central Bay Street   \n",
       "25        M6G  Downtown Toronto                                     Christie   \n",
       "30        M5H  Downtown Toronto                     Richmond, Adelaide, King   \n",
       "31        M6H      West Toronto                 Dufferin, Dovercourt Village   \n",
       "\n",
       "     Latitude  Longitude  \n",
       "2   43.654260 -79.360636  \n",
       "4   43.662301 -79.389494  \n",
       "9   43.657162 -79.378937  \n",
       "15  43.651494 -79.375418  \n",
       "19  43.676357 -79.293031  \n",
       "20  43.644771 -79.373306  \n",
       "24  43.657952 -79.387383  \n",
       "25  43.669542 -79.422564  \n",
       "30  43.650571 -79.384568  \n",
       "31  43.669005 -79.442259  "
      ]
     },
     "execution_count": 119,
     "metadata": {},
     "output_type": "execute_result"
    }
   ],
   "source": [
    "Toronto_df = merged_df[merged_df['Borough'].str.contains(\"Toronto\")]\n",
    "Toronto_df.head(10)"
   ]
  },
  {
   "cell_type": "code",
   "execution_count": 127,
   "metadata": {},
   "outputs": [
    {
     "data": {
      "text/html": [
       "<div>\n",
       "<style scoped>\n",
       "    .dataframe tbody tr th:only-of-type {\n",
       "        vertical-align: middle;\n",
       "    }\n",
       "\n",
       "    .dataframe tbody tr th {\n",
       "        vertical-align: top;\n",
       "    }\n",
       "\n",
       "    .dataframe thead th {\n",
       "        text-align: right;\n",
       "    }\n",
       "</style>\n",
       "<table border=\"1\" class=\"dataframe\">\n",
       "  <thead>\n",
       "    <tr style=\"text-align: right;\">\n",
       "      <th></th>\n",
       "      <th>Latitude</th>\n",
       "      <th>Longitude</th>\n",
       "    </tr>\n",
       "  </thead>\n",
       "  <tbody>\n",
       "    <tr>\n",
       "      <th>2</th>\n",
       "      <td>43.654260</td>\n",
       "      <td>-79.360636</td>\n",
       "    </tr>\n",
       "    <tr>\n",
       "      <th>4</th>\n",
       "      <td>43.662301</td>\n",
       "      <td>-79.389494</td>\n",
       "    </tr>\n",
       "    <tr>\n",
       "      <th>9</th>\n",
       "      <td>43.657162</td>\n",
       "      <td>-79.378937</td>\n",
       "    </tr>\n",
       "    <tr>\n",
       "      <th>15</th>\n",
       "      <td>43.651494</td>\n",
       "      <td>-79.375418</td>\n",
       "    </tr>\n",
       "    <tr>\n",
       "      <th>19</th>\n",
       "      <td>43.676357</td>\n",
       "      <td>-79.293031</td>\n",
       "    </tr>\n",
       "  </tbody>\n",
       "</table>\n",
       "</div>"
      ],
      "text/plain": [
       "     Latitude  Longitude\n",
       "2   43.654260 -79.360636\n",
       "4   43.662301 -79.389494\n",
       "9   43.657162 -79.378937\n",
       "15  43.651494 -79.375418\n",
       "19  43.676357 -79.293031"
      ]
     },
     "execution_count": 127,
     "metadata": {},
     "output_type": "execute_result"
    }
   ],
   "source": [
    "# set number of clusters\n",
    "\n",
    "\n",
    "toronto_grouped_clustering = Toronto_df.drop(['Neighborhood','Borough','PostalCode'], 1)\n",
    "toronto_grouped_clustering.head()"
   ]
  },
  {
   "cell_type": "code",
   "execution_count": 128,
   "metadata": {},
   "outputs": [
    {
     "data": {
      "text/plain": [
       "array([1, 1, 1, 1, 3, 1, 1, 2, 1, 2], dtype=int32)"
      ]
     },
     "execution_count": 128,
     "metadata": {},
     "output_type": "execute_result"
    }
   ],
   "source": [
    "kclusters = 4\n",
    "\n",
    "# run k-means clustering\n",
    "kmeans = KMeans(n_clusters=kclusters, random_state=0).fit(toronto_grouped_clustering)\n",
    "\n",
    "# check cluster labels generated for each row in the dataframe\n",
    "kmeans.labels_[0:10]"
   ]
  },
  {
   "cell_type": "code",
   "execution_count": 133,
   "metadata": {},
   "outputs": [
    {
     "data": {
      "text/html": [
       "<div>\n",
       "<style scoped>\n",
       "    .dataframe tbody tr th:only-of-type {\n",
       "        vertical-align: middle;\n",
       "    }\n",
       "\n",
       "    .dataframe tbody tr th {\n",
       "        vertical-align: top;\n",
       "    }\n",
       "\n",
       "    .dataframe thead th {\n",
       "        text-align: right;\n",
       "    }\n",
       "</style>\n",
       "<table border=\"1\" class=\"dataframe\">\n",
       "  <thead>\n",
       "    <tr style=\"text-align: right;\">\n",
       "      <th></th>\n",
       "      <th>Latitude</th>\n",
       "      <th>Longitude</th>\n",
       "      <th>Cluster Labels</th>\n",
       "    </tr>\n",
       "  </thead>\n",
       "  <tbody>\n",
       "    <tr>\n",
       "      <th>2</th>\n",
       "      <td>43.654260</td>\n",
       "      <td>-79.360636</td>\n",
       "      <td>1</td>\n",
       "    </tr>\n",
       "    <tr>\n",
       "      <th>4</th>\n",
       "      <td>43.662301</td>\n",
       "      <td>-79.389494</td>\n",
       "      <td>1</td>\n",
       "    </tr>\n",
       "    <tr>\n",
       "      <th>9</th>\n",
       "      <td>43.657162</td>\n",
       "      <td>-79.378937</td>\n",
       "      <td>1</td>\n",
       "    </tr>\n",
       "    <tr>\n",
       "      <th>15</th>\n",
       "      <td>43.651494</td>\n",
       "      <td>-79.375418</td>\n",
       "      <td>1</td>\n",
       "    </tr>\n",
       "    <tr>\n",
       "      <th>19</th>\n",
       "      <td>43.676357</td>\n",
       "      <td>-79.293031</td>\n",
       "      <td>3</td>\n",
       "    </tr>\n",
       "  </tbody>\n",
       "</table>\n",
       "</div>"
      ],
      "text/plain": [
       "     Latitude  Longitude  Cluster Labels\n",
       "2   43.654260 -79.360636               1\n",
       "4   43.662301 -79.389494               1\n",
       "9   43.657162 -79.378937               1\n",
       "15  43.651494 -79.375418               1\n",
       "19  43.676357 -79.293031               3"
      ]
     },
     "execution_count": 133,
     "metadata": {},
     "output_type": "execute_result"
    }
   ],
   "source": [
    "# Add cluster labels\n",
    "\n",
    "toronto_grouped_clustering['Cluster Labels'] = kmeans.labels_\n",
    "toronto_grouped_clustering.head()"
   ]
  },
  {
   "cell_type": "code",
   "execution_count": 114,
   "metadata": {},
   "outputs": [],
   "source": [
    "import folium"
   ]
  },
  {
   "cell_type": "code",
   "execution_count": 137,
   "metadata": {},
   "outputs": [
    {
     "data": {
      "text/html": [
       "<div style=\"width:100%;\"><div style=\"position:relative;width:100%;height:0;padding-bottom:60%;\"><span style=\"color:#565656\">Make this Notebook Trusted to load map: File -> Trust Notebook</span><iframe src=\"about:blank\" style=\"position:absolute;width:100%;height:100%;left:0;top:0;border:none !important;\" data-html=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 onload=\"this.contentDocument.open();this.contentDocument.write(atob(this.getAttribute('data-html')));this.contentDocument.close();\" allowfullscreen webkitallowfullscreen mozallowfullscreen></iframe></div></div>"
      ],
      "text/plain": [
       "<folium.folium.Map at 0x1a1e469438>"
      ]
     },
     "execution_count": 137,
     "metadata": {},
     "output_type": "execute_result"
    }
   ],
   "source": [
    "map_clusters = folium.Map(location=[latitude, longitude], zoom_start=11)\n",
    "\n",
    "# set color scheme for the clusters\n",
    "x = np.arange(kclusters)\n",
    "ys = [i + x + (i*x)**2 for i in range(kclusters)]\n",
    "colors_array = cm.rainbow(np.linspace(0, 1, len(ys)))\n",
    "rainbow = [colors.rgb2hex(i) for i in colors_array]\n",
    "\n",
    "# add markers to the map\n",
    "markers_colors = []\n",
    "for lat, lon, cluster in zip(toronto_grouped_clustering['Latitude'], toronto_grouped_clustering['Longitude'], toronto_grouped_clustering['Cluster Labels']):\n",
    "    label = folium.Popup(' Cluster ' + str(cluster), parse_html=True)\n",
    "    folium.CircleMarker(\n",
    "        [lat, lon],\n",
    "        radius=5,\n",
    "        popup=label,\n",
    "        color=rainbow[cluster-1],\n",
    "        fill=True,\n",
    "        fill_color=rainbow[cluster-1],\n",
    "        fill_opacity=0.7).add_to(map_clusters)\n",
    "       \n",
    "map_clusters"
   ]
  }
 ],
 "metadata": {
  "kernelspec": {
   "display_name": "Python 3",
   "language": "python",
   "name": "python3"
  },
  "language_info": {
   "codemirror_mode": {
    "name": "ipython",
    "version": 3
   },
   "file_extension": ".py",
   "mimetype": "text/x-python",
   "name": "python",
   "nbconvert_exporter": "python",
   "pygments_lexer": "ipython3",
   "version": "3.7.3"
  }
 },
 "nbformat": 4,
 "nbformat_minor": 4
}
